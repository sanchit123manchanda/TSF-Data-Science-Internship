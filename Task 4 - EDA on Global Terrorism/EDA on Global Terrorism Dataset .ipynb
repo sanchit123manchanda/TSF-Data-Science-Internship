{
 "cells": [
  {
   "cell_type": "markdown",
   "metadata": {},
   "source": [
    "## Name: Sanchit Manchanda\n",
    "## Task-3 (EDA on Golbal Terrorism Dataset)\n",
    "## #GRIPAPRIL21 "
   ]
  },
  {
   "cell_type": "code",
   "execution_count": 1,
   "metadata": {},
   "outputs": [],
   "source": [
    "import numpy as np\n",
    "import pandas as pd\n",
    "import matplotlib.pyplot as plt\n",
    "import seaborn as sns "
   ]
  },
  {
   "cell_type": "code",
   "execution_count": 2,
   "metadata": {},
   "outputs": [
    {
     "name": "stderr",
     "output_type": "stream",
     "text": [
      "C:\\Users\\Sanchit\\anaconda3\\lib\\site-packages\\IPython\\core\\interactiveshell.py:3146: DtypeWarning: Columns (4,6,31,33,61,62,63,76,79,90,92,94,96,114,115,121) have mixed types.Specify dtype option on import or set low_memory=False.\n",
      "  has_raised = await self.run_ast_nodes(code_ast.body, cell_name,\n"
     ]
    }
   ],
   "source": [
    "terrorism_data = pd.read_csv('globalterrorism.csv',encoding = 'latin1')"
   ]
  },
  {
   "cell_type": "code",
   "execution_count": 3,
   "metadata": {},
   "outputs": [
    {
     "data": {
      "text/html": [
       "<div>\n",
       "<style scoped>\n",
       "    .dataframe tbody tr th:only-of-type {\n",
       "        vertical-align: middle;\n",
       "    }\n",
       "\n",
       "    .dataframe tbody tr th {\n",
       "        vertical-align: top;\n",
       "    }\n",
       "\n",
       "    .dataframe thead th {\n",
       "        text-align: right;\n",
       "    }\n",
       "</style>\n",
       "<table border=\"1\" class=\"dataframe\">\n",
       "  <thead>\n",
       "    <tr style=\"text-align: right;\">\n",
       "      <th></th>\n",
       "      <th>eventid</th>\n",
       "      <th>iyear</th>\n",
       "      <th>imonth</th>\n",
       "      <th>iday</th>\n",
       "      <th>approxdate</th>\n",
       "      <th>extended</th>\n",
       "      <th>resolution</th>\n",
       "      <th>country</th>\n",
       "      <th>country_txt</th>\n",
       "      <th>region</th>\n",
       "      <th>...</th>\n",
       "      <th>addnotes</th>\n",
       "      <th>scite1</th>\n",
       "      <th>scite2</th>\n",
       "      <th>scite3</th>\n",
       "      <th>dbsource</th>\n",
       "      <th>INT_LOG</th>\n",
       "      <th>INT_IDEO</th>\n",
       "      <th>INT_MISC</th>\n",
       "      <th>INT_ANY</th>\n",
       "      <th>related</th>\n",
       "    </tr>\n",
       "  </thead>\n",
       "  <tbody>\n",
       "    <tr>\n",
       "      <th>0</th>\n",
       "      <td>197000000001</td>\n",
       "      <td>1970</td>\n",
       "      <td>7</td>\n",
       "      <td>2</td>\n",
       "      <td>NaN</td>\n",
       "      <td>0</td>\n",
       "      <td>NaN</td>\n",
       "      <td>58</td>\n",
       "      <td>Dominican Republic</td>\n",
       "      <td>2</td>\n",
       "      <td>...</td>\n",
       "      <td>NaN</td>\n",
       "      <td>NaN</td>\n",
       "      <td>NaN</td>\n",
       "      <td>NaN</td>\n",
       "      <td>PGIS</td>\n",
       "      <td>0</td>\n",
       "      <td>0</td>\n",
       "      <td>0</td>\n",
       "      <td>0</td>\n",
       "      <td>NaN</td>\n",
       "    </tr>\n",
       "    <tr>\n",
       "      <th>1</th>\n",
       "      <td>197000000002</td>\n",
       "      <td>1970</td>\n",
       "      <td>0</td>\n",
       "      <td>0</td>\n",
       "      <td>NaN</td>\n",
       "      <td>0</td>\n",
       "      <td>NaN</td>\n",
       "      <td>130</td>\n",
       "      <td>Mexico</td>\n",
       "      <td>1</td>\n",
       "      <td>...</td>\n",
       "      <td>NaN</td>\n",
       "      <td>NaN</td>\n",
       "      <td>NaN</td>\n",
       "      <td>NaN</td>\n",
       "      <td>PGIS</td>\n",
       "      <td>0</td>\n",
       "      <td>1</td>\n",
       "      <td>1</td>\n",
       "      <td>1</td>\n",
       "      <td>NaN</td>\n",
       "    </tr>\n",
       "    <tr>\n",
       "      <th>2</th>\n",
       "      <td>197001000001</td>\n",
       "      <td>1970</td>\n",
       "      <td>1</td>\n",
       "      <td>0</td>\n",
       "      <td>NaN</td>\n",
       "      <td>0</td>\n",
       "      <td>NaN</td>\n",
       "      <td>160</td>\n",
       "      <td>Philippines</td>\n",
       "      <td>5</td>\n",
       "      <td>...</td>\n",
       "      <td>NaN</td>\n",
       "      <td>NaN</td>\n",
       "      <td>NaN</td>\n",
       "      <td>NaN</td>\n",
       "      <td>PGIS</td>\n",
       "      <td>-9</td>\n",
       "      <td>-9</td>\n",
       "      <td>1</td>\n",
       "      <td>1</td>\n",
       "      <td>NaN</td>\n",
       "    </tr>\n",
       "    <tr>\n",
       "      <th>3</th>\n",
       "      <td>197001000002</td>\n",
       "      <td>1970</td>\n",
       "      <td>1</td>\n",
       "      <td>0</td>\n",
       "      <td>NaN</td>\n",
       "      <td>0</td>\n",
       "      <td>NaN</td>\n",
       "      <td>78</td>\n",
       "      <td>Greece</td>\n",
       "      <td>8</td>\n",
       "      <td>...</td>\n",
       "      <td>NaN</td>\n",
       "      <td>NaN</td>\n",
       "      <td>NaN</td>\n",
       "      <td>NaN</td>\n",
       "      <td>PGIS</td>\n",
       "      <td>-9</td>\n",
       "      <td>-9</td>\n",
       "      <td>1</td>\n",
       "      <td>1</td>\n",
       "      <td>NaN</td>\n",
       "    </tr>\n",
       "    <tr>\n",
       "      <th>4</th>\n",
       "      <td>197001000003</td>\n",
       "      <td>1970</td>\n",
       "      <td>1</td>\n",
       "      <td>0</td>\n",
       "      <td>NaN</td>\n",
       "      <td>0</td>\n",
       "      <td>NaN</td>\n",
       "      <td>101</td>\n",
       "      <td>Japan</td>\n",
       "      <td>4</td>\n",
       "      <td>...</td>\n",
       "      <td>NaN</td>\n",
       "      <td>NaN</td>\n",
       "      <td>NaN</td>\n",
       "      <td>NaN</td>\n",
       "      <td>PGIS</td>\n",
       "      <td>-9</td>\n",
       "      <td>-9</td>\n",
       "      <td>1</td>\n",
       "      <td>1</td>\n",
       "      <td>NaN</td>\n",
       "    </tr>\n",
       "  </tbody>\n",
       "</table>\n",
       "<p>5 rows × 135 columns</p>\n",
       "</div>"
      ],
      "text/plain": [
       "        eventid  iyear  imonth  iday approxdate  extended resolution  country  \\\n",
       "0  197000000001   1970       7     2        NaN         0        NaN       58   \n",
       "1  197000000002   1970       0     0        NaN         0        NaN      130   \n",
       "2  197001000001   1970       1     0        NaN         0        NaN      160   \n",
       "3  197001000002   1970       1     0        NaN         0        NaN       78   \n",
       "4  197001000003   1970       1     0        NaN         0        NaN      101   \n",
       "\n",
       "          country_txt  region  ... addnotes scite1 scite2  scite3  dbsource  \\\n",
       "0  Dominican Republic       2  ...      NaN    NaN    NaN     NaN      PGIS   \n",
       "1              Mexico       1  ...      NaN    NaN    NaN     NaN      PGIS   \n",
       "2         Philippines       5  ...      NaN    NaN    NaN     NaN      PGIS   \n",
       "3              Greece       8  ...      NaN    NaN    NaN     NaN      PGIS   \n",
       "4               Japan       4  ...      NaN    NaN    NaN     NaN      PGIS   \n",
       "\n",
       "   INT_LOG  INT_IDEO INT_MISC INT_ANY  related  \n",
       "0        0         0        0       0      NaN  \n",
       "1        0         1        1       1      NaN  \n",
       "2       -9        -9        1       1      NaN  \n",
       "3       -9        -9        1       1      NaN  \n",
       "4       -9        -9        1       1      NaN  \n",
       "\n",
       "[5 rows x 135 columns]"
      ]
     },
     "execution_count": 3,
     "metadata": {},
     "output_type": "execute_result"
    }
   ],
   "source": [
    "terrorism_data.head()"
   ]
  },
  {
   "cell_type": "code",
   "execution_count": 4,
   "metadata": {},
   "outputs": [
    {
     "name": "stdout",
     "output_type": "stream",
     "text": [
      "<class 'pandas.core.frame.DataFrame'>\n",
      "RangeIndex: 181691 entries, 0 to 181690\n",
      "Columns: 135 entries, eventid to related\n",
      "dtypes: float64(55), int64(22), object(58)\n",
      "memory usage: 187.1+ MB\n"
     ]
    }
   ],
   "source": [
    "terrorism_data.info()"
   ]
  },
  {
   "cell_type": "code",
   "execution_count": 5,
   "metadata": {},
   "outputs": [
    {
     "data": {
      "text/plain": [
       "['eventid',\n",
       " 'iyear',\n",
       " 'imonth',\n",
       " 'iday',\n",
       " 'approxdate',\n",
       " 'extended',\n",
       " 'resolution',\n",
       " 'country',\n",
       " 'country_txt',\n",
       " 'region',\n",
       " 'region_txt',\n",
       " 'provstate',\n",
       " 'city',\n",
       " 'latitude',\n",
       " 'longitude',\n",
       " 'specificity',\n",
       " 'vicinity',\n",
       " 'location',\n",
       " 'summary',\n",
       " 'crit1',\n",
       " 'crit2',\n",
       " 'crit3',\n",
       " 'doubtterr',\n",
       " 'alternative',\n",
       " 'alternative_txt',\n",
       " 'multiple',\n",
       " 'success',\n",
       " 'suicide',\n",
       " 'attacktype1',\n",
       " 'attacktype1_txt',\n",
       " 'attacktype2',\n",
       " 'attacktype2_txt',\n",
       " 'attacktype3',\n",
       " 'attacktype3_txt',\n",
       " 'targtype1',\n",
       " 'targtype1_txt',\n",
       " 'targsubtype1',\n",
       " 'targsubtype1_txt',\n",
       " 'corp1',\n",
       " 'target1',\n",
       " 'natlty1',\n",
       " 'natlty1_txt',\n",
       " 'targtype2',\n",
       " 'targtype2_txt',\n",
       " 'targsubtype2',\n",
       " 'targsubtype2_txt',\n",
       " 'corp2',\n",
       " 'target2',\n",
       " 'natlty2',\n",
       " 'natlty2_txt',\n",
       " 'targtype3',\n",
       " 'targtype3_txt',\n",
       " 'targsubtype3',\n",
       " 'targsubtype3_txt',\n",
       " 'corp3',\n",
       " 'target3',\n",
       " 'natlty3',\n",
       " 'natlty3_txt',\n",
       " 'gname',\n",
       " 'gsubname',\n",
       " 'gname2',\n",
       " 'gsubname2',\n",
       " 'gname3',\n",
       " 'gsubname3',\n",
       " 'motive',\n",
       " 'guncertain1',\n",
       " 'guncertain2',\n",
       " 'guncertain3',\n",
       " 'individual',\n",
       " 'nperps',\n",
       " 'nperpcap',\n",
       " 'claimed',\n",
       " 'claimmode',\n",
       " 'claimmode_txt',\n",
       " 'claim2',\n",
       " 'claimmode2',\n",
       " 'claimmode2_txt',\n",
       " 'claim3',\n",
       " 'claimmode3',\n",
       " 'claimmode3_txt',\n",
       " 'compclaim',\n",
       " 'weaptype1',\n",
       " 'weaptype1_txt',\n",
       " 'weapsubtype1',\n",
       " 'weapsubtype1_txt',\n",
       " 'weaptype2',\n",
       " 'weaptype2_txt',\n",
       " 'weapsubtype2',\n",
       " 'weapsubtype2_txt',\n",
       " 'weaptype3',\n",
       " 'weaptype3_txt',\n",
       " 'weapsubtype3',\n",
       " 'weapsubtype3_txt',\n",
       " 'weaptype4',\n",
       " 'weaptype4_txt',\n",
       " 'weapsubtype4',\n",
       " 'weapsubtype4_txt',\n",
       " 'weapdetail',\n",
       " 'nkill',\n",
       " 'nkillus',\n",
       " 'nkillter',\n",
       " 'nwound',\n",
       " 'nwoundus',\n",
       " 'nwoundte',\n",
       " 'property',\n",
       " 'propextent',\n",
       " 'propextent_txt',\n",
       " 'propvalue',\n",
       " 'propcomment',\n",
       " 'ishostkid',\n",
       " 'nhostkid',\n",
       " 'nhostkidus',\n",
       " 'nhours',\n",
       " 'ndays',\n",
       " 'divert',\n",
       " 'kidhijcountry',\n",
       " 'ransom',\n",
       " 'ransomamt',\n",
       " 'ransomamtus',\n",
       " 'ransompaid',\n",
       " 'ransompaidus',\n",
       " 'ransomnote',\n",
       " 'hostkidoutcome',\n",
       " 'hostkidoutcome_txt',\n",
       " 'nreleased',\n",
       " 'addnotes',\n",
       " 'scite1',\n",
       " 'scite2',\n",
       " 'scite3',\n",
       " 'dbsource',\n",
       " 'INT_LOG',\n",
       " 'INT_IDEO',\n",
       " 'INT_MISC',\n",
       " 'INT_ANY',\n",
       " 'related']"
      ]
     },
     "execution_count": 5,
     "metadata": {},
     "output_type": "execute_result"
    }
   ],
   "source": [
    "list(terrorism_data.columns)"
   ]
  },
  {
   "cell_type": "code",
   "execution_count": 6,
   "metadata": {},
   "outputs": [
    {
     "data": {
      "text/plain": [
       "(181691, 135)"
      ]
     },
     "execution_count": 6,
     "metadata": {},
     "output_type": "execute_result"
    }
   ],
   "source": [
    "terrorism_data.shape"
   ]
  },
  {
   "cell_type": "code",
   "execution_count": 7,
   "metadata": {},
   "outputs": [],
   "source": [
    "plt.style.use('seaborn')"
   ]
  },
  {
   "cell_type": "markdown",
   "metadata": {},
   "source": [
    "### No. of Attacks Every Year "
   ]
  },
  {
   "cell_type": "code",
   "execution_count": 8,
   "metadata": {},
   "outputs": [
    {
     "data": {
      "image/png": "[encoded data removed]",
      "text/plain": [
       "<Figure size 720x360 with 1 Axes>"
      ]
     },
     "metadata": {},
     "output_type": "display_data"
    }
   ],
   "source": [
    "plt.figure(figsize = (10,5))\n",
    "plt.xlabel('Year')\n",
    "plt.ylabel('No. of Attacks')\n",
    "plt.xticks(ticks= range(1970,2020,5))\n",
    "plt.plot(terrorism_data['iyear'].value_counts().sort_index())\n",
    "plt.show()"
   ]
  },
  {
   "cell_type": "markdown",
   "metadata": {},
   "source": [
    "### No. of People Deceased Every Year "
   ]
  },
  {
   "cell_type": "code",
   "execution_count": 9,
   "metadata": {},
   "outputs": [
    {
     "data": {
      "text/plain": [
       "[<matplotlib.lines.Line2D at 0x132001325e0>]"
      ]
     },
     "execution_count": 9,
     "metadata": {},
     "output_type": "execute_result"
    },
    {
     "data": {
      "image/png": "[encoded data removed]",
      "text/plain": [
       "<Figure size 720x360 with 1 Axes>"
      ]
     },
     "metadata": {},
     "output_type": "display_data"
    }
   ],
   "source": [
    "plt.figure(figsize = (10,5))\n",
    "plt.xlabel('Year')\n",
    "plt.ylabel('No. of People Killed')\n",
    "plt.xticks(ticks= range(1970,2020,5))\n",
    "plt.yticks(ticks =range(0,50000,5000))\n",
    "plt.plot(terrorism_data.groupby('iyear').sum()['nkill'])"
   ]
  },
  {
   "cell_type": "code",
   "execution_count": 10,
   "metadata": {},
   "outputs": [
    {
     "data": {
      "text/plain": [
       "1970"
      ]
     },
     "execution_count": 10,
     "metadata": {},
     "output_type": "execute_result"
    }
   ],
   "source": [
    "terrorism_data['iyear'].min()"
   ]
  },
  {
   "cell_type": "code",
   "execution_count": 11,
   "metadata": {},
   "outputs": [
    {
     "data": {
      "text/plain": [
       "2017"
      ]
     },
     "execution_count": 11,
     "metadata": {},
     "output_type": "execute_result"
    }
   ],
   "source": [
    "terrorism_data['iyear'].max()"
   ]
  },
  {
   "cell_type": "code",
   "execution_count": 12,
   "metadata": {},
   "outputs": [],
   "source": [
    "cases_per_country = (dict(terrorism_data['country_txt'].value_counts().sort_index()))"
   ]
  },
  {
   "cell_type": "code",
   "execution_count": 13,
   "metadata": {},
   "outputs": [
    {
     "data": {
      "text/plain": [
       "{'Afghanistan': 12731,\n",
       " 'Albania': 80,\n",
       " 'Algeria': 2743,\n",
       " 'Andorra': 1,\n",
       " 'Angola': 499,\n",
       " 'Antigua and Barbuda': 1,\n",
       " 'Argentina': 815,\n",
       " 'Armenia': 24,\n",
       " 'Australia': 114,\n",
       " 'Austria': 115,\n",
       " 'Azerbaijan': 49,\n",
       " 'Bahamas': 5,\n",
       " 'Bahrain': 207,\n",
       " 'Bangladesh': 1648,\n",
       " 'Barbados': 3,\n",
       " 'Belarus': 13,\n",
       " 'Belgium': 154,\n",
       " 'Belize': 8,\n",
       " 'Benin': 8,\n",
       " 'Bhutan': 6,\n",
       " 'Bolivia': 314,\n",
       " 'Bosnia-Herzegovina': 159,\n",
       " 'Botswana': 10,\n",
       " 'Brazil': 273,\n",
       " 'Brunei': 6,\n",
       " 'Bulgaria': 52,\n",
       " 'Burkina Faso': 52,\n",
       " 'Burundi': 613,\n",
       " 'Cambodia': 259,\n",
       " 'Cameroon': 332,\n",
       " 'Canada': 96,\n",
       " 'Central African Republic': 283,\n",
       " 'Chad': 91,\n",
       " 'Chile': 2365,\n",
       " 'China': 252,\n",
       " 'Colombia': 8306,\n",
       " 'Comoros': 5,\n",
       " 'Costa Rica': 67,\n",
       " 'Croatia': 57,\n",
       " 'Cuba': 30,\n",
       " 'Cyprus': 132,\n",
       " 'Czech Republic': 32,\n",
       " 'Czechoslovakia': 10,\n",
       " 'Democratic Republic of the Congo': 775,\n",
       " 'Denmark': 41,\n",
       " 'Djibouti': 22,\n",
       " 'Dominica': 3,\n",
       " 'Dominican Republic': 90,\n",
       " 'East Germany (GDR)': 38,\n",
       " 'East Timor': 10,\n",
       " 'Ecuador': 220,\n",
       " 'Egypt': 2479,\n",
       " 'El Salvador': 5320,\n",
       " 'Equatorial Guinea': 2,\n",
       " 'Eritrea': 10,\n",
       " 'Estonia': 16,\n",
       " 'Ethiopia': 190,\n",
       " 'Falkland Islands': 1,\n",
       " 'Fiji': 17,\n",
       " 'Finland': 20,\n",
       " 'France': 2693,\n",
       " 'French Guiana': 7,\n",
       " 'French Polynesia': 3,\n",
       " 'Gabon': 8,\n",
       " 'Gambia': 3,\n",
       " 'Georgia': 217,\n",
       " 'Germany': 735,\n",
       " 'Ghana': 19,\n",
       " 'Greece': 1275,\n",
       " 'Grenada': 5,\n",
       " 'Guadeloupe': 56,\n",
       " 'Guatemala': 2050,\n",
       " 'Guinea': 25,\n",
       " 'Guinea-Bissau': 9,\n",
       " 'Guyana': 26,\n",
       " 'Haiti': 213,\n",
       " 'Honduras': 323,\n",
       " 'Hong Kong': 26,\n",
       " 'Hungary': 46,\n",
       " 'Iceland': 4,\n",
       " 'India': 11960,\n",
       " 'Indonesia': 761,\n",
       " 'International': 1,\n",
       " 'Iran': 684,\n",
       " 'Iraq': 24636,\n",
       " 'Ireland': 307,\n",
       " 'Israel': 2183,\n",
       " 'Italy': 1565,\n",
       " 'Ivory Coast': 74,\n",
       " 'Jamaica': 36,\n",
       " 'Japan': 402,\n",
       " 'Jordan': 113,\n",
       " 'Kazakhstan': 27,\n",
       " 'Kenya': 683,\n",
       " 'Kosovo': 196,\n",
       " 'Kuwait': 76,\n",
       " 'Kyrgyzstan': 35,\n",
       " 'Laos': 27,\n",
       " 'Latvia': 17,\n",
       " 'Lebanon': 2478,\n",
       " 'Lesotho': 29,\n",
       " 'Liberia': 34,\n",
       " 'Libya': 2249,\n",
       " 'Lithuania': 8,\n",
       " 'Luxembourg': 16,\n",
       " 'Macau': 33,\n",
       " 'Macedonia': 118,\n",
       " 'Madagascar': 27,\n",
       " 'Malawi': 5,\n",
       " 'Malaysia': 99,\n",
       " 'Maldives': 22,\n",
       " 'Mali': 566,\n",
       " 'Malta': 23,\n",
       " 'Martinique': 12,\n",
       " 'Mauritania': 18,\n",
       " 'Mauritius': 2,\n",
       " 'Mexico': 524,\n",
       " 'Moldova': 21,\n",
       " 'Montenegro': 5,\n",
       " 'Morocco': 36,\n",
       " 'Mozambique': 363,\n",
       " 'Myanmar': 546,\n",
       " 'Namibia': 151,\n",
       " 'Nepal': 1215,\n",
       " 'Netherlands': 130,\n",
       " 'New Caledonia': 31,\n",
       " 'New Hebrides': 1,\n",
       " 'New Zealand': 20,\n",
       " 'Nicaragua': 1970,\n",
       " 'Niger': 154,\n",
       " 'Nigeria': 3907,\n",
       " 'North Korea': 1,\n",
       " 'North Yemen': 6,\n",
       " 'Norway': 19,\n",
       " 'Pakistan': 14368,\n",
       " 'Panama': 127,\n",
       " 'Papua New Guinea': 89,\n",
       " 'Paraguay': 114,\n",
       " \"People's Republic of the Congo\": 4,\n",
       " 'Peru': 6096,\n",
       " 'Philippines': 6908,\n",
       " 'Poland': 39,\n",
       " 'Portugal': 140,\n",
       " 'Qatar': 7,\n",
       " 'Republic of the Congo': 36,\n",
       " 'Rhodesia': 83,\n",
       " 'Romania': 6,\n",
       " 'Russia': 2194,\n",
       " 'Rwanda': 159,\n",
       " 'Saudi Arabia': 371,\n",
       " 'Senegal': 118,\n",
       " 'Serbia': 12,\n",
       " 'Serbia-Montenegro': 11,\n",
       " 'Seychelles': 2,\n",
       " 'Sierra Leone': 101,\n",
       " 'Singapore': 7,\n",
       " 'Slovak Republic': 18,\n",
       " 'Slovenia': 6,\n",
       " 'Solomon Islands': 4,\n",
       " 'Somalia': 4142,\n",
       " 'South Africa': 2016,\n",
       " 'South Korea': 38,\n",
       " 'South Sudan': 225,\n",
       " 'South Vietnam': 1,\n",
       " 'South Yemen': 2,\n",
       " 'Soviet Union': 78,\n",
       " 'Spain': 3249,\n",
       " 'Sri Lanka': 3022,\n",
       " 'St. Kitts and Nevis': 2,\n",
       " 'St. Lucia': 1,\n",
       " 'Sudan': 967,\n",
       " 'Suriname': 66,\n",
       " 'Swaziland': 16,\n",
       " 'Sweden': 132,\n",
       " 'Switzerland': 111,\n",
       " 'Syria': 2201,\n",
       " 'Taiwan': 50,\n",
       " 'Tajikistan': 188,\n",
       " 'Tanzania': 59,\n",
       " 'Thailand': 3849,\n",
       " 'Togo': 48,\n",
       " 'Trinidad and Tobago': 22,\n",
       " 'Tunisia': 109,\n",
       " 'Turkey': 4292,\n",
       " 'Turkmenistan': 2,\n",
       " 'Uganda': 394,\n",
       " 'Ukraine': 1709,\n",
       " 'United Arab Emirates': 22,\n",
       " 'United Kingdom': 5235,\n",
       " 'United States': 2836,\n",
       " 'Uruguay': 82,\n",
       " 'Uzbekistan': 21,\n",
       " 'Vanuatu': 2,\n",
       " 'Vatican City': 1,\n",
       " 'Venezuela': 293,\n",
       " 'Vietnam': 12,\n",
       " 'Wallis and Futuna': 1,\n",
       " 'West Bank and Gaza Strip': 2227,\n",
       " 'West Germany (FRG)': 541,\n",
       " 'Western Sahara': 5,\n",
       " 'Yemen': 3347,\n",
       " 'Yugoslavia': 203,\n",
       " 'Zaire': 50,\n",
       " 'Zambia': 62,\n",
       " 'Zimbabwe': 101}"
      ]
     },
     "execution_count": 13,
     "metadata": {},
     "output_type": "execute_result"
    }
   ],
   "source": [
    "cases_per_country"
   ]
  },
  {
   "cell_type": "markdown",
   "metadata": {},
   "source": [
    "### Top 20 countries with most number of Attacks"
   ]
  },
  {
   "cell_type": "code",
   "execution_count": 14,
   "metadata": {},
   "outputs": [
    {
     "data": {
      "text/plain": [
       "Iraq              24636\n",
       "Pakistan          14368\n",
       "Afghanistan       12731\n",
       "India             11960\n",
       "Colombia           8306\n",
       "Philippines        6908\n",
       "Peru               6096\n",
       "El Salvador        5320\n",
       "United Kingdom     5235\n",
       "Turkey             4292\n",
       "Somalia            4142\n",
       "Nigeria            3907\n",
       "Thailand           3849\n",
       "Yemen              3347\n",
       "Spain              3249\n",
       "Sri Lanka          3022\n",
       "United States      2836\n",
       "Algeria            2743\n",
       "France             2693\n",
       "Egypt              2479\n",
       "Name: country_txt, dtype: int64"
      ]
     },
     "execution_count": 14,
     "metadata": {},
     "output_type": "execute_result"
    }
   ],
   "source": [
    "terrorism_data['country_txt'].value_counts()[:20]"
   ]
  },
  {
   "cell_type": "markdown",
   "metadata": {},
   "source": [
    "### Years with most number of attacks "
   ]
  },
  {
   "cell_type": "code",
   "execution_count": 15,
   "metadata": {},
   "outputs": [
    {
     "data": {
      "text/plain": [
       "2014    16903\n",
       "2015    14965\n",
       "2016    13587\n",
       "2013    12036\n",
       "2017    10900\n",
       "2012     8522\n",
       "2011     5076\n",
       "1992     5071\n",
       "2010     4826\n",
       "2008     4805\n",
       "2009     4721\n",
       "1991     4683\n",
       "1989     4324\n",
       "1990     3887\n",
       "1988     3721\n",
       "1984     3495\n",
       "1994     3456\n",
       "2007     3242\n",
       "1997     3197\n",
       "1987     3183\n",
       "1995     3081\n",
       "1996     3058\n",
       "1985     2915\n",
       "1983     2870\n",
       "1986     2860\n",
       "2006     2758\n",
       "1979     2662\n",
       "1980     2662\n",
       "1981     2586\n",
       "1982     2544\n",
       "2005     2017\n",
       "2001     1906\n",
       "2000     1814\n",
       "1978     1526\n",
       "1999     1395\n",
       "2002     1333\n",
       "1977     1319\n",
       "2003     1278\n",
       "2004     1166\n",
       "1998      934\n",
       "1976      923\n",
       "1975      740\n",
       "1970      651\n",
       "1974      581\n",
       "1972      568\n",
       "1973      473\n",
       "1971      471\n",
       "Name: iyear, dtype: int64"
      ]
     },
     "execution_count": 15,
     "metadata": {},
     "output_type": "execute_result"
    }
   ],
   "source": [
    "terrorism_data['iyear'].value_counts()"
   ]
  },
  {
   "cell_type": "markdown",
   "metadata": {},
   "source": [
    "### Top 30 Most Attacked Cities "
   ]
  },
  {
   "cell_type": "code",
   "execution_count": 16,
   "metadata": {},
   "outputs": [
    {
     "data": {
      "text/plain": [
       "Baghdad           7589\n",
       "Karachi           2652\n",
       "Lima              2359\n",
       "Mosul             2265\n",
       "Belfast           2171\n",
       "Santiago          1621\n",
       "Mogadishu         1581\n",
       "San Salvador      1558\n",
       "Istanbul          1048\n",
       "Athens            1019\n",
       "Bogota             984\n",
       "Kirkuk             925\n",
       "Beirut             918\n",
       "Medellin           848\n",
       "Benghazi           840\n",
       "Peshawar           819\n",
       "Quetta             803\n",
       "Guatemala City     755\n",
       "Baqubah            745\n",
       "Kabul              738\n",
       "Srinagar           658\n",
       "Jerusalem          636\n",
       "Paris              612\n",
       "Fallujah           582\n",
       "Tripoli            565\n",
       "Dhaka              557\n",
       "Rome               551\n",
       "Arish              521\n",
       "Ramadi             509\n",
       "Name: city, dtype: int64"
      ]
     },
     "execution_count": 16,
     "metadata": {},
     "output_type": "execute_result"
    }
   ],
   "source": [
    "terrorism_data['city'].value_counts()[1:30]"
   ]
  },
  {
   "cell_type": "markdown",
   "metadata": {},
   "source": [
    "### Top most Vulnerable Regions "
   ]
  },
  {
   "cell_type": "code",
   "execution_count": 17,
   "metadata": {},
   "outputs": [
    {
     "data": {
      "text/plain": [
       "Middle East & North Africa     50474\n",
       "South Asia                     44974\n",
       "South America                  18978\n",
       "Sub-Saharan Africa             17550\n",
       "Western Europe                 16639\n",
       "Southeast Asia                 12485\n",
       "Central America & Caribbean    10344\n",
       "Eastern Europe                  5144\n",
       "North America                   3456\n",
       "East Asia                        802\n",
       "Central Asia                     563\n",
       "Australasia & Oceania            282\n",
       "Name: region_txt, dtype: int64"
      ]
     },
     "execution_count": 17,
     "metadata": {},
     "output_type": "execute_result"
    }
   ],
   "source": [
    "(terrorism_data['region_txt'].value_counts())"
   ]
  },
  {
   "cell_type": "markdown",
   "metadata": {},
   "source": [
    "### Most Attacked Locations "
   ]
  },
  {
   "cell_type": "code",
   "execution_count": 18,
   "metadata": {},
   "outputs": [
    {
     "data": {
      "text/plain": [
       "The attack took place in Baghdad, Baghdad, Iraq.                                142\n",
       "Belfast (Capital City)                                                           98\n",
       "The incident occurred at the Donetsk Sergey Prokofiev International Airport.     62\n",
       "Manhattan                                                                        60\n",
       "The attack took place in Mosul, Ninawa, Iraq.                                    51\n",
       "The incident occurred in the Balad Ruz district.                                 48\n",
       "The incident occurred in the Shaab area of Adhamiyah neighborhood                40\n",
       "The attack took place in Kirkuk, At Ta'mim, Iraq.                                39\n",
       "The incident occurred in the Al-Faris district.                                  39\n",
       "The incident occurred in the Hayy ath-Thawrah neighborhood.                      38\n",
       "The incident occurred in the Abu Ghraib district.                                35\n",
       "Londonderry (County)                                                             33\n",
       "The incident occurred in Bajaur district.                                        32\n",
       "The incident occurred in the Mahawil district.                                   31\n",
       "The attack took place in Mosul.                                                  30\n",
       "The incident occurred in the Muqdadiyah district.                                30\n",
       "The attack took place in Baghdad.                                                30\n",
       "The incident occurred in Mohmand district.                                       29\n",
       "The incident occurred in the Sadr City neighborhood                              28\n",
       "The incident occurred in the Sadr City neighborhood.                             28\n",
       "In the city                                                                      27\n",
       "The incident occurred in the Amil area of Rasheed neighborhood                   27\n",
       "The incident occurred in Nasirabad district.                                     27\n",
       "The incident occurred in Kurram district.                                        27\n",
       "The incident occurred in the Pulwama district.                                   26\n",
       "The incident occurred in the Hit district.                                       26\n",
       "The incident occurred in the western part of the city.                           26\n",
       "The incident occurred in Wardhigley district of Mogadishu.                       25\n",
       "County Antrim                                                                    25\n",
       "The incident occurred in the Eshkol regional council                             24\n",
       "The incident occurred in the Abu Disheer area of Rasheed neighborhood            24\n",
       "The incident occurred in the Rasheed neighborhood.                               24\n",
       "The incident occurred in Dera Bugti district.                                    24\n",
       "The incident occurred in the Dora neighborhood.                                  24\n",
       "The incident occurred in the Shopian district.                                   24\n",
       "The attack took place in Ba'quba, Diyala, Iraq.                                  24\n",
       "The incident occurred in Kech district.                                          23\n",
       "The incident occurred in the Kifri district.                                     23\n",
       "The incident occurred in the Bayaa area of Rasheed neighborhood                  23\n",
       "The incident occurred in Maungdaw township.                                      23\n",
       "The incident occurred in the Ramadi district.                                    23\n",
       "The incident occurred in the Zahra neighborhood.                                 22\n",
       "The incident occurred in the Askari neighborhood                                 22\n",
       "The incident occurred in Bijapur district.                                       22\n",
       "The incident occurred in the Old City neighborhood.                              21\n",
       "The incident occurred in the Waberi neighborhood.                                21\n",
       "The incident took place in the Sadr City area.                                   21\n",
       "Incident occurred in the Orangi Town area of the city.                           21\n",
       "Name: location, dtype: int64"
      ]
     },
     "execution_count": 18,
     "metadata": {},
     "output_type": "execute_result"
    }
   ],
   "source": [
    "terrorism_data['location'].value_counts()[terrorism_data['location'].value_counts() > 20]"
   ]
  },
  {
   "cell_type": "markdown",
   "metadata": {},
   "source": [
    "### Most  Common Attack Types "
   ]
  },
  {
   "cell_type": "code",
   "execution_count": 19,
   "metadata": {},
   "outputs": [
    {
     "data": {
      "text/plain": [
       "Bombing/Explosion                      88255\n",
       "Armed Assault                          42669\n",
       "Assassination                          19312\n",
       "Hostage Taking (Kidnapping)            11158\n",
       "Facility/Infrastructure Attack         10356\n",
       "Unknown                                 7276\n",
       "Unarmed Assault                         1015\n",
       "Hostage Taking (Barricade Incident)      991\n",
       "Hijacking                                659\n",
       "Name: attacktype1_txt, dtype: int64"
      ]
     },
     "execution_count": 19,
     "metadata": {},
     "output_type": "execute_result"
    }
   ],
   "source": [
    "(terrorism_data['attacktype1_txt'].value_counts())"
   ]
  },
  {
   "cell_type": "markdown",
   "metadata": {},
   "source": [
    "###  Most Attacked Targets "
   ]
  },
  {
   "cell_type": "code",
   "execution_count": 20,
   "metadata": {},
   "outputs": [
    {
     "data": {
      "text/plain": [
       "Private Citizens & Property       43511\n",
       "Military                          27984\n",
       "Police                            24506\n",
       "Government (General)              21283\n",
       "Business                          20669\n",
       "Transportation                     6799\n",
       "Utilities                          6023\n",
       "Unknown                            5898\n",
       "Religious Figures/Institutions     4440\n",
       "Educational Institution            4322\n",
       "Government (Diplomatic)            3573\n",
       "Terrorists/Non-State Militia       3039\n",
       "Journalists & Media                2948\n",
       "Violent Political Party            1866\n",
       "Airports & Aircraft                1343\n",
       "Telecommunication                  1009\n",
       "NGO                                 970\n",
       "Tourists                            440\n",
       "Maritime                            351\n",
       "Food or Water Supply                317\n",
       "Abortion Related                    263\n",
       "Other                               137\n",
       "Name: targtype1_txt, dtype: int64"
      ]
     },
     "execution_count": 20,
     "metadata": {},
     "output_type": "execute_result"
    }
   ],
   "source": [
    "(terrorism_data['targtype1_txt'].value_counts())"
   ]
  },
  {
   "cell_type": "markdown",
   "metadata": {},
   "source": [
    "###  List of Terrroist Groups with more than 500 attacks "
   ]
  },
  {
   "cell_type": "code",
   "execution_count": 21,
   "metadata": {},
   "outputs": [
    {
     "data": {
      "text/plain": [
       "Unknown                                             82782\n",
       "Taliban                                              7478\n",
       "Islamic State of Iraq and the Levant (ISIL)          5613\n",
       "Shining Path (SL)                                    4555\n",
       "Farabundo Marti National Liberation Front (FMLN)     3351\n",
       "Al-Shabaab                                           3288\n",
       "New People's Army (NPA)                              2772\n",
       "Irish Republican Army (IRA)                          2671\n",
       "Revolutionary Armed Forces of Colombia (FARC)        2487\n",
       "Boko Haram                                           2418\n",
       "Kurdistan Workers' Party (PKK)                       2310\n",
       "Basque Fatherland and Freedom (ETA)                  2024\n",
       "Communist Party of India - Maoist (CPI-Maoist)       1878\n",
       "Maoists                                              1630\n",
       "Liberation Tigers of Tamil Eelam (LTTE)              1606\n",
       "National Liberation Army of Colombia (ELN)           1561\n",
       "Tehrik-i-Taliban Pakistan (TTP)                      1351\n",
       "Palestinians                                         1125\n",
       "Houthi extremists (Ansar Allah)                      1062\n",
       "Al-Qaida in the Arabian Peninsula (AQAP)             1020\n",
       "Nicaraguan Democratic Force (FDN)                     895\n",
       "Manuel Rodriguez Patriotic Front (FPMR)               830\n",
       "Sikh Extremists                                       716\n",
       "Corsican National Liberation Front (FLNC)             639\n",
       "Al-Qaida in Iraq                                      638\n",
       "Muslim extremists                                     632\n",
       "Donetsk People's Republic                             624\n",
       "African National Congress (South Africa)              607\n",
       "Separatists                                           589\n",
       "Tupac Amaru Revolutionary Movement (MRTA)             557\n",
       "M-19 (Movement of April 19)                           555\n",
       "Abu Sayyaf Group (ASG)                                527\n",
       "Fulani extremists                                     511\n",
       "Name: gname, dtype: int64"
      ]
     },
     "execution_count": 21,
     "metadata": {},
     "output_type": "execute_result"
    }
   ],
   "source": [
    "terrorism_data['gname'].value_counts()[terrorism_data['gname'].value_counts()> 500]"
   ]
  },
  {
   "cell_type": "markdown",
   "metadata": {},
   "source": [
    "### Most weapon Types Used for Attacks "
   ]
  },
  {
   "cell_type": "code",
   "execution_count": 22,
   "metadata": {},
   "outputs": [
    {
     "data": {
      "text/plain": [
       "Unknown Explosive Type                       44980\n",
       "Unknown Gun Type                             33137\n",
       "Automatic or Semi-Automatic Rifle            17412\n",
       "Vehicle                                       9900\n",
       "Projectile (rockets, mortars, RPGs, etc.)     9848\n",
       "Other Explosive Type                          7304\n",
       "Handgun                                       6704\n",
       "Grenade                                       5167\n",
       "Landmine                                      4251\n",
       "Arson/Fire                                    4141\n",
       "Suicide (carried bodily by human being)       3245\n",
       "Remote Trigger                                2719\n",
       "Knife or Other Sharp Object                   2585\n",
       "Sticky Bomb                                   1594\n",
       "Molotov Cocktail/Petrol Bomb                  1239\n",
       "Dynamite/TNT                                  1222\n",
       "Rifle/Shotgun (non-automatic)                 1175\n",
       "Gasoline or Alcohol                            844\n",
       "Time Fuse                                      792\n",
       "Pipe Bomb                                      625\n",
       "Blunt Object                                   587\n",
       "Letter Bomb                                    548\n",
       "Hands, Feet, Fists                             231\n",
       "Pressure Trigger                               219\n",
       "Unknown Weapon Type                            107\n",
       "Rope or Other Strangling Device                103\n",
       "Other Gun Type                                  86\n",
       "Poisoning                                       83\n",
       "Explosive                                       65\n",
       "Suffocation                                     10\n",
       "Name: weapsubtype1_txt, dtype: int64"
      ]
     },
     "execution_count": 22,
     "metadata": {},
     "output_type": "execute_result"
    }
   ],
   "source": [
    "terrorism_data['weapsubtype1_txt'].value_counts()"
   ]
  },
  {
   "cell_type": "markdown",
   "metadata": {},
   "source": [
    "### Most Active Terrorist Group "
   ]
  },
  {
   "cell_type": "code",
   "execution_count": 23,
   "metadata": {},
   "outputs": [
    {
     "data": {
      "text/plain": [
       "gname\n",
       "Islamic State of Iraq and the Levant (ISIL)         38923\n",
       "Taliban                                             29410\n",
       "Boko Haram                                          20328\n",
       "Shining Path (SL)                                   11601\n",
       "Liberation Tigers of Tamil Eelam (LTTE)             10989\n",
       "Al-Shabaab                                           9330\n",
       "Farabundo Marti National Liberation Front (FMLN)     8065\n",
       "Nicaraguan Democratic Force (FDN)                    6662\n",
       "Tehrik-i-Taliban Pakistan (TTP)                      6042\n",
       "Revolutionary Armed Forces of Colombia (FARC)        5661\n",
       "Kurdistan Workers' Party (PKK)                       4955\n",
       "New People's Army (NPA)                              4386\n",
       "Al-Qaida in Iraq                                     4381\n",
       "Hutu extremists                                      4102\n",
       "Al-Qaida                                             3860\n",
       "Al-Qaida in the Arabian Peninsula (AQAP)             3565\n",
       "Lord's Resistance Army (LRA)                         3123\n",
       "Fulani extremists                                    3083\n",
       "Houthi extremists (Ansar Allah)                      3050\n",
       "Name: nkill, dtype: int32"
      ]
     },
     "execution_count": 23,
     "metadata": {},
     "output_type": "execute_result"
    }
   ],
   "source": [
    "terrorism_data.groupby('gname').sum()['nkill'].astype(int).sort_values(ascending = False)[1:20]"
   ]
  },
  {
   "cell_type": "markdown",
   "metadata": {},
   "source": [
    "### Countries with Most number of People Killed "
   ]
  },
  {
   "cell_type": "code",
   "execution_count": 24,
   "metadata": {},
   "outputs": [
    {
     "data": {
      "text/plain": [
       "country_txt\n",
       "Iraq                                78589\n",
       "Afghanistan                         39384\n",
       "Pakistan                            23822\n",
       "Nigeria                             22682\n",
       "India                               19341\n",
       "Sri Lanka                           15530\n",
       "Syria                               15229\n",
       "Colombia                            14698\n",
       "Peru                                12771\n",
       "El Salvador                         12053\n",
       "Algeria                             11066\n",
       "Nicaragua                           10598\n",
       "Somalia                             10273\n",
       "Philippines                          9559\n",
       "Yemen                                8776\n",
       "Turkey                               6888\n",
       "Guatemala                            5167\n",
       "Russia                               4308\n",
       "Burundi                              4205\n",
       "Democratic Republic of the Congo     4069\n",
       "Name: nkill, dtype: int32"
      ]
     },
     "execution_count": 24,
     "metadata": {},
     "output_type": "execute_result"
    }
   ],
   "source": [
    "terrorism_data.groupby('country_txt').sum()['nkill'].astype(int).sort_values(ascending = False)[:20]"
   ]
  },
  {
   "cell_type": "markdown",
   "metadata": {},
   "source": [
    "### Data by Decade "
   ]
  },
  {
   "cell_type": "code",
   "execution_count": 25,
   "metadata": {},
   "outputs": [],
   "source": [
    "def year_to_decade(yr):\n",
    "    \n",
    "    if yr in range(1970,1980):\n",
    "        return '1970-80'\n",
    "    if yr in range(1980,1990):\n",
    "        return '1980-90'\n",
    "    if yr in range(1990,2000):\n",
    "        return '1990-2000'\n",
    "    if yr in range(2000,2010):\n",
    "        return '2000-10'\n",
    "    if yr in range(2010,2020):\n",
    "        return '2010-20'"
   ]
  },
  {
   "cell_type": "code",
   "execution_count": 26,
   "metadata": {},
   "outputs": [],
   "source": [
    "terrorism_data['decade'] = terrorism_data['iyear'].apply(lambda x: year_to_decade(x))"
   ]
  },
  {
   "cell_type": "markdown",
   "metadata": {},
   "source": [
    "####  Attacks Every Decade "
   ]
  },
  {
   "cell_type": "code",
   "execution_count": 27,
   "metadata": {},
   "outputs": [
    {
     "data": {
      "text/plain": [
       "1970-80       9914\n",
       "1980-90      31160\n",
       "1990-2000    28762\n",
       "2000-10      25040\n",
       "2010-20      86815\n",
       "Name: decade, dtype: int64"
      ]
     },
     "execution_count": 27,
     "metadata": {},
     "output_type": "execute_result"
    }
   ],
   "source": [
    "terrorism_data['decade'].value_counts().sort_index()"
   ]
  },
  {
   "cell_type": "code",
   "execution_count": 28,
   "metadata": {},
   "outputs": [
    {
     "data": {
      "image/png": "[encoded data removed]",
      "text/plain": [
       "<Figure size 576x396 with 1 Axes>"
      ]
     },
     "metadata": {},
     "output_type": "display_data"
    }
   ],
   "source": [
    "plt.bar(terrorism_data['decade'].value_counts().sort_index().index,terrorism_data['decade'].value_counts().sort_index())\n",
    "plt.xlabel('Decade')\n",
    "plt.ylabel('No. of Attacks')\n",
    "plt.show()"
   ]
  },
  {
   "cell_type": "markdown",
   "metadata": {},
   "source": [
    "#### People Killed Every Decade "
   ]
  },
  {
   "cell_type": "code",
   "execution_count": 29,
   "metadata": {},
   "outputs": [
    {
     "data": {
      "text/plain": [
       "decade\n",
       "1970-80        7128\n",
       "1980-90       68193\n",
       "1990-2000     65083\n",
       "2000-10       72962\n",
       "2010-20      198502\n",
       "Name: nkill, dtype: int32"
      ]
     },
     "execution_count": 29,
     "metadata": {},
     "output_type": "execute_result"
    }
   ],
   "source": [
    "terrorism_data.groupby('decade').sum()['nkill'].astype(int)"
   ]
  },
  {
   "cell_type": "code",
   "execution_count": 30,
   "metadata": {},
   "outputs": [
    {
     "data": {
      "image/png": "[encoded data removed]",
      "text/plain": [
       "<Figure size 576x396 with 1 Axes>"
      ]
     },
     "metadata": {},
     "output_type": "display_data"
    }
   ],
   "source": [
    "plt.bar(terrorism_data.groupby('decade').sum()['nkill'].astype(int).index, terrorism_data.groupby('decade').sum()['nkill'].astype(int))\n",
    "plt.xlabel('Decade')\n",
    "plt.ylabel('No. of People Deceased')\n",
    "plt.show()"
   ]
  },
  {
   "cell_type": "markdown",
   "metadata": {},
   "source": [
    "## Analysis for India "
   ]
  },
  {
   "cell_type": "code",
   "execution_count": 31,
   "metadata": {},
   "outputs": [
    {
     "data": {
      "text/html": [
       "<div>\n",
       "<style scoped>\n",
       "    .dataframe tbody tr th:only-of-type {\n",
       "        vertical-align: middle;\n",
       "    }\n",
       "\n",
       "    .dataframe tbody tr th {\n",
       "        vertical-align: top;\n",
       "    }\n",
       "\n",
       "    .dataframe thead th {\n",
       "        text-align: right;\n",
       "    }\n",
       "</style>\n",
       "<table border=\"1\" class=\"dataframe\">\n",
       "  <thead>\n",
       "    <tr style=\"text-align: right;\">\n",
       "      <th></th>\n",
       "      <th>eventid</th>\n",
       "      <th>iyear</th>\n",
       "      <th>imonth</th>\n",
       "      <th>iday</th>\n",
       "      <th>approxdate</th>\n",
       "      <th>extended</th>\n",
       "      <th>resolution</th>\n",
       "      <th>country</th>\n",
       "      <th>country_txt</th>\n",
       "      <th>region</th>\n",
       "      <th>...</th>\n",
       "      <th>scite1</th>\n",
       "      <th>scite2</th>\n",
       "      <th>scite3</th>\n",
       "      <th>dbsource</th>\n",
       "      <th>INT_LOG</th>\n",
       "      <th>INT_IDEO</th>\n",
       "      <th>INT_MISC</th>\n",
       "      <th>INT_ANY</th>\n",
       "      <th>related</th>\n",
       "      <th>decade</th>\n",
       "    </tr>\n",
       "  </thead>\n",
       "  <tbody>\n",
       "    <tr>\n",
       "      <th>1186</th>\n",
       "      <td>197202220004</td>\n",
       "      <td>1972</td>\n",
       "      <td>2</td>\n",
       "      <td>22</td>\n",
       "      <td>NaN</td>\n",
       "      <td>0</td>\n",
       "      <td>NaN</td>\n",
       "      <td>92</td>\n",
       "      <td>India</td>\n",
       "      <td>6</td>\n",
       "      <td>...</td>\n",
       "      <td>NaN</td>\n",
       "      <td>NaN</td>\n",
       "      <td>NaN</td>\n",
       "      <td>Hijacking DB</td>\n",
       "      <td>1</td>\n",
       "      <td>1</td>\n",
       "      <td>1</td>\n",
       "      <td>1</td>\n",
       "      <td>NaN</td>\n",
       "      <td>1970-80</td>\n",
       "    </tr>\n",
       "    <tr>\n",
       "      <th>2764</th>\n",
       "      <td>197501190004</td>\n",
       "      <td>1975</td>\n",
       "      <td>1</td>\n",
       "      <td>2</td>\n",
       "      <td>NaN</td>\n",
       "      <td>0</td>\n",
       "      <td>NaN</td>\n",
       "      <td>92</td>\n",
       "      <td>India</td>\n",
       "      <td>6</td>\n",
       "      <td>...</td>\n",
       "      <td>\"Leaders of India Irate at Killing: Death of A...</td>\n",
       "      <td>Dhananjay Mahapatra, \"SC: Why has LN Mishra mu...</td>\n",
       "      <td>NaN</td>\n",
       "      <td>UMD Encyclopedia of World Terrorism 2012</td>\n",
       "      <td>0</td>\n",
       "      <td>0</td>\n",
       "      <td>0</td>\n",
       "      <td>0</td>\n",
       "      <td>NaN</td>\n",
       "      <td>1970-80</td>\n",
       "    </tr>\n",
       "    <tr>\n",
       "      <th>3857</th>\n",
       "      <td>197605260001</td>\n",
       "      <td>1976</td>\n",
       "      <td>5</td>\n",
       "      <td>26</td>\n",
       "      <td>NaN</td>\n",
       "      <td>0</td>\n",
       "      <td>NaN</td>\n",
       "      <td>92</td>\n",
       "      <td>India</td>\n",
       "      <td>6</td>\n",
       "      <td>...</td>\n",
       "      <td>NaN</td>\n",
       "      <td>NaN</td>\n",
       "      <td>NaN</td>\n",
       "      <td>PGIS</td>\n",
       "      <td>-9</td>\n",
       "      <td>-9</td>\n",
       "      <td>0</td>\n",
       "      <td>-9</td>\n",
       "      <td>NaN</td>\n",
       "      <td>1970-80</td>\n",
       "    </tr>\n",
       "    <tr>\n",
       "      <th>5327</th>\n",
       "      <td>197709280004</td>\n",
       "      <td>1977</td>\n",
       "      <td>9</td>\n",
       "      <td>28</td>\n",
       "      <td>NaN</td>\n",
       "      <td>0</td>\n",
       "      <td>NaN</td>\n",
       "      <td>92</td>\n",
       "      <td>India</td>\n",
       "      <td>6</td>\n",
       "      <td>...</td>\n",
       "      <td>NaN</td>\n",
       "      <td>NaN</td>\n",
       "      <td>NaN</td>\n",
       "      <td>Hijacking DB</td>\n",
       "      <td>1</td>\n",
       "      <td>1</td>\n",
       "      <td>1</td>\n",
       "      <td>1</td>\n",
       "      <td>NaN</td>\n",
       "      <td>1970-80</td>\n",
       "    </tr>\n",
       "    <tr>\n",
       "      <th>7337</th>\n",
       "      <td>197901130004</td>\n",
       "      <td>1979</td>\n",
       "      <td>1</td>\n",
       "      <td>13</td>\n",
       "      <td>NaN</td>\n",
       "      <td>0</td>\n",
       "      <td>NaN</td>\n",
       "      <td>92</td>\n",
       "      <td>India</td>\n",
       "      <td>6</td>\n",
       "      <td>...</td>\n",
       "      <td>NaN</td>\n",
       "      <td>NaN</td>\n",
       "      <td>NaN</td>\n",
       "      <td>PGIS</td>\n",
       "      <td>0</td>\n",
       "      <td>0</td>\n",
       "      <td>0</td>\n",
       "      <td>0</td>\n",
       "      <td>NaN</td>\n",
       "      <td>1970-80</td>\n",
       "    </tr>\n",
       "  </tbody>\n",
       "</table>\n",
       "<p>5 rows × 136 columns</p>\n",
       "</div>"
      ],
      "text/plain": [
       "           eventid  iyear  imonth  iday approxdate  extended resolution  \\\n",
       "1186  197202220004   1972       2    22        NaN         0        NaN   \n",
       "2764  197501190004   1975       1     2        NaN         0        NaN   \n",
       "3857  197605260001   1976       5    26        NaN         0        NaN   \n",
       "5327  197709280004   1977       9    28        NaN         0        NaN   \n",
       "7337  197901130004   1979       1    13        NaN         0        NaN   \n",
       "\n",
       "      country country_txt  region  ...  \\\n",
       "1186       92       India       6  ...   \n",
       "2764       92       India       6  ...   \n",
       "3857       92       India       6  ...   \n",
       "5327       92       India       6  ...   \n",
       "7337       92       India       6  ...   \n",
       "\n",
       "                                                 scite1  \\\n",
       "1186                                                NaN   \n",
       "2764  \"Leaders of India Irate at Killing: Death of A...   \n",
       "3857                                                NaN   \n",
       "5327                                                NaN   \n",
       "7337                                                NaN   \n",
       "\n",
       "                                                 scite2 scite3  \\\n",
       "1186                                                NaN    NaN   \n",
       "2764  Dhananjay Mahapatra, \"SC: Why has LN Mishra mu...    NaN   \n",
       "3857                                                NaN    NaN   \n",
       "5327                                                NaN    NaN   \n",
       "7337                                                NaN    NaN   \n",
       "\n",
       "                                      dbsource  INT_LOG  INT_IDEO  INT_MISC  \\\n",
       "1186                              Hijacking DB        1         1         1   \n",
       "2764  UMD Encyclopedia of World Terrorism 2012        0         0         0   \n",
       "3857                                      PGIS       -9        -9         0   \n",
       "5327                              Hijacking DB        1         1         1   \n",
       "7337                                      PGIS        0         0         0   \n",
       "\n",
       "     INT_ANY related   decade  \n",
       "1186       1     NaN  1970-80  \n",
       "2764       0     NaN  1970-80  \n",
       "3857      -9     NaN  1970-80  \n",
       "5327       1     NaN  1970-80  \n",
       "7337       0     NaN  1970-80  \n",
       "\n",
       "[5 rows x 136 columns]"
      ]
     },
     "execution_count": 31,
     "metadata": {},
     "output_type": "execute_result"
    }
   ],
   "source": [
    "ind_data = terrorism_data[terrorism_data['country_txt'] == 'India']\n",
    "ind_data.head()"
   ]
  },
  {
   "cell_type": "code",
   "execution_count": 32,
   "metadata": {},
   "outputs": [
    {
     "data": {
      "text/plain": [
       "(11960, 136)"
      ]
     },
     "execution_count": 32,
     "metadata": {},
     "output_type": "execute_result"
    }
   ],
   "source": [
    "ind_data.shape"
   ]
  },
  {
   "cell_type": "markdown",
   "metadata": {},
   "source": [
    "### No. of Attacks  Every Year "
   ]
  },
  {
   "cell_type": "code",
   "execution_count": 33,
   "metadata": {},
   "outputs": [
    {
     "data": {
      "text/plain": [
       "<AxesSubplot:xlabel='Year', ylabel='No. of Attacks'>"
      ]
     },
     "execution_count": 33,
     "metadata": {},
     "output_type": "execute_result"
    },
    {
     "data": {
      "image/png": "[encoded data removed]",
      "text/plain": [
       "<Figure size 720x360 with 1 Axes>"
      ]
     },
     "metadata": {},
     "output_type": "display_data"
    }
   ],
   "source": [
    "plt.figure(figsize = (10,5))\n",
    "plt.xlabel('Year')\n",
    "plt.ylabel('No. of Attacks')\n",
    "plt.xticks(ticks= range(1970,2020,5))\n",
    "ind_data['iyear'].value_counts().sort_index().plot()"
   ]
  },
  {
   "cell_type": "markdown",
   "metadata": {},
   "source": [
    "### Years with Most number of Attacks "
   ]
  },
  {
   "cell_type": "code",
   "execution_count": 34,
   "metadata": {},
   "outputs": [
    {
     "data": {
      "text/plain": [
       "2016    1025\n",
       "2017     966\n",
       "2015     884\n",
       "2014     860\n",
       "2013     694\n",
       "2009     672\n",
       "2010     663\n",
       "2011     645\n",
       "2012     611\n",
       "2008     534\n",
       "1988     358\n",
       "1990     349\n",
       "1991     339\n",
       "1989     324\n",
       "1992     237\n",
       "2001     234\n",
       "1996     213\n",
       "2003     196\n",
       "1997     193\n",
       "2002     184\n",
       "2000     180\n",
       "1995     179\n",
       "2006     167\n",
       "1987     166\n",
       "1984     159\n",
       "2007     149\n",
       "2005     146\n",
       "1999     112\n",
       "2004     108\n",
       "1994     107\n",
       "1986      96\n",
       "1998      61\n",
       "1983      47\n",
       "1985      39\n",
       "1979      20\n",
       "1981      16\n",
       "1982      13\n",
       "1980      10\n",
       "1972       1\n",
       "1977       1\n",
       "1975       1\n",
       "1976       1\n",
       "Name: iyear, dtype: int64"
      ]
     },
     "execution_count": 34,
     "metadata": {},
     "output_type": "execute_result"
    }
   ],
   "source": [
    "ind_data['iyear'].value_counts()"
   ]
  },
  {
   "cell_type": "markdown",
   "metadata": {},
   "source": [
    "### Top attacked Cities "
   ]
  },
  {
   "cell_type": "code",
   "execution_count": 35,
   "metadata": {},
   "outputs": [
    {
     "data": {
      "text/html": [
       "<div>\n",
       "<style scoped>\n",
       "    .dataframe tbody tr th:only-of-type {\n",
       "        vertical-align: middle;\n",
       "    }\n",
       "\n",
       "    .dataframe tbody tr th {\n",
       "        vertical-align: top;\n",
       "    }\n",
       "\n",
       "    .dataframe thead th {\n",
       "        text-align: right;\n",
       "    }\n",
       "</style>\n",
       "<table border=\"1\" class=\"dataframe\">\n",
       "  <thead>\n",
       "    <tr style=\"text-align: right;\">\n",
       "      <th></th>\n",
       "      <th>no. of attacks</th>\n",
       "    </tr>\n",
       "  </thead>\n",
       "  <tbody>\n",
       "    <tr>\n",
       "      <th>Srinagar</th>\n",
       "      <td>658</td>\n",
       "    </tr>\n",
       "    <tr>\n",
       "      <th>Unknown</th>\n",
       "      <td>624</td>\n",
       "    </tr>\n",
       "    <tr>\n",
       "      <th>Imphal</th>\n",
       "      <td>426</td>\n",
       "    </tr>\n",
       "    <tr>\n",
       "      <th>New Delhi</th>\n",
       "      <td>157</td>\n",
       "    </tr>\n",
       "    <tr>\n",
       "      <th>Amritsar</th>\n",
       "      <td>138</td>\n",
       "    </tr>\n",
       "    <tr>\n",
       "      <th>Sopore</th>\n",
       "      <td>102</td>\n",
       "    </tr>\n",
       "    <tr>\n",
       "      <th>Ludhiana</th>\n",
       "      <td>77</td>\n",
       "    </tr>\n",
       "    <tr>\n",
       "      <th>Guwahati</th>\n",
       "      <td>77</td>\n",
       "    </tr>\n",
       "    <tr>\n",
       "      <th>Anantnag</th>\n",
       "      <td>76</td>\n",
       "    </tr>\n",
       "    <tr>\n",
       "      <th>Jammu</th>\n",
       "      <td>57</td>\n",
       "    </tr>\n",
       "    <tr>\n",
       "      <th>Latehar district</th>\n",
       "      <td>55</td>\n",
       "    </tr>\n",
       "    <tr>\n",
       "      <th>Bijapur district</th>\n",
       "      <td>51</td>\n",
       "    </tr>\n",
       "    <tr>\n",
       "      <th>Sukma district</th>\n",
       "      <td>49</td>\n",
       "    </tr>\n",
       "    <tr>\n",
       "      <th>Chandigarh</th>\n",
       "      <td>47</td>\n",
       "    </tr>\n",
       "    <tr>\n",
       "      <th>Darjeeling</th>\n",
       "      <td>47</td>\n",
       "    </tr>\n",
       "    <tr>\n",
       "      <th>Delhi</th>\n",
       "      <td>45</td>\n",
       "    </tr>\n",
       "    <tr>\n",
       "      <th>Pulwama</th>\n",
       "      <td>42</td>\n",
       "    </tr>\n",
       "    <tr>\n",
       "      <th>Dantewada district</th>\n",
       "      <td>41</td>\n",
       "    </tr>\n",
       "    <tr>\n",
       "      <th>West Midnapore district</th>\n",
       "      <td>41</td>\n",
       "    </tr>\n",
       "    <tr>\n",
       "      <th>Dimapur</th>\n",
       "      <td>41</td>\n",
       "    </tr>\n",
       "    <tr>\n",
       "      <th>Malkangiri district</th>\n",
       "      <td>40</td>\n",
       "    </tr>\n",
       "    <tr>\n",
       "      <th>Shopian</th>\n",
       "      <td>39</td>\n",
       "    </tr>\n",
       "    <tr>\n",
       "      <th>Kokrajhar district</th>\n",
       "      <td>38</td>\n",
       "    </tr>\n",
       "    <tr>\n",
       "      <th>Tral</th>\n",
       "      <td>35</td>\n",
       "    </tr>\n",
       "    <tr>\n",
       "      <th>Palamu district</th>\n",
       "      <td>34</td>\n",
       "    </tr>\n",
       "    <tr>\n",
       "      <th>Bijbehara</th>\n",
       "      <td>34</td>\n",
       "    </tr>\n",
       "    <tr>\n",
       "      <th>Dantewada</th>\n",
       "      <td>34</td>\n",
       "    </tr>\n",
       "    <tr>\n",
       "      <th>Bijapur</th>\n",
       "      <td>33</td>\n",
       "    </tr>\n",
       "    <tr>\n",
       "      <th>Baramulla</th>\n",
       "      <td>33</td>\n",
       "    </tr>\n",
       "    <tr>\n",
       "      <th>Jalandhar</th>\n",
       "      <td>33</td>\n",
       "    </tr>\n",
       "  </tbody>\n",
       "</table>\n",
       "</div>"
      ],
      "text/plain": [
       "                         no. of attacks \n",
       "Srinagar                             658\n",
       "Unknown                              624\n",
       "Imphal                               426\n",
       "New Delhi                            157\n",
       "Amritsar                             138\n",
       "Sopore                               102\n",
       "Ludhiana                              77\n",
       "Guwahati                              77\n",
       "Anantnag                              76\n",
       "Jammu                                 57\n",
       "Latehar district                      55\n",
       "Bijapur district                      51\n",
       "Sukma district                        49\n",
       "Chandigarh                            47\n",
       "Darjeeling                            47\n",
       "Delhi                                 45\n",
       "Pulwama                               42\n",
       "Dantewada district                    41\n",
       "West Midnapore district               41\n",
       "Dimapur                               41\n",
       "Malkangiri district                   40\n",
       "Shopian                               39\n",
       "Kokrajhar district                    38\n",
       "Tral                                  35\n",
       "Palamu district                       34\n",
       "Bijbehara                             34\n",
       "Dantewada                             34\n",
       "Bijapur                               33\n",
       "Baramulla                             33\n",
       "Jalandhar                             33"
      ]
     },
     "execution_count": 35,
     "metadata": {},
     "output_type": "execute_result"
    }
   ],
   "source": [
    "pd.DataFrame(ind_data['city'].value_counts()[0:30],columns = ['city']).rename(columns = {'city':'no. of attacks '})"
   ]
  },
  {
   "cell_type": "markdown",
   "metadata": {},
   "source": [
    "### Most Common Attack Types "
   ]
  },
  {
   "cell_type": "code",
   "execution_count": 36,
   "metadata": {},
   "outputs": [
    {
     "data": {
      "text/html": [
       "<div>\n",
       "<style scoped>\n",
       "    .dataframe tbody tr th:only-of-type {\n",
       "        vertical-align: middle;\n",
       "    }\n",
       "\n",
       "    .dataframe tbody tr th {\n",
       "        vertical-align: top;\n",
       "    }\n",
       "\n",
       "    .dataframe thead th {\n",
       "        text-align: right;\n",
       "    }\n",
       "</style>\n",
       "<table border=\"1\" class=\"dataframe\">\n",
       "  <thead>\n",
       "    <tr style=\"text-align: right;\">\n",
       "      <th></th>\n",
       "      <th>Attack Type</th>\n",
       "      <th>count</th>\n",
       "    </tr>\n",
       "  </thead>\n",
       "  <tbody>\n",
       "    <tr>\n",
       "      <th>0</th>\n",
       "      <td>Bombing/Explosion</td>\n",
       "      <td>4825</td>\n",
       "    </tr>\n",
       "    <tr>\n",
       "      <th>1</th>\n",
       "      <td>Armed Assault</td>\n",
       "      <td>3184</td>\n",
       "    </tr>\n",
       "    <tr>\n",
       "      <th>2</th>\n",
       "      <td>Assassination</td>\n",
       "      <td>1229</td>\n",
       "    </tr>\n",
       "    <tr>\n",
       "      <th>3</th>\n",
       "      <td>Hostage Taking (Kidnapping)</td>\n",
       "      <td>1184</td>\n",
       "    </tr>\n",
       "    <tr>\n",
       "      <th>4</th>\n",
       "      <td>Facility/Infrastructure Attack</td>\n",
       "      <td>996</td>\n",
       "    </tr>\n",
       "    <tr>\n",
       "      <th>5</th>\n",
       "      <td>Unknown</td>\n",
       "      <td>312</td>\n",
       "    </tr>\n",
       "    <tr>\n",
       "      <th>6</th>\n",
       "      <td>Unarmed Assault</td>\n",
       "      <td>143</td>\n",
       "    </tr>\n",
       "    <tr>\n",
       "      <th>7</th>\n",
       "      <td>Hostage Taking (Barricade Incident)</td>\n",
       "      <td>44</td>\n",
       "    </tr>\n",
       "    <tr>\n",
       "      <th>8</th>\n",
       "      <td>Hijacking</td>\n",
       "      <td>43</td>\n",
       "    </tr>\n",
       "  </tbody>\n",
       "</table>\n",
       "</div>"
      ],
      "text/plain": [
       "                           Attack Type  count\n",
       "0                    Bombing/Explosion   4825\n",
       "1                        Armed Assault   3184\n",
       "2                        Assassination   1229\n",
       "3          Hostage Taking (Kidnapping)   1184\n",
       "4       Facility/Infrastructure Attack    996\n",
       "5                              Unknown    312\n",
       "6                      Unarmed Assault    143\n",
       "7  Hostage Taking (Barricade Incident)     44\n",
       "8                            Hijacking     43"
      ]
     },
     "execution_count": 36,
     "metadata": {},
     "output_type": "execute_result"
    }
   ],
   "source": [
    "pd.DataFrame(ind_data['attacktype1_txt'].value_counts()).reset_index().rename(columns ={'index':'Attack Type','attacktype1_txt':'count'})"
   ]
  },
  {
   "cell_type": "markdown",
   "metadata": {},
   "source": [
    "### Most Active Terrorist Groups "
   ]
  },
  {
   "cell_type": "code",
   "execution_count": 37,
   "metadata": {},
   "outputs": [
    {
     "data": {
      "text/plain": [
       "gname\n",
       "Sikh Extremists                                                 2477\n",
       "Communist Party of India - Maoist (CPI-Maoist)                  2344\n",
       "Lashkar-e-Taiba (LeT)                                            969\n",
       "Maoists                                                          790\n",
       "United Liberation Front of Assam (ULFA)                          617\n",
       "National Democratic Front of Bodoland (NDFB)                     514\n",
       "People's War Group (PWG)                                         410\n",
       "Hizbul Mujahideen (HM)                                           409\n",
       "Naxalites                                                        408\n",
       "Muslim Militants                                                 377\n",
       "Bodo Militants                                                   376\n",
       "National Liberation Front of Tripura (NLFT)                      259\n",
       "Separatists                                                      256\n",
       "Kashmiri extremists                                              249\n",
       "Maoist Communist Center (MCC)                                    226\n",
       "Deccan Mujahideen                                                184\n",
       "Tripura National Volunteers (TNV)                                154\n",
       "National Socialist Council of Nagaland                           146\n",
       "Indian Mujahideen                                                132\n",
       "Khalistan Liberation Force                                       131\n",
       "Muslim Separatists                                               124\n",
       "Jaish-e-Mohammad (JeM)                                           122\n",
       "Khalistan Commando Force                                         114\n",
       "Naga People                                                       95\n",
       "All Tripura Tiger Force (ATTF)                                    95\n",
       "Ranbir Sena                                                       95\n",
       "People's Liberation Army (India)                                  90\n",
       "Babbar Khalsa International (BKI)                                 88\n",
       "National Socialist Council of Nagaland-Isak-Muivah (NSCN-IM)      82\n",
       "Name: nkill, dtype: int32"
      ]
     },
     "execution_count": 37,
     "metadata": {},
     "output_type": "execute_result"
    }
   ],
   "source": [
    "ind_data.groupby('gname').sum()['nkill'].astype(int).sort_values(ascending = False)[1:30]"
   ]
  },
  {
   "cell_type": "markdown",
   "metadata": {},
   "source": [
    "### Attacks Every Decade "
   ]
  },
  {
   "cell_type": "code",
   "execution_count": 38,
   "metadata": {},
   "outputs": [
    {
     "data": {
      "text/plain": [
       "1970-80        24\n",
       "1980-90      1228\n",
       "1990-2000    1790\n",
       "2000-10      2570\n",
       "2010-20      6348\n",
       "Name: decade, dtype: int64"
      ]
     },
     "execution_count": 38,
     "metadata": {},
     "output_type": "execute_result"
    }
   ],
   "source": [
    "ind_data['decade'].value_counts().sort_index()"
   ]
  },
  {
   "cell_type": "code",
   "execution_count": 39,
   "metadata": {},
   "outputs": [
    {
     "data": {
      "image/png": "[encoded data removed]",
      "text/plain": [
       "<Figure size 576x396 with 1 Axes>"
      ]
     },
     "metadata": {},
     "output_type": "display_data"
    }
   ],
   "source": [
    "plt.bar(ind_data['decade'].value_counts().sort_index().index,terrorism_data['decade'].value_counts().sort_index())\n",
    "plt.xlabel('Decade')\n",
    "plt.ylabel('No. of Attacks')\n",
    "plt.show()"
   ]
  },
  {
   "cell_type": "markdown",
   "metadata": {},
   "source": [
    "### People Killed Every Decade "
   ]
  },
  {
   "cell_type": "code",
   "execution_count": 40,
   "metadata": {},
   "outputs": [
    {
     "data": {
      "text/plain": [
       "decade\n",
       "1970-80        35\n",
       "1980-90      3096\n",
       "1990-2000    6211\n",
       "2000-10      6148\n",
       "2010-20      3851\n",
       "Name: nkill, dtype: int32"
      ]
     },
     "execution_count": 40,
     "metadata": {},
     "output_type": "execute_result"
    }
   ],
   "source": [
    "ind_data.groupby('decade').sum()['nkill'].astype(int)"
   ]
  },
  {
   "cell_type": "code",
   "execution_count": 41,
   "metadata": {},
   "outputs": [
    {
     "data": {
      "image/png": "[encoded data removed]",
      "text/plain": [
       "<Figure size 576x396 with 1 Axes>"
      ]
     },
     "metadata": {},
     "output_type": "display_data"
    }
   ],
   "source": [
    "plt.bar(ind_data.groupby('decade').sum()['nkill'].astype(int).index, ind_data.groupby('decade').sum()['nkill'].astype(int))\n",
    "plt.xlabel('Decade')\n",
    "plt.ylabel('No. of People Deceased')\n",
    "plt.show()"
   ]
  },
  {
   "cell_type": "code",
   "execution_count": null,
   "metadata": {},
   "outputs": [],
   "source": []
  },
  {
   "cell_type": "code",
   "execution_count": null,
   "metadata": {},
   "outputs": [],
   "source": []
  }
 ],
 "metadata": {
  "kernelspec": {
   "display_name": "Python 3",
   "language": "python",
   "name": "python3"
  },
  "language_info": {
   "codemirror_mode": {
    "name": "ipython",
    "version": 3
   },
   "file_extension": ".py",
   "mimetype": "text/x-python",
   "name": "python",
   "nbconvert_exporter": "python",
   "pygments_lexer": "ipython3",
   "version": "3.8.5"
  }
 },
 "nbformat": 4,
 "nbformat_minor": 4
}
