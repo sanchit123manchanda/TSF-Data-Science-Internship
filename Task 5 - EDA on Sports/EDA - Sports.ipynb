{
 "cells": [
  {
   "cell_type": "markdown",
   "metadata": {},
   "source": [
    "## Name: Sanchit Manchanda\n",
    "## Task: EDA Sports\n",
    "## #GRIPAPRIL21"
   ]
  },
  {
   "cell_type": "code",
   "execution_count": 1,
   "metadata": {},
   "outputs": [],
   "source": [
    "import numpy as np\n",
    "import pandas as pd\n",
    "import matplotlib.pyplot as plt\n",
    "import seaborn as sns"
   ]
  },
  {
   "cell_type": "code",
   "execution_count": 2,
   "metadata": {},
   "outputs": [],
   "source": [
    "plt.style.use('seaborn')"
   ]
  },
  {
   "cell_type": "markdown",
   "metadata": {},
   "source": [
    "# Part 1"
   ]
  },
  {
   "cell_type": "code",
   "execution_count": 3,
   "metadata": {},
   "outputs": [],
   "source": [
    "matches = pd.read_csv('matches.csv')"
   ]
  },
  {
   "cell_type": "code",
   "execution_count": 4,
   "metadata": {},
   "outputs": [
    {
     "data": {
      "text/html": [
       "<div>\n",
       "<style scoped>\n",
       "    .dataframe tbody tr th:only-of-type {\n",
       "        vertical-align: middle;\n",
       "    }\n",
       "\n",
       "    .dataframe tbody tr th {\n",
       "        vertical-align: top;\n",
       "    }\n",
       "\n",
       "    .dataframe thead th {\n",
       "        text-align: right;\n",
       "    }\n",
       "</style>\n",
       "<table border=\"1\" class=\"dataframe\">\n",
       "  <thead>\n",
       "    <tr style=\"text-align: right;\">\n",
       "      <th></th>\n",
       "      <th>id</th>\n",
       "      <th>season</th>\n",
       "      <th>city</th>\n",
       "      <th>date</th>\n",
       "      <th>team1</th>\n",
       "      <th>team2</th>\n",
       "      <th>toss_winner</th>\n",
       "      <th>toss_decision</th>\n",
       "      <th>result</th>\n",
       "      <th>dl_applied</th>\n",
       "      <th>winner</th>\n",
       "      <th>win_by_runs</th>\n",
       "      <th>win_by_wickets</th>\n",
       "      <th>player_of_match</th>\n",
       "      <th>venue</th>\n",
       "      <th>umpire1</th>\n",
       "      <th>umpire2</th>\n",
       "      <th>umpire3</th>\n",
       "    </tr>\n",
       "  </thead>\n",
       "  <tbody>\n",
       "    <tr>\n",
       "      <th>0</th>\n",
       "      <td>1</td>\n",
       "      <td>2017</td>\n",
       "      <td>Hyderabad</td>\n",
       "      <td>2017-04-05</td>\n",
       "      <td>Sunrisers Hyderabad</td>\n",
       "      <td>Royal Challengers Bangalore</td>\n",
       "      <td>Royal Challengers Bangalore</td>\n",
       "      <td>field</td>\n",
       "      <td>normal</td>\n",
       "      <td>0</td>\n",
       "      <td>Sunrisers Hyderabad</td>\n",
       "      <td>35</td>\n",
       "      <td>0</td>\n",
       "      <td>Yuvraj Singh</td>\n",
       "      <td>Rajiv Gandhi International Stadium, Uppal</td>\n",
       "      <td>AY Dandekar</td>\n",
       "      <td>NJ Llong</td>\n",
       "      <td>NaN</td>\n",
       "    </tr>\n",
       "    <tr>\n",
       "      <th>1</th>\n",
       "      <td>2</td>\n",
       "      <td>2017</td>\n",
       "      <td>Pune</td>\n",
       "      <td>2017-04-06</td>\n",
       "      <td>Mumbai Indians</td>\n",
       "      <td>Rising Pune Supergiant</td>\n",
       "      <td>Rising Pune Supergiant</td>\n",
       "      <td>field</td>\n",
       "      <td>normal</td>\n",
       "      <td>0</td>\n",
       "      <td>Rising Pune Supergiant</td>\n",
       "      <td>0</td>\n",
       "      <td>7</td>\n",
       "      <td>SPD Smith</td>\n",
       "      <td>Maharashtra Cricket Association Stadium</td>\n",
       "      <td>A Nand Kishore</td>\n",
       "      <td>S Ravi</td>\n",
       "      <td>NaN</td>\n",
       "    </tr>\n",
       "    <tr>\n",
       "      <th>2</th>\n",
       "      <td>3</td>\n",
       "      <td>2017</td>\n",
       "      <td>Rajkot</td>\n",
       "      <td>2017-04-07</td>\n",
       "      <td>Gujarat Lions</td>\n",
       "      <td>Kolkata Knight Riders</td>\n",
       "      <td>Kolkata Knight Riders</td>\n",
       "      <td>field</td>\n",
       "      <td>normal</td>\n",
       "      <td>0</td>\n",
       "      <td>Kolkata Knight Riders</td>\n",
       "      <td>0</td>\n",
       "      <td>10</td>\n",
       "      <td>CA Lynn</td>\n",
       "      <td>Saurashtra Cricket Association Stadium</td>\n",
       "      <td>Nitin Menon</td>\n",
       "      <td>CK Nandan</td>\n",
       "      <td>NaN</td>\n",
       "    </tr>\n",
       "    <tr>\n",
       "      <th>3</th>\n",
       "      <td>4</td>\n",
       "      <td>2017</td>\n",
       "      <td>Indore</td>\n",
       "      <td>2017-04-08</td>\n",
       "      <td>Rising Pune Supergiant</td>\n",
       "      <td>Kings XI Punjab</td>\n",
       "      <td>Kings XI Punjab</td>\n",
       "      <td>field</td>\n",
       "      <td>normal</td>\n",
       "      <td>0</td>\n",
       "      <td>Kings XI Punjab</td>\n",
       "      <td>0</td>\n",
       "      <td>6</td>\n",
       "      <td>GJ Maxwell</td>\n",
       "      <td>Holkar Cricket Stadium</td>\n",
       "      <td>AK Chaudhary</td>\n",
       "      <td>C Shamshuddin</td>\n",
       "      <td>NaN</td>\n",
       "    </tr>\n",
       "    <tr>\n",
       "      <th>4</th>\n",
       "      <td>5</td>\n",
       "      <td>2017</td>\n",
       "      <td>Bangalore</td>\n",
       "      <td>2017-04-08</td>\n",
       "      <td>Royal Challengers Bangalore</td>\n",
       "      <td>Delhi Daredevils</td>\n",
       "      <td>Royal Challengers Bangalore</td>\n",
       "      <td>bat</td>\n",
       "      <td>normal</td>\n",
       "      <td>0</td>\n",
       "      <td>Royal Challengers Bangalore</td>\n",
       "      <td>15</td>\n",
       "      <td>0</td>\n",
       "      <td>KM Jadhav</td>\n",
       "      <td>M Chinnaswamy Stadium</td>\n",
       "      <td>NaN</td>\n",
       "      <td>NaN</td>\n",
       "      <td>NaN</td>\n",
       "    </tr>\n",
       "  </tbody>\n",
       "</table>\n",
       "</div>"
      ],
      "text/plain": [
       "   id  season       city        date                        team1  \\\n",
       "0   1    2017  Hyderabad  2017-04-05          Sunrisers Hyderabad   \n",
       "1   2    2017       Pune  2017-04-06               Mumbai Indians   \n",
       "2   3    2017     Rajkot  2017-04-07                Gujarat Lions   \n",
       "3   4    2017     Indore  2017-04-08       Rising Pune Supergiant   \n",
       "4   5    2017  Bangalore  2017-04-08  Royal Challengers Bangalore   \n",
       "\n",
       "                         team2                  toss_winner toss_decision  \\\n",
       "0  Royal Challengers Bangalore  Royal Challengers Bangalore         field   \n",
       "1       Rising Pune Supergiant       Rising Pune Supergiant         field   \n",
       "2        Kolkata Knight Riders        Kolkata Knight Riders         field   \n",
       "3              Kings XI Punjab              Kings XI Punjab         field   \n",
       "4             Delhi Daredevils  Royal Challengers Bangalore           bat   \n",
       "\n",
       "   result  dl_applied                       winner  win_by_runs  \\\n",
       "0  normal           0          Sunrisers Hyderabad           35   \n",
       "1  normal           0       Rising Pune Supergiant            0   \n",
       "2  normal           0        Kolkata Knight Riders            0   \n",
       "3  normal           0              Kings XI Punjab            0   \n",
       "4  normal           0  Royal Challengers Bangalore           15   \n",
       "\n",
       "   win_by_wickets player_of_match                                      venue  \\\n",
       "0               0    Yuvraj Singh  Rajiv Gandhi International Stadium, Uppal   \n",
       "1               7       SPD Smith    Maharashtra Cricket Association Stadium   \n",
       "2              10         CA Lynn     Saurashtra Cricket Association Stadium   \n",
       "3               6      GJ Maxwell                     Holkar Cricket Stadium   \n",
       "4               0       KM Jadhav                      M Chinnaswamy Stadium   \n",
       "\n",
       "          umpire1        umpire2 umpire3  \n",
       "0     AY Dandekar       NJ Llong     NaN  \n",
       "1  A Nand Kishore         S Ravi     NaN  \n",
       "2     Nitin Menon      CK Nandan     NaN  \n",
       "3    AK Chaudhary  C Shamshuddin     NaN  \n",
       "4             NaN            NaN     NaN  "
      ]
     },
     "execution_count": 4,
     "metadata": {},
     "output_type": "execute_result"
    }
   ],
   "source": [
    "matches.head()"
   ]
  },
  {
   "cell_type": "code",
   "execution_count": 5,
   "metadata": {},
   "outputs": [
    {
     "name": "stdout",
     "output_type": "stream",
     "text": [
      "<class 'pandas.core.frame.DataFrame'>\n",
      "RangeIndex: 756 entries, 0 to 755\n",
      "Data columns (total 18 columns):\n",
      " #   Column           Non-Null Count  Dtype \n",
      "---  ------           --------------  ----- \n",
      " 0   id               756 non-null    int64 \n",
      " 1   season           756 non-null    int64 \n",
      " 2   city             749 non-null    object\n",
      " 3   date             756 non-null    object\n",
      " 4   team1            756 non-null    object\n",
      " 5   team2            756 non-null    object\n",
      " 6   toss_winner      756 non-null    object\n",
      " 7   toss_decision    756 non-null    object\n",
      " 8   result           756 non-null    object\n",
      " 9   dl_applied       756 non-null    int64 \n",
      " 10  winner           752 non-null    object\n",
      " 11  win_by_runs      756 non-null    int64 \n",
      " 12  win_by_wickets   756 non-null    int64 \n",
      " 13  player_of_match  752 non-null    object\n",
      " 14  venue            756 non-null    object\n",
      " 15  umpire1          754 non-null    object\n",
      " 16  umpire2          754 non-null    object\n",
      " 17  umpire3          119 non-null    object\n",
      "dtypes: int64(5), object(13)\n",
      "memory usage: 106.4+ KB\n"
     ]
    }
   ],
   "source": [
    "matches.info()"
   ]
  },
  {
   "cell_type": "code",
   "execution_count": 6,
   "metadata": {},
   "outputs": [
    {
     "data": {
      "text/html": [
       "<div>\n",
       "<style scoped>\n",
       "    .dataframe tbody tr th:only-of-type {\n",
       "        vertical-align: middle;\n",
       "    }\n",
       "\n",
       "    .dataframe tbody tr th {\n",
       "        vertical-align: top;\n",
       "    }\n",
       "\n",
       "    .dataframe thead th {\n",
       "        text-align: right;\n",
       "    }\n",
       "</style>\n",
       "<table border=\"1\" class=\"dataframe\">\n",
       "  <thead>\n",
       "    <tr style=\"text-align: right;\">\n",
       "      <th></th>\n",
       "      <th>id</th>\n",
       "      <th>season</th>\n",
       "      <th>city</th>\n",
       "      <th>date</th>\n",
       "      <th>team1</th>\n",
       "      <th>team2</th>\n",
       "      <th>toss_winner</th>\n",
       "      <th>toss_decision</th>\n",
       "      <th>result</th>\n",
       "      <th>dl_applied</th>\n",
       "      <th>winner</th>\n",
       "      <th>win_by_runs</th>\n",
       "      <th>win_by_wickets</th>\n",
       "      <th>player_of_match</th>\n",
       "      <th>venue</th>\n",
       "      <th>umpire1</th>\n",
       "      <th>umpire2</th>\n",
       "      <th>umpire3</th>\n",
       "    </tr>\n",
       "  </thead>\n",
       "  <tbody>\n",
       "    <tr>\n",
       "      <th>461</th>\n",
       "      <td>462</td>\n",
       "      <td>2014</td>\n",
       "      <td>NaN</td>\n",
       "      <td>2014-04-19</td>\n",
       "      <td>Mumbai Indians</td>\n",
       "      <td>Royal Challengers Bangalore</td>\n",
       "      <td>Royal Challengers Bangalore</td>\n",
       "      <td>field</td>\n",
       "      <td>normal</td>\n",
       "      <td>0</td>\n",
       "      <td>Royal Challengers Bangalore</td>\n",
       "      <td>0</td>\n",
       "      <td>7</td>\n",
       "      <td>PA Patel</td>\n",
       "      <td>Dubai International Cricket Stadium</td>\n",
       "      <td>Aleem Dar</td>\n",
       "      <td>AK Chaudhary</td>\n",
       "      <td>NaN</td>\n",
       "    </tr>\n",
       "    <tr>\n",
       "      <th>462</th>\n",
       "      <td>463</td>\n",
       "      <td>2014</td>\n",
       "      <td>NaN</td>\n",
       "      <td>2014-04-19</td>\n",
       "      <td>Kolkata Knight Riders</td>\n",
       "      <td>Delhi Daredevils</td>\n",
       "      <td>Kolkata Knight Riders</td>\n",
       "      <td>bat</td>\n",
       "      <td>normal</td>\n",
       "      <td>0</td>\n",
       "      <td>Delhi Daredevils</td>\n",
       "      <td>0</td>\n",
       "      <td>4</td>\n",
       "      <td>JP Duminy</td>\n",
       "      <td>Dubai International Cricket Stadium</td>\n",
       "      <td>Aleem Dar</td>\n",
       "      <td>VA Kulkarni</td>\n",
       "      <td>NaN</td>\n",
       "    </tr>\n",
       "    <tr>\n",
       "      <th>466</th>\n",
       "      <td>467</td>\n",
       "      <td>2014</td>\n",
       "      <td>NaN</td>\n",
       "      <td>2014-04-23</td>\n",
       "      <td>Chennai Super Kings</td>\n",
       "      <td>Rajasthan Royals</td>\n",
       "      <td>Rajasthan Royals</td>\n",
       "      <td>field</td>\n",
       "      <td>normal</td>\n",
       "      <td>0</td>\n",
       "      <td>Chennai Super Kings</td>\n",
       "      <td>7</td>\n",
       "      <td>0</td>\n",
       "      <td>RA Jadeja</td>\n",
       "      <td>Dubai International Cricket Stadium</td>\n",
       "      <td>HDPK Dharmasena</td>\n",
       "      <td>RK Illingworth</td>\n",
       "      <td>NaN</td>\n",
       "    </tr>\n",
       "    <tr>\n",
       "      <th>468</th>\n",
       "      <td>469</td>\n",
       "      <td>2014</td>\n",
       "      <td>NaN</td>\n",
       "      <td>2014-04-25</td>\n",
       "      <td>Sunrisers Hyderabad</td>\n",
       "      <td>Delhi Daredevils</td>\n",
       "      <td>Sunrisers Hyderabad</td>\n",
       "      <td>bat</td>\n",
       "      <td>normal</td>\n",
       "      <td>0</td>\n",
       "      <td>Sunrisers Hyderabad</td>\n",
       "      <td>4</td>\n",
       "      <td>0</td>\n",
       "      <td>AJ Finch</td>\n",
       "      <td>Dubai International Cricket Stadium</td>\n",
       "      <td>M Erasmus</td>\n",
       "      <td>S Ravi</td>\n",
       "      <td>NaN</td>\n",
       "    </tr>\n",
       "    <tr>\n",
       "      <th>469</th>\n",
       "      <td>470</td>\n",
       "      <td>2014</td>\n",
       "      <td>NaN</td>\n",
       "      <td>2014-04-25</td>\n",
       "      <td>Mumbai Indians</td>\n",
       "      <td>Chennai Super Kings</td>\n",
       "      <td>Mumbai Indians</td>\n",
       "      <td>bat</td>\n",
       "      <td>normal</td>\n",
       "      <td>0</td>\n",
       "      <td>Chennai Super Kings</td>\n",
       "      <td>0</td>\n",
       "      <td>7</td>\n",
       "      <td>MM Sharma</td>\n",
       "      <td>Dubai International Cricket Stadium</td>\n",
       "      <td>BF Bowden</td>\n",
       "      <td>M Erasmus</td>\n",
       "      <td>NaN</td>\n",
       "    </tr>\n",
       "    <tr>\n",
       "      <th>474</th>\n",
       "      <td>475</td>\n",
       "      <td>2014</td>\n",
       "      <td>NaN</td>\n",
       "      <td>2014-04-28</td>\n",
       "      <td>Royal Challengers Bangalore</td>\n",
       "      <td>Kings XI Punjab</td>\n",
       "      <td>Kings XI Punjab</td>\n",
       "      <td>field</td>\n",
       "      <td>normal</td>\n",
       "      <td>0</td>\n",
       "      <td>Kings XI Punjab</td>\n",
       "      <td>0</td>\n",
       "      <td>5</td>\n",
       "      <td>Sandeep Sharma</td>\n",
       "      <td>Dubai International Cricket Stadium</td>\n",
       "      <td>BF Bowden</td>\n",
       "      <td>S Ravi</td>\n",
       "      <td>NaN</td>\n",
       "    </tr>\n",
       "    <tr>\n",
       "      <th>476</th>\n",
       "      <td>477</td>\n",
       "      <td>2014</td>\n",
       "      <td>NaN</td>\n",
       "      <td>2014-04-30</td>\n",
       "      <td>Sunrisers Hyderabad</td>\n",
       "      <td>Mumbai Indians</td>\n",
       "      <td>Mumbai Indians</td>\n",
       "      <td>field</td>\n",
       "      <td>normal</td>\n",
       "      <td>0</td>\n",
       "      <td>Sunrisers Hyderabad</td>\n",
       "      <td>15</td>\n",
       "      <td>0</td>\n",
       "      <td>B Kumar</td>\n",
       "      <td>Dubai International Cricket Stadium</td>\n",
       "      <td>HDPK Dharmasena</td>\n",
       "      <td>M Erasmus</td>\n",
       "      <td>NaN</td>\n",
       "    </tr>\n",
       "  </tbody>\n",
       "</table>\n",
       "</div>"
      ],
      "text/plain": [
       "      id  season city        date                        team1  \\\n",
       "461  462    2014  NaN  2014-04-19               Mumbai Indians   \n",
       "462  463    2014  NaN  2014-04-19        Kolkata Knight Riders   \n",
       "466  467    2014  NaN  2014-04-23          Chennai Super Kings   \n",
       "468  469    2014  NaN  2014-04-25          Sunrisers Hyderabad   \n",
       "469  470    2014  NaN  2014-04-25               Mumbai Indians   \n",
       "474  475    2014  NaN  2014-04-28  Royal Challengers Bangalore   \n",
       "476  477    2014  NaN  2014-04-30          Sunrisers Hyderabad   \n",
       "\n",
       "                           team2                  toss_winner toss_decision  \\\n",
       "461  Royal Challengers Bangalore  Royal Challengers Bangalore         field   \n",
       "462             Delhi Daredevils        Kolkata Knight Riders           bat   \n",
       "466             Rajasthan Royals             Rajasthan Royals         field   \n",
       "468             Delhi Daredevils          Sunrisers Hyderabad           bat   \n",
       "469          Chennai Super Kings               Mumbai Indians           bat   \n",
       "474              Kings XI Punjab              Kings XI Punjab         field   \n",
       "476               Mumbai Indians               Mumbai Indians         field   \n",
       "\n",
       "     result  dl_applied                       winner  win_by_runs  \\\n",
       "461  normal           0  Royal Challengers Bangalore            0   \n",
       "462  normal           0             Delhi Daredevils            0   \n",
       "466  normal           0          Chennai Super Kings            7   \n",
       "468  normal           0          Sunrisers Hyderabad            4   \n",
       "469  normal           0          Chennai Super Kings            0   \n",
       "474  normal           0              Kings XI Punjab            0   \n",
       "476  normal           0          Sunrisers Hyderabad           15   \n",
       "\n",
       "     win_by_wickets player_of_match                                venue  \\\n",
       "461               7        PA Patel  Dubai International Cricket Stadium   \n",
       "462               4       JP Duminy  Dubai International Cricket Stadium   \n",
       "466               0       RA Jadeja  Dubai International Cricket Stadium   \n",
       "468               0        AJ Finch  Dubai International Cricket Stadium   \n",
       "469               7       MM Sharma  Dubai International Cricket Stadium   \n",
       "474               5  Sandeep Sharma  Dubai International Cricket Stadium   \n",
       "476               0         B Kumar  Dubai International Cricket Stadium   \n",
       "\n",
       "             umpire1         umpire2 umpire3  \n",
       "461        Aleem Dar    AK Chaudhary     NaN  \n",
       "462        Aleem Dar     VA Kulkarni     NaN  \n",
       "466  HDPK Dharmasena  RK Illingworth     NaN  \n",
       "468        M Erasmus          S Ravi     NaN  \n",
       "469        BF Bowden       M Erasmus     NaN  \n",
       "474        BF Bowden          S Ravi     NaN  \n",
       "476  HDPK Dharmasena       M Erasmus     NaN  "
      ]
     },
     "execution_count": 6,
     "metadata": {},
     "output_type": "execute_result"
    }
   ],
   "source": [
    "matches[matches['city'].isna() == True]"
   ]
  },
  {
   "cell_type": "code",
   "execution_count": 7,
   "metadata": {},
   "outputs": [],
   "source": [
    "matches = matches.replace('Delhi Daredevils','Delhi Capitals')\n",
    "matches = matches.replace('Rising Pune Supergiants','Rising Pune Supergiant')"
   ]
  },
  {
   "cell_type": "markdown",
   "metadata": {},
   "source": [
    "## Cities to Host most Number of Matches "
   ]
  },
  {
   "cell_type": "code",
   "execution_count": 8,
   "metadata": {},
   "outputs": [
    {
     "data": {
      "text/plain": [
       "Mumbai            101\n",
       "Kolkata            77\n",
       "Delhi              74\n",
       "Bangalore          66\n",
       "Hyderabad          64\n",
       "Chennai            57\n",
       "Jaipur             47\n",
       "Chandigarh         46\n",
       "Pune               38\n",
       "Durban             15\n",
       "Bengaluru          14\n",
       "Visakhapatnam      13\n",
       "Ahmedabad          12\n",
       "Centurion          12\n",
       "Rajkot             10\n",
       "Mohali             10\n",
       "Indore              9\n",
       "Dharamsala          9\n",
       "Johannesburg        8\n",
       "Cape Town           7\n",
       "Port Elizabeth      7\n",
       "Cuttack             7\n",
       "Abu Dhabi           7\n",
       "Ranchi              7\n",
       "Raipur              6\n",
       "Sharjah             6\n",
       "Kochi               5\n",
       "Kanpur              4\n",
       "Kimberley           3\n",
       "Nagpur              3\n",
       "East London         3\n",
       "Bloemfontein        2\n",
       "Name: city, dtype: int64"
      ]
     },
     "execution_count": 8,
     "metadata": {},
     "output_type": "execute_result"
    }
   ],
   "source": [
    "matches['city'].value_counts()"
   ]
  },
  {
   "cell_type": "markdown",
   "metadata": {},
   "source": [
    "## Most Number of Wins "
   ]
  },
  {
   "cell_type": "code",
   "execution_count": 9,
   "metadata": {},
   "outputs": [
    {
     "data": {
      "text/plain": [
       "Mumbai Indians                 109\n",
       "Chennai Super Kings            100\n",
       "Kolkata Knight Riders           92\n",
       "Royal Challengers Bangalore     84\n",
       "Kings XI Punjab                 82\n",
       "Delhi Capitals                  77\n",
       "Rajasthan Royals                75\n",
       "Sunrisers Hyderabad             58\n",
       "Deccan Chargers                 29\n",
       "Rising Pune Supergiant          15\n",
       "Gujarat Lions                   13\n",
       "Pune Warriors                   12\n",
       "Kochi Tuskers Kerala             6\n",
       "Name: winner, dtype: int64"
      ]
     },
     "execution_count": 9,
     "metadata": {},
     "output_type": "execute_result"
    }
   ],
   "source": [
    "matches_won = matches['winner'].value_counts()\n",
    "matches_won"
   ]
  },
  {
   "cell_type": "code",
   "execution_count": 10,
   "metadata": {},
   "outputs": [
    {
     "data": {
      "image/png": "[encoded data removed]",
      "text/plain": [
       "<Figure size 1296x360 with 1 Axes>"
      ]
     },
     "metadata": {},
     "output_type": "display_data"
    }
   ],
   "source": [
    "plt.figure(figsize = (18,5))\n",
    "plt.bar(matches_won.index,matches_won)\n",
    "plt.xlabel('Team')\n",
    "plt.ylabel(\"No. of Matches Won\")\n",
    "plt.xticks(rotation = 30)\n",
    "plt.title('No. of matches won by Each Team')\n",
    "plt.show()"
   ]
  },
  {
   "cell_type": "markdown",
   "metadata": {},
   "source": [
    "## Most number of Matches Played "
   ]
  },
  {
   "cell_type": "code",
   "execution_count": 11,
   "metadata": {},
   "outputs": [
    {
     "data": {
      "text/plain": [
       "Mumbai Indians                 187\n",
       "Royal Challengers Bangalore    180\n",
       "Kolkata Knight Riders          178\n",
       "Delhi Capitals                 177\n",
       "Kings XI Punjab                176\n",
       "Chennai Super Kings            164\n",
       "Rajasthan Royals               147\n",
       "Sunrisers Hyderabad            108\n",
       "Deccan Chargers                 75\n",
       "Pune Warriors                   46\n",
       "Rising Pune Supergiant          30\n",
       "Gujarat Lions                   30\n",
       "Kochi Tuskers Kerala            14\n",
       "dtype: int64"
      ]
     },
     "execution_count": 11,
     "metadata": {},
     "output_type": "execute_result"
    }
   ],
   "source": [
    "matches_played = (matches['team1'].value_counts() + matches['team2'].value_counts()).sort_values(ascending = False)\n",
    "matches_played"
   ]
  },
  {
   "cell_type": "code",
   "execution_count": 12,
   "metadata": {},
   "outputs": [
    {
     "data": {
      "image/png": "[encoded data removed]",
      "text/plain": [
       "<Figure size 1296x360 with 1 Axes>"
      ]
     },
     "metadata": {},
     "output_type": "display_data"
    }
   ],
   "source": [
    "plt.figure(figsize = (18,5))\n",
    "plt.bar(matches_played.index,matches_played)\n",
    "plt.xlabel('Team')\n",
    "plt.ylabel(\"No. of Matches Played\")\n",
    "plt.xticks(rotation = 30)\n",
    "plt.title('No. of matches Played by Each Team')\n",
    "plt.show()"
   ]
  },
  {
   "cell_type": "markdown",
   "metadata": {},
   "source": [
    "## Win Percentage of Every Team "
   ]
  },
  {
   "cell_type": "code",
   "execution_count": 13,
   "metadata": {},
   "outputs": [
    {
     "data": {
      "text/plain": [
       "Chennai Super Kings            60.98\n",
       "Mumbai Indians                 58.29\n",
       "Sunrisers Hyderabad            53.70\n",
       "Kolkata Knight Riders          51.69\n",
       "Rajasthan Royals               51.02\n",
       "Rising Pune Supergiant         50.00\n",
       "Royal Challengers Bangalore    46.67\n",
       "Kings XI Punjab                46.59\n",
       "Delhi Capitals                 43.50\n",
       "Gujarat Lions                  43.33\n",
       "Kochi Tuskers Kerala           42.86\n",
       "Deccan Chargers                38.67\n",
       "Pune Warriors                  26.09\n",
       "dtype: float64"
      ]
     },
     "execution_count": 13,
     "metadata": {},
     "output_type": "execute_result"
    }
   ],
   "source": [
    "win_percentage = round((matches_won/matches_played).sort_values(ascending = False)*100,2)\n",
    "win_percentage"
   ]
  },
  {
   "cell_type": "code",
   "execution_count": 14,
   "metadata": {},
   "outputs": [
    {
     "data": {
      "image/png": "[encoded data removed]",
      "text/plain": [
       "<Figure size 1296x360 with 1 Axes>"
      ]
     },
     "metadata": {},
     "output_type": "display_data"
    }
   ],
   "source": [
    "plt.figure(figsize = (18,5))\n",
    "plt.bar(win_percentage.index,win_percentage)\n",
    "plt.xlabel('Team')\n",
    "plt.ylabel(\"No. of Matches Played\")\n",
    "plt.xticks(rotation = 30)\n",
    "plt.title('No. of matches Played by Each Team')\n",
    "plt.show()"
   ]
  },
  {
   "cell_type": "code",
   "execution_count": 15,
   "metadata": {},
   "outputs": [
    {
     "data": {
      "text/html": [
       "<div>\n",
       "<style scoped>\n",
       "    .dataframe tbody tr th:only-of-type {\n",
       "        vertical-align: middle;\n",
       "    }\n",
       "\n",
       "    .dataframe tbody tr th {\n",
       "        vertical-align: top;\n",
       "    }\n",
       "\n",
       "    .dataframe thead th {\n",
       "        text-align: right;\n",
       "    }\n",
       "</style>\n",
       "<table border=\"1\" class=\"dataframe\">\n",
       "  <thead>\n",
       "    <tr style=\"text-align: right;\">\n",
       "      <th></th>\n",
       "      <th>id</th>\n",
       "      <th>season</th>\n",
       "      <th>city</th>\n",
       "      <th>date</th>\n",
       "      <th>team1</th>\n",
       "      <th>team2</th>\n",
       "      <th>toss_winner</th>\n",
       "      <th>toss_decision</th>\n",
       "      <th>result</th>\n",
       "      <th>dl_applied</th>\n",
       "      <th>winner</th>\n",
       "      <th>win_by_runs</th>\n",
       "      <th>win_by_wickets</th>\n",
       "      <th>player_of_match</th>\n",
       "      <th>venue</th>\n",
       "      <th>umpire1</th>\n",
       "      <th>umpire2</th>\n",
       "      <th>umpire3</th>\n",
       "    </tr>\n",
       "  </thead>\n",
       "  <tbody>\n",
       "    <tr>\n",
       "      <th>0</th>\n",
       "      <td>1</td>\n",
       "      <td>2017</td>\n",
       "      <td>Hyderabad</td>\n",
       "      <td>2017-04-05</td>\n",
       "      <td>Sunrisers Hyderabad</td>\n",
       "      <td>Royal Challengers Bangalore</td>\n",
       "      <td>Royal Challengers Bangalore</td>\n",
       "      <td>field</td>\n",
       "      <td>normal</td>\n",
       "      <td>0</td>\n",
       "      <td>Sunrisers Hyderabad</td>\n",
       "      <td>35</td>\n",
       "      <td>0</td>\n",
       "      <td>Yuvraj Singh</td>\n",
       "      <td>Rajiv Gandhi International Stadium, Uppal</td>\n",
       "      <td>AY Dandekar</td>\n",
       "      <td>NJ Llong</td>\n",
       "      <td>NaN</td>\n",
       "    </tr>\n",
       "    <tr>\n",
       "      <th>1</th>\n",
       "      <td>2</td>\n",
       "      <td>2017</td>\n",
       "      <td>Pune</td>\n",
       "      <td>2017-04-06</td>\n",
       "      <td>Mumbai Indians</td>\n",
       "      <td>Rising Pune Supergiant</td>\n",
       "      <td>Rising Pune Supergiant</td>\n",
       "      <td>field</td>\n",
       "      <td>normal</td>\n",
       "      <td>0</td>\n",
       "      <td>Rising Pune Supergiant</td>\n",
       "      <td>0</td>\n",
       "      <td>7</td>\n",
       "      <td>SPD Smith</td>\n",
       "      <td>Maharashtra Cricket Association Stadium</td>\n",
       "      <td>A Nand Kishore</td>\n",
       "      <td>S Ravi</td>\n",
       "      <td>NaN</td>\n",
       "    </tr>\n",
       "    <tr>\n",
       "      <th>2</th>\n",
       "      <td>3</td>\n",
       "      <td>2017</td>\n",
       "      <td>Rajkot</td>\n",
       "      <td>2017-04-07</td>\n",
       "      <td>Gujarat Lions</td>\n",
       "      <td>Kolkata Knight Riders</td>\n",
       "      <td>Kolkata Knight Riders</td>\n",
       "      <td>field</td>\n",
       "      <td>normal</td>\n",
       "      <td>0</td>\n",
       "      <td>Kolkata Knight Riders</td>\n",
       "      <td>0</td>\n",
       "      <td>10</td>\n",
       "      <td>CA Lynn</td>\n",
       "      <td>Saurashtra Cricket Association Stadium</td>\n",
       "      <td>Nitin Menon</td>\n",
       "      <td>CK Nandan</td>\n",
       "      <td>NaN</td>\n",
       "    </tr>\n",
       "    <tr>\n",
       "      <th>3</th>\n",
       "      <td>4</td>\n",
       "      <td>2017</td>\n",
       "      <td>Indore</td>\n",
       "      <td>2017-04-08</td>\n",
       "      <td>Rising Pune Supergiant</td>\n",
       "      <td>Kings XI Punjab</td>\n",
       "      <td>Kings XI Punjab</td>\n",
       "      <td>field</td>\n",
       "      <td>normal</td>\n",
       "      <td>0</td>\n",
       "      <td>Kings XI Punjab</td>\n",
       "      <td>0</td>\n",
       "      <td>6</td>\n",
       "      <td>GJ Maxwell</td>\n",
       "      <td>Holkar Cricket Stadium</td>\n",
       "      <td>AK Chaudhary</td>\n",
       "      <td>C Shamshuddin</td>\n",
       "      <td>NaN</td>\n",
       "    </tr>\n",
       "    <tr>\n",
       "      <th>4</th>\n",
       "      <td>5</td>\n",
       "      <td>2017</td>\n",
       "      <td>Bangalore</td>\n",
       "      <td>2017-04-08</td>\n",
       "      <td>Royal Challengers Bangalore</td>\n",
       "      <td>Delhi Capitals</td>\n",
       "      <td>Royal Challengers Bangalore</td>\n",
       "      <td>bat</td>\n",
       "      <td>normal</td>\n",
       "      <td>0</td>\n",
       "      <td>Royal Challengers Bangalore</td>\n",
       "      <td>15</td>\n",
       "      <td>0</td>\n",
       "      <td>KM Jadhav</td>\n",
       "      <td>M Chinnaswamy Stadium</td>\n",
       "      <td>NaN</td>\n",
       "      <td>NaN</td>\n",
       "      <td>NaN</td>\n",
       "    </tr>\n",
       "    <tr>\n",
       "      <th>...</th>\n",
       "      <td>...</td>\n",
       "      <td>...</td>\n",
       "      <td>...</td>\n",
       "      <td>...</td>\n",
       "      <td>...</td>\n",
       "      <td>...</td>\n",
       "      <td>...</td>\n",
       "      <td>...</td>\n",
       "      <td>...</td>\n",
       "      <td>...</td>\n",
       "      <td>...</td>\n",
       "      <td>...</td>\n",
       "      <td>...</td>\n",
       "      <td>...</td>\n",
       "      <td>...</td>\n",
       "      <td>...</td>\n",
       "      <td>...</td>\n",
       "      <td>...</td>\n",
       "    </tr>\n",
       "    <tr>\n",
       "      <th>751</th>\n",
       "      <td>11347</td>\n",
       "      <td>2019</td>\n",
       "      <td>Mumbai</td>\n",
       "      <td>05/05/19</td>\n",
       "      <td>Kolkata Knight Riders</td>\n",
       "      <td>Mumbai Indians</td>\n",
       "      <td>Mumbai Indians</td>\n",
       "      <td>field</td>\n",
       "      <td>normal</td>\n",
       "      <td>0</td>\n",
       "      <td>Mumbai Indians</td>\n",
       "      <td>0</td>\n",
       "      <td>9</td>\n",
       "      <td>HH Pandya</td>\n",
       "      <td>Wankhede Stadium</td>\n",
       "      <td>Nanda Kishore</td>\n",
       "      <td>O Nandan</td>\n",
       "      <td>S Ravi</td>\n",
       "    </tr>\n",
       "    <tr>\n",
       "      <th>752</th>\n",
       "      <td>11412</td>\n",
       "      <td>2019</td>\n",
       "      <td>Chennai</td>\n",
       "      <td>07/05/19</td>\n",
       "      <td>Chennai Super Kings</td>\n",
       "      <td>Mumbai Indians</td>\n",
       "      <td>Chennai Super Kings</td>\n",
       "      <td>bat</td>\n",
       "      <td>normal</td>\n",
       "      <td>0</td>\n",
       "      <td>Mumbai Indians</td>\n",
       "      <td>0</td>\n",
       "      <td>6</td>\n",
       "      <td>AS Yadav</td>\n",
       "      <td>M. A. Chidambaram Stadium</td>\n",
       "      <td>Nigel Llong</td>\n",
       "      <td>Nitin Menon</td>\n",
       "      <td>Ian Gould</td>\n",
       "    </tr>\n",
       "    <tr>\n",
       "      <th>753</th>\n",
       "      <td>11413</td>\n",
       "      <td>2019</td>\n",
       "      <td>Visakhapatnam</td>\n",
       "      <td>08/05/19</td>\n",
       "      <td>Sunrisers Hyderabad</td>\n",
       "      <td>Delhi Capitals</td>\n",
       "      <td>Delhi Capitals</td>\n",
       "      <td>field</td>\n",
       "      <td>normal</td>\n",
       "      <td>0</td>\n",
       "      <td>Delhi Capitals</td>\n",
       "      <td>0</td>\n",
       "      <td>2</td>\n",
       "      <td>RR Pant</td>\n",
       "      <td>ACA-VDCA Stadium</td>\n",
       "      <td>NaN</td>\n",
       "      <td>NaN</td>\n",
       "      <td>NaN</td>\n",
       "    </tr>\n",
       "    <tr>\n",
       "      <th>754</th>\n",
       "      <td>11414</td>\n",
       "      <td>2019</td>\n",
       "      <td>Visakhapatnam</td>\n",
       "      <td>10/05/19</td>\n",
       "      <td>Delhi Capitals</td>\n",
       "      <td>Chennai Super Kings</td>\n",
       "      <td>Chennai Super Kings</td>\n",
       "      <td>field</td>\n",
       "      <td>normal</td>\n",
       "      <td>0</td>\n",
       "      <td>Chennai Super Kings</td>\n",
       "      <td>0</td>\n",
       "      <td>6</td>\n",
       "      <td>F du Plessis</td>\n",
       "      <td>ACA-VDCA Stadium</td>\n",
       "      <td>Sundaram Ravi</td>\n",
       "      <td>Bruce Oxenford</td>\n",
       "      <td>Chettithody Shamshuddin</td>\n",
       "    </tr>\n",
       "    <tr>\n",
       "      <th>755</th>\n",
       "      <td>11415</td>\n",
       "      <td>2019</td>\n",
       "      <td>Hyderabad</td>\n",
       "      <td>12/05/19</td>\n",
       "      <td>Mumbai Indians</td>\n",
       "      <td>Chennai Super Kings</td>\n",
       "      <td>Mumbai Indians</td>\n",
       "      <td>bat</td>\n",
       "      <td>normal</td>\n",
       "      <td>0</td>\n",
       "      <td>Mumbai Indians</td>\n",
       "      <td>1</td>\n",
       "      <td>0</td>\n",
       "      <td>JJ Bumrah</td>\n",
       "      <td>Rajiv Gandhi Intl. Cricket Stadium</td>\n",
       "      <td>Nitin Menon</td>\n",
       "      <td>Ian Gould</td>\n",
       "      <td>Nigel Llong</td>\n",
       "    </tr>\n",
       "  </tbody>\n",
       "</table>\n",
       "<p>756 rows × 18 columns</p>\n",
       "</div>"
      ],
      "text/plain": [
       "        id  season           city        date                        team1  \\\n",
       "0        1    2017      Hyderabad  2017-04-05          Sunrisers Hyderabad   \n",
       "1        2    2017           Pune  2017-04-06               Mumbai Indians   \n",
       "2        3    2017         Rajkot  2017-04-07                Gujarat Lions   \n",
       "3        4    2017         Indore  2017-04-08       Rising Pune Supergiant   \n",
       "4        5    2017      Bangalore  2017-04-08  Royal Challengers Bangalore   \n",
       "..     ...     ...            ...         ...                          ...   \n",
       "751  11347    2019         Mumbai    05/05/19        Kolkata Knight Riders   \n",
       "752  11412    2019        Chennai    07/05/19          Chennai Super Kings   \n",
       "753  11413    2019  Visakhapatnam    08/05/19          Sunrisers Hyderabad   \n",
       "754  11414    2019  Visakhapatnam    10/05/19               Delhi Capitals   \n",
       "755  11415    2019      Hyderabad    12/05/19               Mumbai Indians   \n",
       "\n",
       "                           team2                  toss_winner toss_decision  \\\n",
       "0    Royal Challengers Bangalore  Royal Challengers Bangalore         field   \n",
       "1         Rising Pune Supergiant       Rising Pune Supergiant         field   \n",
       "2          Kolkata Knight Riders        Kolkata Knight Riders         field   \n",
       "3                Kings XI Punjab              Kings XI Punjab         field   \n",
       "4                 Delhi Capitals  Royal Challengers Bangalore           bat   \n",
       "..                           ...                          ...           ...   \n",
       "751               Mumbai Indians               Mumbai Indians         field   \n",
       "752               Mumbai Indians          Chennai Super Kings           bat   \n",
       "753               Delhi Capitals               Delhi Capitals         field   \n",
       "754          Chennai Super Kings          Chennai Super Kings         field   \n",
       "755          Chennai Super Kings               Mumbai Indians           bat   \n",
       "\n",
       "     result  dl_applied                       winner  win_by_runs  \\\n",
       "0    normal           0          Sunrisers Hyderabad           35   \n",
       "1    normal           0       Rising Pune Supergiant            0   \n",
       "2    normal           0        Kolkata Knight Riders            0   \n",
       "3    normal           0              Kings XI Punjab            0   \n",
       "4    normal           0  Royal Challengers Bangalore           15   \n",
       "..      ...         ...                          ...          ...   \n",
       "751  normal           0               Mumbai Indians            0   \n",
       "752  normal           0               Mumbai Indians            0   \n",
       "753  normal           0               Delhi Capitals            0   \n",
       "754  normal           0          Chennai Super Kings            0   \n",
       "755  normal           0               Mumbai Indians            1   \n",
       "\n",
       "     win_by_wickets player_of_match  \\\n",
       "0                 0    Yuvraj Singh   \n",
       "1                 7       SPD Smith   \n",
       "2                10         CA Lynn   \n",
       "3                 6      GJ Maxwell   \n",
       "4                 0       KM Jadhav   \n",
       "..              ...             ...   \n",
       "751               9       HH Pandya   \n",
       "752               6        AS Yadav   \n",
       "753               2         RR Pant   \n",
       "754               6    F du Plessis   \n",
       "755               0       JJ Bumrah   \n",
       "\n",
       "                                         venue         umpire1  \\\n",
       "0    Rajiv Gandhi International Stadium, Uppal     AY Dandekar   \n",
       "1      Maharashtra Cricket Association Stadium  A Nand Kishore   \n",
       "2       Saurashtra Cricket Association Stadium     Nitin Menon   \n",
       "3                       Holkar Cricket Stadium    AK Chaudhary   \n",
       "4                        M Chinnaswamy Stadium             NaN   \n",
       "..                                         ...             ...   \n",
       "751                           Wankhede Stadium   Nanda Kishore   \n",
       "752                  M. A. Chidambaram Stadium     Nigel Llong   \n",
       "753                           ACA-VDCA Stadium             NaN   \n",
       "754                           ACA-VDCA Stadium   Sundaram Ravi   \n",
       "755         Rajiv Gandhi Intl. Cricket Stadium     Nitin Menon   \n",
       "\n",
       "            umpire2                  umpire3  \n",
       "0          NJ Llong                      NaN  \n",
       "1            S Ravi                      NaN  \n",
       "2         CK Nandan                      NaN  \n",
       "3     C Shamshuddin                      NaN  \n",
       "4               NaN                      NaN  \n",
       "..              ...                      ...  \n",
       "751        O Nandan                   S Ravi  \n",
       "752     Nitin Menon                Ian Gould  \n",
       "753             NaN                      NaN  \n",
       "754  Bruce Oxenford  Chettithody Shamshuddin  \n",
       "755       Ian Gould              Nigel Llong  \n",
       "\n",
       "[756 rows x 18 columns]"
      ]
     },
     "execution_count": 15,
     "metadata": {},
     "output_type": "execute_result"
    }
   ],
   "source": [
    "matches "
   ]
  },
  {
   "cell_type": "markdown",
   "metadata": {},
   "source": [
    "## Tosses Won by Each Team "
   ]
  },
  {
   "cell_type": "code",
   "execution_count": 16,
   "metadata": {},
   "outputs": [
    {
     "data": {
      "text/plain": [
       "Mumbai Indians                 98\n",
       "Kolkata Knight Riders          92\n",
       "Delhi Capitals                 90\n",
       "Chennai Super Kings            89\n",
       "Royal Challengers Bangalore    81\n",
       "Kings XI Punjab                81\n",
       "Rajasthan Royals               80\n",
       "Sunrisers Hyderabad            46\n",
       "Deccan Chargers                43\n",
       "Pune Warriors                  20\n",
       "Gujarat Lions                  15\n",
       "Rising Pune Supergiant         13\n",
       "Kochi Tuskers Kerala            8\n",
       "Name: toss_winner, dtype: int64"
      ]
     },
     "execution_count": 16,
     "metadata": {},
     "output_type": "execute_result"
    }
   ],
   "source": [
    "tosses_won = matches['toss_winner'].value_counts()\n",
    "tosses_won"
   ]
  },
  {
   "cell_type": "code",
   "execution_count": 17,
   "metadata": {},
   "outputs": [
    {
     "data": {
      "image/png": "[encoded data removed]",
      "text/plain": [
       "<Figure size 1296x360 with 1 Axes>"
      ]
     },
     "metadata": {},
     "output_type": "display_data"
    }
   ],
   "source": [
    "plt.figure(figsize = (18,5))\n",
    "tosses_won.plot(kind = 'bar')\n",
    "plt.xlabel('Team')\n",
    "plt.ylabel(\"No. of Tosses Won\")\n",
    "plt.xticks(rotation = 30)\n",
    "plt.title('No. of Tosses won by Each Team')\n",
    "plt.show()"
   ]
  },
  {
   "cell_type": "markdown",
   "metadata": {},
   "source": [
    "# Toss Win Percentage "
   ]
  },
  {
   "cell_type": "code",
   "execution_count": 18,
   "metadata": {},
   "outputs": [
    {
     "data": {
      "text/plain": [
       "Deccan Chargers                57.33\n",
       "Kochi Tuskers Kerala           57.14\n",
       "Rajasthan Royals               54.42\n",
       "Chennai Super Kings            54.27\n",
       "Mumbai Indians                 52.41\n",
       "Kolkata Knight Riders          51.69\n",
       "Delhi Capitals                 50.85\n",
       "Gujarat Lions                  50.00\n",
       "Kings XI Punjab                46.02\n",
       "Royal Challengers Bangalore    45.00\n",
       "Pune Warriors                  43.48\n",
       "Rising Pune Supergiant         43.33\n",
       "Sunrisers Hyderabad            42.59\n",
       "dtype: float64"
      ]
     },
     "execution_count": 18,
     "metadata": {},
     "output_type": "execute_result"
    }
   ],
   "source": [
    "toss_win_percentage = round((tosses_won*100/matches_played).sort_values(ascending = False),2)\n",
    "toss_win_percentage"
   ]
  },
  {
   "cell_type": "code",
   "execution_count": 19,
   "metadata": {},
   "outputs": [
    {
     "data": {
      "image/png": "[encoded data removed]",
      "text/plain": [
       "<Figure size 1296x360 with 1 Axes>"
      ]
     },
     "metadata": {},
     "output_type": "display_data"
    }
   ],
   "source": [
    "plt.figure(figsize = (18,5))\n",
    "toss_win_percentage.plot(kind = 'bar')\n",
    "plt.xlabel('Team')\n",
    "plt.ylabel(\"Toss win percentage\")\n",
    "plt.xticks(rotation = 30)\n",
    "plt.title('Toss Win Percentage for Each Team')\n",
    "plt.show()"
   ]
  },
  {
   "cell_type": "markdown",
   "metadata": {},
   "source": [
    "## Toss Decisions Taken "
   ]
  },
  {
   "cell_type": "code",
   "execution_count": 20,
   "metadata": {},
   "outputs": [
    {
     "data": {
      "text/plain": [
       "field    463\n",
       "bat      293\n",
       "Name: toss_decision, dtype: int64"
      ]
     },
     "execution_count": 20,
     "metadata": {},
     "output_type": "execute_result"
    }
   ],
   "source": [
    "matches['toss_decision'].value_counts()"
   ]
  },
  {
   "cell_type": "markdown",
   "metadata": {},
   "source": [
    "### (in Percentage)"
   ]
  },
  {
   "cell_type": "code",
   "execution_count": 21,
   "metadata": {},
   "outputs": [
    {
     "data": {
      "text/plain": [
       "field    61.24\n",
       "bat      38.76\n",
       "Name: toss_decision, dtype: float64"
      ]
     },
     "execution_count": 21,
     "metadata": {},
     "output_type": "execute_result"
    }
   ],
   "source": [
    "round((matches['toss_decision'].value_counts()/matches['toss_decision'].value_counts().sum())*100,2)"
   ]
  },
  {
   "cell_type": "markdown",
   "metadata": {},
   "source": [
    "#### Here, we can see that teams prefer to field first after winning the toss. "
   ]
  },
  {
   "cell_type": "markdown",
   "metadata": {},
   "source": [
    "## Matches Won depending upon Batting First or Fielding First "
   ]
  },
  {
   "cell_type": "code",
   "execution_count": 22,
   "metadata": {},
   "outputs": [],
   "source": [
    "def bft(row):\n",
    "    if row['toss_decision'] == 'bat':\n",
    "        return row['toss_winner']\n",
    "    else:\n",
    "        if row['team1'] ==  row['toss_winner']:\n",
    "            return row['team2']\n",
    "        else:\n",
    "            return row['team1']"
   ]
  },
  {
   "cell_type": "code",
   "execution_count": 23,
   "metadata": {},
   "outputs": [],
   "source": [
    "def fft(row):\n",
    "    if row['toss_decision'] == 'field':\n",
    "        return row['toss_winner']\n",
    "    else:\n",
    "        if row['team1'] ==  row['toss_winner']:\n",
    "            return row['team2']\n",
    "        else:\n",
    "            return row['team1']"
   ]
  },
  {
   "cell_type": "code",
   "execution_count": 24,
   "metadata": {},
   "outputs": [],
   "source": [
    "matches['Batting First Team'] = matches.apply(bft,axis = 1)"
   ]
  },
  {
   "cell_type": "code",
   "execution_count": 25,
   "metadata": {},
   "outputs": [],
   "source": [
    "matches['Fielding First Team'] = matches.apply(fft,axis = 1)"
   ]
  },
  {
   "cell_type": "code",
   "execution_count": 26,
   "metadata": {},
   "outputs": [
    {
     "data": {
      "text/html": [
       "<div>\n",
       "<style scoped>\n",
       "    .dataframe tbody tr th:only-of-type {\n",
       "        vertical-align: middle;\n",
       "    }\n",
       "\n",
       "    .dataframe tbody tr th {\n",
       "        vertical-align: top;\n",
       "    }\n",
       "\n",
       "    .dataframe thead th {\n",
       "        text-align: right;\n",
       "    }\n",
       "</style>\n",
       "<table border=\"1\" class=\"dataframe\">\n",
       "  <thead>\n",
       "    <tr style=\"text-align: right;\">\n",
       "      <th></th>\n",
       "      <th>id</th>\n",
       "      <th>season</th>\n",
       "      <th>city</th>\n",
       "      <th>date</th>\n",
       "      <th>team1</th>\n",
       "      <th>team2</th>\n",
       "      <th>toss_winner</th>\n",
       "      <th>toss_decision</th>\n",
       "      <th>result</th>\n",
       "      <th>dl_applied</th>\n",
       "      <th>winner</th>\n",
       "      <th>win_by_runs</th>\n",
       "      <th>win_by_wickets</th>\n",
       "      <th>player_of_match</th>\n",
       "      <th>venue</th>\n",
       "      <th>umpire1</th>\n",
       "      <th>umpire2</th>\n",
       "      <th>umpire3</th>\n",
       "      <th>Batting First Team</th>\n",
       "      <th>Fielding First Team</th>\n",
       "    </tr>\n",
       "  </thead>\n",
       "  <tbody>\n",
       "    <tr>\n",
       "      <th>0</th>\n",
       "      <td>1</td>\n",
       "      <td>2017</td>\n",
       "      <td>Hyderabad</td>\n",
       "      <td>2017-04-05</td>\n",
       "      <td>Sunrisers Hyderabad</td>\n",
       "      <td>Royal Challengers Bangalore</td>\n",
       "      <td>Royal Challengers Bangalore</td>\n",
       "      <td>field</td>\n",
       "      <td>normal</td>\n",
       "      <td>0</td>\n",
       "      <td>Sunrisers Hyderabad</td>\n",
       "      <td>35</td>\n",
       "      <td>0</td>\n",
       "      <td>Yuvraj Singh</td>\n",
       "      <td>Rajiv Gandhi International Stadium, Uppal</td>\n",
       "      <td>AY Dandekar</td>\n",
       "      <td>NJ Llong</td>\n",
       "      <td>NaN</td>\n",
       "      <td>Sunrisers Hyderabad</td>\n",
       "      <td>Royal Challengers Bangalore</td>\n",
       "    </tr>\n",
       "    <tr>\n",
       "      <th>1</th>\n",
       "      <td>2</td>\n",
       "      <td>2017</td>\n",
       "      <td>Pune</td>\n",
       "      <td>2017-04-06</td>\n",
       "      <td>Mumbai Indians</td>\n",
       "      <td>Rising Pune Supergiant</td>\n",
       "      <td>Rising Pune Supergiant</td>\n",
       "      <td>field</td>\n",
       "      <td>normal</td>\n",
       "      <td>0</td>\n",
       "      <td>Rising Pune Supergiant</td>\n",
       "      <td>0</td>\n",
       "      <td>7</td>\n",
       "      <td>SPD Smith</td>\n",
       "      <td>Maharashtra Cricket Association Stadium</td>\n",
       "      <td>A Nand Kishore</td>\n",
       "      <td>S Ravi</td>\n",
       "      <td>NaN</td>\n",
       "      <td>Mumbai Indians</td>\n",
       "      <td>Rising Pune Supergiant</td>\n",
       "    </tr>\n",
       "    <tr>\n",
       "      <th>2</th>\n",
       "      <td>3</td>\n",
       "      <td>2017</td>\n",
       "      <td>Rajkot</td>\n",
       "      <td>2017-04-07</td>\n",
       "      <td>Gujarat Lions</td>\n",
       "      <td>Kolkata Knight Riders</td>\n",
       "      <td>Kolkata Knight Riders</td>\n",
       "      <td>field</td>\n",
       "      <td>normal</td>\n",
       "      <td>0</td>\n",
       "      <td>Kolkata Knight Riders</td>\n",
       "      <td>0</td>\n",
       "      <td>10</td>\n",
       "      <td>CA Lynn</td>\n",
       "      <td>Saurashtra Cricket Association Stadium</td>\n",
       "      <td>Nitin Menon</td>\n",
       "      <td>CK Nandan</td>\n",
       "      <td>NaN</td>\n",
       "      <td>Gujarat Lions</td>\n",
       "      <td>Kolkata Knight Riders</td>\n",
       "    </tr>\n",
       "    <tr>\n",
       "      <th>3</th>\n",
       "      <td>4</td>\n",
       "      <td>2017</td>\n",
       "      <td>Indore</td>\n",
       "      <td>2017-04-08</td>\n",
       "      <td>Rising Pune Supergiant</td>\n",
       "      <td>Kings XI Punjab</td>\n",
       "      <td>Kings XI Punjab</td>\n",
       "      <td>field</td>\n",
       "      <td>normal</td>\n",
       "      <td>0</td>\n",
       "      <td>Kings XI Punjab</td>\n",
       "      <td>0</td>\n",
       "      <td>6</td>\n",
       "      <td>GJ Maxwell</td>\n",
       "      <td>Holkar Cricket Stadium</td>\n",
       "      <td>AK Chaudhary</td>\n",
       "      <td>C Shamshuddin</td>\n",
       "      <td>NaN</td>\n",
       "      <td>Rising Pune Supergiant</td>\n",
       "      <td>Kings XI Punjab</td>\n",
       "    </tr>\n",
       "    <tr>\n",
       "      <th>4</th>\n",
       "      <td>5</td>\n",
       "      <td>2017</td>\n",
       "      <td>Bangalore</td>\n",
       "      <td>2017-04-08</td>\n",
       "      <td>Royal Challengers Bangalore</td>\n",
       "      <td>Delhi Capitals</td>\n",
       "      <td>Royal Challengers Bangalore</td>\n",
       "      <td>bat</td>\n",
       "      <td>normal</td>\n",
       "      <td>0</td>\n",
       "      <td>Royal Challengers Bangalore</td>\n",
       "      <td>15</td>\n",
       "      <td>0</td>\n",
       "      <td>KM Jadhav</td>\n",
       "      <td>M Chinnaswamy Stadium</td>\n",
       "      <td>NaN</td>\n",
       "      <td>NaN</td>\n",
       "      <td>NaN</td>\n",
       "      <td>Royal Challengers Bangalore</td>\n",
       "      <td>Delhi Capitals</td>\n",
       "    </tr>\n",
       "  </tbody>\n",
       "</table>\n",
       "</div>"
      ],
      "text/plain": [
       "   id  season       city        date                        team1  \\\n",
       "0   1    2017  Hyderabad  2017-04-05          Sunrisers Hyderabad   \n",
       "1   2    2017       Pune  2017-04-06               Mumbai Indians   \n",
       "2   3    2017     Rajkot  2017-04-07                Gujarat Lions   \n",
       "3   4    2017     Indore  2017-04-08       Rising Pune Supergiant   \n",
       "4   5    2017  Bangalore  2017-04-08  Royal Challengers Bangalore   \n",
       "\n",
       "                         team2                  toss_winner toss_decision  \\\n",
       "0  Royal Challengers Bangalore  Royal Challengers Bangalore         field   \n",
       "1       Rising Pune Supergiant       Rising Pune Supergiant         field   \n",
       "2        Kolkata Knight Riders        Kolkata Knight Riders         field   \n",
       "3              Kings XI Punjab              Kings XI Punjab         field   \n",
       "4               Delhi Capitals  Royal Challengers Bangalore           bat   \n",
       "\n",
       "   result  dl_applied                       winner  win_by_runs  \\\n",
       "0  normal           0          Sunrisers Hyderabad           35   \n",
       "1  normal           0       Rising Pune Supergiant            0   \n",
       "2  normal           0        Kolkata Knight Riders            0   \n",
       "3  normal           0              Kings XI Punjab            0   \n",
       "4  normal           0  Royal Challengers Bangalore           15   \n",
       "\n",
       "   win_by_wickets player_of_match                                      venue  \\\n",
       "0               0    Yuvraj Singh  Rajiv Gandhi International Stadium, Uppal   \n",
       "1               7       SPD Smith    Maharashtra Cricket Association Stadium   \n",
       "2              10         CA Lynn     Saurashtra Cricket Association Stadium   \n",
       "3               6      GJ Maxwell                     Holkar Cricket Stadium   \n",
       "4               0       KM Jadhav                      M Chinnaswamy Stadium   \n",
       "\n",
       "          umpire1        umpire2 umpire3           Batting First Team  \\\n",
       "0     AY Dandekar       NJ Llong     NaN          Sunrisers Hyderabad   \n",
       "1  A Nand Kishore         S Ravi     NaN               Mumbai Indians   \n",
       "2     Nitin Menon      CK Nandan     NaN                Gujarat Lions   \n",
       "3    AK Chaudhary  C Shamshuddin     NaN       Rising Pune Supergiant   \n",
       "4             NaN            NaN     NaN  Royal Challengers Bangalore   \n",
       "\n",
       "           Fielding First Team  \n",
       "0  Royal Challengers Bangalore  \n",
       "1       Rising Pune Supergiant  \n",
       "2        Kolkata Knight Riders  \n",
       "3              Kings XI Punjab  \n",
       "4               Delhi Capitals  "
      ]
     },
     "execution_count": 26,
     "metadata": {},
     "output_type": "execute_result"
    }
   ],
   "source": [
    "matches.head()"
   ]
  },
  {
   "cell_type": "code",
   "execution_count": 27,
   "metadata": {},
   "outputs": [
    {
     "name": "stdout",
     "output_type": "stream",
     "text": [
      "Matches Won Batting First:  335\n"
     ]
    }
   ],
   "source": [
    "print(\"Matches Won Batting First: \",sum(matches['Batting First Team'] == matches['winner']))"
   ]
  },
  {
   "cell_type": "code",
   "execution_count": 28,
   "metadata": {},
   "outputs": [
    {
     "name": "stdout",
     "output_type": "stream",
     "text": [
      "Matches Won Fielding First:  417\n"
     ]
    }
   ],
   "source": [
    "print(\"Matches Won Fielding First: \",sum(matches['Fielding First Team'] == matches['winner']))"
   ]
  },
  {
   "cell_type": "markdown",
   "metadata": {},
   "source": [
    "#### Therefore we can see more teams won matches by fielding first "
   ]
  },
  {
   "cell_type": "code",
   "execution_count": 29,
   "metadata": {},
   "outputs": [
    {
     "name": "stdout",
     "output_type": "stream",
     "text": [
      "Percentages of Matches won by Fielding First:  55.16%\n"
     ]
    }
   ],
   "source": [
    "print(\"Percentages of Matches won by Fielding First: \",str(round((matches['Fielding First Team'] == matches['winner']).mean()*100,2))+\"%\")"
   ]
  },
  {
   "cell_type": "code",
   "execution_count": 30,
   "metadata": {},
   "outputs": [
    {
     "name": "stdout",
     "output_type": "stream",
     "text": [
      "Percentages of Matches won by Batting First:  44.31%\n"
     ]
    }
   ],
   "source": [
    "print(\"Percentages of Matches won by Batting First: \",str(round((matches['Batting First Team'] == matches['winner']).mean()*100,2))+\"%\")"
   ]
  },
  {
   "cell_type": "markdown",
   "metadata": {},
   "source": [
    "## Matches Won by Team After Winning  and Losing the Toss"
   ]
  },
  {
   "cell_type": "code",
   "execution_count": 31,
   "metadata": {},
   "outputs": [
    {
     "data": {
      "text/plain": [
       "393"
      ]
     },
     "execution_count": 31,
     "metadata": {},
     "output_type": "execute_result"
    }
   ],
   "source": [
    "sum(matches['toss_winner'] == matches['winner'])"
   ]
  },
  {
   "cell_type": "code",
   "execution_count": 32,
   "metadata": {},
   "outputs": [
    {
     "data": {
      "text/plain": [
       "363"
      ]
     },
     "execution_count": 32,
     "metadata": {},
     "output_type": "execute_result"
    }
   ],
   "source": [
    "sum(matches['toss_winner'] != matches['winner'])"
   ]
  },
  {
   "cell_type": "code",
   "execution_count": 33,
   "metadata": {},
   "outputs": [
    {
     "name": "stdout",
     "output_type": "stream",
     "text": [
      "Percentage of Matches won after winning the Toss:  51.98\n"
     ]
    }
   ],
   "source": [
    "print(\"Percentage of Matches won after winning the Toss: \",round(np.mean(matches['toss_winner'] == matches['winner'])*100,2))"
   ]
  },
  {
   "cell_type": "code",
   "execution_count": 34,
   "metadata": {},
   "outputs": [
    {
     "name": "stdout",
     "output_type": "stream",
     "text": [
      "Percentage of Matches won after losing the Toss:  48.02\n"
     ]
    }
   ],
   "source": [
    "print(\"Percentage of Matches won after losing the Toss: \",round(np.mean(matches['toss_winner'] != matches['winner'])*100,2))"
   ]
  },
  {
   "cell_type": "markdown",
   "metadata": {},
   "source": [
    "#### So we can see that toss does hot have much impact on the result of the match"
   ]
  },
  {
   "cell_type": "markdown",
   "metadata": {},
   "source": [
    "## Matches won after Winning the Toss and Fielding First"
   ]
  },
  {
   "cell_type": "code",
   "execution_count": 35,
   "metadata": {},
   "outputs": [],
   "source": [
    "first_field_matches = matches[matches['toss_decision'] == 'field']"
   ]
  },
  {
   "cell_type": "code",
   "execution_count": 36,
   "metadata": {},
   "outputs": [
    {
     "data": {
      "text/plain": [
       "259"
      ]
     },
     "execution_count": 36,
     "metadata": {},
     "output_type": "execute_result"
    }
   ],
   "source": [
    "sum(first_field_matches['toss_winner'] == first_field_matches['winner'])"
   ]
  },
  {
   "cell_type": "code",
   "execution_count": 37,
   "metadata": {},
   "outputs": [
    {
     "data": {
      "text/plain": [
       "0.5593952483801296"
      ]
     },
     "execution_count": 37,
     "metadata": {},
     "output_type": "execute_result"
    }
   ],
   "source": [
    "np.mean(first_field_matches['toss_winner'] == first_field_matches['winner'])"
   ]
  },
  {
   "cell_type": "markdown",
   "metadata": {},
   "source": [
    "#### 56%  teams matches after chosing to field first "
   ]
  },
  {
   "cell_type": "markdown",
   "metadata": {},
   "source": [
    "## Matches won after Winning the Toss and Batting First"
   ]
  },
  {
   "cell_type": "code",
   "execution_count": 38,
   "metadata": {},
   "outputs": [],
   "source": [
    "first_bat_matches = matches[matches['toss_decision'] == 'bat']"
   ]
  },
  {
   "cell_type": "code",
   "execution_count": 39,
   "metadata": {},
   "outputs": [
    {
     "data": {
      "text/plain": [
       "134"
      ]
     },
     "execution_count": 39,
     "metadata": {},
     "output_type": "execute_result"
    }
   ],
   "source": [
    "sum(first_bat_matches['toss_winner'] == first_bat_matches['winner'])"
   ]
  },
  {
   "cell_type": "code",
   "execution_count": 40,
   "metadata": {},
   "outputs": [
    {
     "data": {
      "text/plain": [
       "0.45733788395904434"
      ]
     },
     "execution_count": 40,
     "metadata": {},
     "output_type": "execute_result"
    }
   ],
   "source": [
    "np.mean(first_bat_matches['toss_winner'] == first_bat_matches['winner'])"
   ]
  },
  {
   "cell_type": "markdown",
   "metadata": {},
   "source": [
    "#### 45.7% teams won matches after chosing to bat first "
   ]
  },
  {
   "cell_type": "markdown",
   "metadata": {},
   "source": [
    "## Most Player of the Match Awards "
   ]
  },
  {
   "cell_type": "code",
   "execution_count": 41,
   "metadata": {},
   "outputs": [
    {
     "data": {
      "text/plain": [
       "CH Gayle           21\n",
       "AB de Villiers     20\n",
       "RG Sharma          17\n",
       "MS Dhoni           17\n",
       "DA Warner          17\n",
       "YK Pathan          16\n",
       "SR Watson          15\n",
       "SK Raina           14\n",
       "G Gambhir          13\n",
       "AM Rahane          12\n",
       "V Kohli            12\n",
       "MEK Hussey         12\n",
       "A Mishra           11\n",
       "AD Russell         11\n",
       "V Sehwag           11\n",
       "DR Smith           11\n",
       "KA Pollard         10\n",
       "JH Kallis          10\n",
       "SE Marsh            9\n",
       "AT Rayudu           9\n",
       "SP Narine           9\n",
       "Harbhajan Singh     8\n",
       "UT Yadav            8\n",
       "RA Jadeja           8\n",
       "SR Tendulkar        8\n",
       "AC Gilchrist        7\n",
       "RV Uthappa          7\n",
       "Rashid Khan         7\n",
       "HH Pandya           6\n",
       "S Dhawan            6\n",
       "Name: player_of_match, dtype: int64"
      ]
     },
     "execution_count": 41,
     "metadata": {},
     "output_type": "execute_result"
    }
   ],
   "source": [
    "matches['player_of_match'].value_counts()[:30]"
   ]
  },
  {
   "cell_type": "markdown",
   "metadata": {},
   "source": [
    "## Number of Matches Won By Home Team "
   ]
  },
  {
   "cell_type": "code",
   "execution_count": 42,
   "metadata": {},
   "outputs": [
    {
     "data": {
      "text/plain": [
       "array(['Hyderabad', 'Pune', 'Rajkot', 'Indore', 'Bangalore', 'Mumbai',\n",
       "       'Kolkata', 'Delhi', 'Chandigarh', 'Kanpur', 'Jaipur', 'Chennai',\n",
       "       'Cape Town', 'Port Elizabeth', 'Durban', 'Centurion',\n",
       "       'East London', 'Johannesburg', 'Kimberley', 'Bloemfontein',\n",
       "       'Ahmedabad', 'Cuttack', 'Nagpur', 'Dharamsala', 'Kochi',\n",
       "       'Visakhapatnam', 'Raipur', 'Ranchi', 'Abu Dhabi', 'Sharjah', nan,\n",
       "       'Mohali', 'Bengaluru'], dtype=object)"
      ]
     },
     "execution_count": 42,
     "metadata": {},
     "output_type": "execute_result"
    }
   ],
   "source": [
    "matches['city'].unique()"
   ]
  },
  {
   "cell_type": "code",
   "execution_count": 43,
   "metadata": {},
   "outputs": [
    {
     "data": {
      "text/plain": [
       "array(['Sunrisers Hyderabad', 'Mumbai Indians', 'Gujarat Lions',\n",
       "       'Rising Pune Supergiant', 'Royal Challengers Bangalore',\n",
       "       'Kolkata Knight Riders', 'Delhi Capitals', 'Kings XI Punjab',\n",
       "       'Chennai Super Kings', 'Rajasthan Royals', 'Deccan Chargers',\n",
       "       'Kochi Tuskers Kerala', 'Pune Warriors'], dtype=object)"
      ]
     },
     "execution_count": 43,
     "metadata": {},
     "output_type": "execute_result"
    }
   ],
   "source": [
    "matches['team1'].unique()"
   ]
  },
  {
   "cell_type": "code",
   "execution_count": 44,
   "metadata": {},
   "outputs": [],
   "source": [
    "home_venue = {'Sunrisers Hyderabad':'Hyderabad',\n",
    "              'Mumbai Indians':'Mumbai',\n",
    "              'Gujarat Lions':'Rajkot',\n",
    "              'Rising Pune Supergiant':'Pune',\n",
    "              'Royal Challengers Bangalore':'Bangalore',\n",
    "              'Kolkata Knight Riders':'Kolkata',\n",
    "              'Delhi Capitals':'Delhi',\n",
    "              'Kings XI Punjab':'Mohali',\n",
    "              'Chennai Super Kings':'Chennai',\n",
    "              'Rajasthan Royals':'Jaipur',\n",
    "              'Deccan Chargers':'Hyderabad',\n",
    "              'Kochi Tuskers Kerala':'Kochi',\n",
    "              'Pune Warriors':'Pune'}"
   ]
  },
  {
   "cell_type": "code",
   "execution_count": 45,
   "metadata": {},
   "outputs": [],
   "source": [
    "def home_team(row):\n",
    "    if home_venue[row['team1']] == row['city']:\n",
    "        return row['team1']\n",
    "    if home_venue[row['team2']] == row['city']:\n",
    "        return row['team2']\n",
    "    else:\n",
    "        return \"Neutral\""
   ]
  },
  {
   "cell_type": "code",
   "execution_count": 46,
   "metadata": {},
   "outputs": [],
   "source": [
    "matches['Home Team'] = matches.apply(home_team,axis=1)"
   ]
  },
  {
   "cell_type": "code",
   "execution_count": 47,
   "metadata": {},
   "outputs": [
    {
     "data": {
      "text/html": [
       "<div>\n",
       "<style scoped>\n",
       "    .dataframe tbody tr th:only-of-type {\n",
       "        vertical-align: middle;\n",
       "    }\n",
       "\n",
       "    .dataframe tbody tr th {\n",
       "        vertical-align: top;\n",
       "    }\n",
       "\n",
       "    .dataframe thead th {\n",
       "        text-align: right;\n",
       "    }\n",
       "</style>\n",
       "<table border=\"1\" class=\"dataframe\">\n",
       "  <thead>\n",
       "    <tr style=\"text-align: right;\">\n",
       "      <th></th>\n",
       "      <th>city</th>\n",
       "      <th>Home Team</th>\n",
       "    </tr>\n",
       "  </thead>\n",
       "  <tbody>\n",
       "    <tr>\n",
       "      <th>0</th>\n",
       "      <td>Hyderabad</td>\n",
       "      <td>Sunrisers Hyderabad</td>\n",
       "    </tr>\n",
       "    <tr>\n",
       "      <th>1</th>\n",
       "      <td>Pune</td>\n",
       "      <td>Rising Pune Supergiant</td>\n",
       "    </tr>\n",
       "    <tr>\n",
       "      <th>2</th>\n",
       "      <td>Rajkot</td>\n",
       "      <td>Gujarat Lions</td>\n",
       "    </tr>\n",
       "    <tr>\n",
       "      <th>3</th>\n",
       "      <td>Indore</td>\n",
       "      <td>Neutral</td>\n",
       "    </tr>\n",
       "    <tr>\n",
       "      <th>4</th>\n",
       "      <td>Bangalore</td>\n",
       "      <td>Royal Challengers Bangalore</td>\n",
       "    </tr>\n",
       "    <tr>\n",
       "      <th>...</th>\n",
       "      <td>...</td>\n",
       "      <td>...</td>\n",
       "    </tr>\n",
       "    <tr>\n",
       "      <th>751</th>\n",
       "      <td>Mumbai</td>\n",
       "      <td>Mumbai Indians</td>\n",
       "    </tr>\n",
       "    <tr>\n",
       "      <th>752</th>\n",
       "      <td>Chennai</td>\n",
       "      <td>Chennai Super Kings</td>\n",
       "    </tr>\n",
       "    <tr>\n",
       "      <th>753</th>\n",
       "      <td>Visakhapatnam</td>\n",
       "      <td>Neutral</td>\n",
       "    </tr>\n",
       "    <tr>\n",
       "      <th>754</th>\n",
       "      <td>Visakhapatnam</td>\n",
       "      <td>Neutral</td>\n",
       "    </tr>\n",
       "    <tr>\n",
       "      <th>755</th>\n",
       "      <td>Hyderabad</td>\n",
       "      <td>Neutral</td>\n",
       "    </tr>\n",
       "  </tbody>\n",
       "</table>\n",
       "<p>756 rows × 2 columns</p>\n",
       "</div>"
      ],
      "text/plain": [
       "              city                    Home Team\n",
       "0        Hyderabad          Sunrisers Hyderabad\n",
       "1             Pune       Rising Pune Supergiant\n",
       "2           Rajkot                Gujarat Lions\n",
       "3           Indore                      Neutral\n",
       "4        Bangalore  Royal Challengers Bangalore\n",
       "..             ...                          ...\n",
       "751         Mumbai               Mumbai Indians\n",
       "752        Chennai          Chennai Super Kings\n",
       "753  Visakhapatnam                      Neutral\n",
       "754  Visakhapatnam                      Neutral\n",
       "755      Hyderabad                      Neutral\n",
       "\n",
       "[756 rows x 2 columns]"
      ]
     },
     "execution_count": 47,
     "metadata": {},
     "output_type": "execute_result"
    }
   ],
   "source": [
    "matches[['city','Home Team']]"
   ]
  },
  {
   "cell_type": "code",
   "execution_count": 48,
   "metadata": {},
   "outputs": [
    {
     "data": {
      "text/plain": [
       "286"
      ]
     },
     "execution_count": 48,
     "metadata": {},
     "output_type": "execute_result"
    }
   ],
   "source": [
    "sum(matches['Home Team'] == matches['winner'])"
   ]
  },
  {
   "cell_type": "code",
   "execution_count": 49,
   "metadata": {},
   "outputs": [
    {
     "data": {
      "text/plain": [
       "0.3783068783068783"
      ]
     },
     "execution_count": 49,
     "metadata": {},
     "output_type": "execute_result"
    }
   ],
   "source": [
    "np.mean(matches['Home Team'] == matches['winner'])"
   ]
  },
  {
   "cell_type": "markdown",
   "metadata": {},
   "source": [
    "#### The above data shows that only 37.8% percent matches were won by Home teams. This is beacuse many matches were also held in Neutral venues. Let us see that same results for non Neutral Matches. "
   ]
  },
  {
   "cell_type": "code",
   "execution_count": 50,
   "metadata": {},
   "outputs": [],
   "source": [
    "non_neutral_matches = matches[matches['Home Team'] != 'Neutral']"
   ]
  },
  {
   "cell_type": "code",
   "execution_count": 51,
   "metadata": {},
   "outputs": [
    {
     "data": {
      "text/plain": [
       "286"
      ]
     },
     "execution_count": 51,
     "metadata": {},
     "output_type": "execute_result"
    }
   ],
   "source": [
    "sum(non_neutral_matches['Home Team'] == non_neutral_matches['winner'])"
   ]
  },
  {
   "cell_type": "code",
   "execution_count": 52,
   "metadata": {},
   "outputs": [
    {
     "data": {
      "text/plain": [
       "0.5663366336633663"
      ]
     },
     "execution_count": 52,
     "metadata": {},
     "output_type": "execute_result"
    }
   ],
   "source": [
    "np.mean(non_neutral_matches['Home Team'] == non_neutral_matches['winner'])"
   ]
  },
  {
   "cell_type": "markdown",
   "metadata": {},
   "source": [
    "#### So, we can see that more that 56% of matches were won by home team when either of the teams were playing in their home venue."
   ]
  },
  {
   "cell_type": "markdown",
   "metadata": {},
   "source": [
    "## Percentage of Matches won by Home Teams after winning the Toss"
   ]
  },
  {
   "cell_type": "code",
   "execution_count": 53,
   "metadata": {},
   "outputs": [],
   "source": [
    "home_team_won_toss_matches = non_neutral_matches[non_neutral_matches['Home Team'] == non_neutral_matches['toss_winner']]"
   ]
  },
  {
   "cell_type": "code",
   "execution_count": 54,
   "metadata": {},
   "outputs": [
    {
     "data": {
      "text/plain": [
       "0.58"
      ]
     },
     "execution_count": 54,
     "metadata": {},
     "output_type": "execute_result"
    }
   ],
   "source": [
    "np.mean(home_team_won_toss_matches['Home Team'] == home_team_won_toss_matches['winner'])"
   ]
  },
  {
   "cell_type": "markdown",
   "metadata": {},
   "source": [
    "#### So, 58% of teams won matches after winning the toss in their home Venue"
   ]
  },
  {
   "cell_type": "markdown",
   "metadata": {},
   "source": [
    "# Machine Learning Models to Predict The Winner "
   ]
  },
  {
   "cell_type": "markdown",
   "metadata": {},
   "source": [
    "### Data Preprocessing "
   ]
  },
  {
   "cell_type": "code",
   "execution_count": 55,
   "metadata": {},
   "outputs": [
    {
     "data": {
      "text/plain": [
       "normal       743\n",
       "tie            9\n",
       "no result      4\n",
       "Name: result, dtype: int64"
      ]
     },
     "execution_count": 55,
     "metadata": {},
     "output_type": "execute_result"
    }
   ],
   "source": [
    "matches.result.value_counts()"
   ]
  },
  {
   "cell_type": "markdown",
   "metadata": {},
   "source": [
    "#### First of all Let us drop all the matches where neither of the teams won the match"
   ]
  },
  {
   "cell_type": "code",
   "execution_count": 56,
   "metadata": {},
   "outputs": [],
   "source": [
    "data = matches[matches['result'] != 'no result']"
   ]
  },
  {
   "cell_type": "code",
   "execution_count": 57,
   "metadata": {},
   "outputs": [
    {
     "data": {
      "text/plain": [
       "normal    743\n",
       "tie         9\n",
       "Name: result, dtype: int64"
      ]
     },
     "execution_count": 57,
     "metadata": {},
     "output_type": "execute_result"
    }
   ],
   "source": [
    "data.result.value_counts()"
   ]
  },
  {
   "cell_type": "markdown",
   "metadata": {},
   "source": [
    "#### now, let us replace all the teams with numerical values "
   ]
  },
  {
   "cell_type": "code",
   "execution_count": 58,
   "metadata": {},
   "outputs": [],
   "source": [
    "list_of_teams = list(data['team1'].unique())"
   ]
  },
  {
   "cell_type": "code",
   "execution_count": 59,
   "metadata": {},
   "outputs": [
    {
     "data": {
      "text/plain": [
       "['Sunrisers Hyderabad',\n",
       " 'Mumbai Indians',\n",
       " 'Gujarat Lions',\n",
       " 'Rising Pune Supergiant',\n",
       " 'Royal Challengers Bangalore',\n",
       " 'Kolkata Knight Riders',\n",
       " 'Delhi Capitals',\n",
       " 'Kings XI Punjab',\n",
       " 'Chennai Super Kings',\n",
       " 'Rajasthan Royals',\n",
       " 'Deccan Chargers',\n",
       " 'Kochi Tuskers Kerala',\n",
       " 'Pune Warriors']"
      ]
     },
     "execution_count": 59,
     "metadata": {},
     "output_type": "execute_result"
    }
   ],
   "source": [
    "list_of_teams"
   ]
  },
  {
   "cell_type": "code",
   "execution_count": 60,
   "metadata": {},
   "outputs": [
    {
     "name": "stdout",
     "output_type": "stream",
     "text": [
      "0\n",
      "1\n",
      "2\n",
      "3\n",
      "4\n",
      "5\n",
      "6\n",
      "7\n",
      "8\n",
      "9\n",
      "10\n",
      "11\n",
      "12\n"
     ]
    }
   ],
   "source": [
    "for t in list_of_teams:\n",
    "    print(list_of_teams.index(t))"
   ]
  },
  {
   "cell_type": "code",
   "execution_count": 61,
   "metadata": {},
   "outputs": [],
   "source": [
    "teams_dict = {team : list_of_teams.index(team) for team in list_of_teams}"
   ]
  },
  {
   "cell_type": "code",
   "execution_count": 62,
   "metadata": {},
   "outputs": [
    {
     "data": {
      "text/plain": [
       "{'Sunrisers Hyderabad': 0,\n",
       " 'Mumbai Indians': 1,\n",
       " 'Gujarat Lions': 2,\n",
       " 'Rising Pune Supergiant': 3,\n",
       " 'Royal Challengers Bangalore': 4,\n",
       " 'Kolkata Knight Riders': 5,\n",
       " 'Delhi Capitals': 6,\n",
       " 'Kings XI Punjab': 7,\n",
       " 'Chennai Super Kings': 8,\n",
       " 'Rajasthan Royals': 9,\n",
       " 'Deccan Chargers': 10,\n",
       " 'Kochi Tuskers Kerala': 11,\n",
       " 'Pune Warriors': 12}"
      ]
     },
     "execution_count": 62,
     "metadata": {},
     "output_type": "execute_result"
    }
   ],
   "source": [
    "teams_dict"
   ]
  },
  {
   "cell_type": "code",
   "execution_count": 63,
   "metadata": {},
   "outputs": [],
   "source": [
    "data = data.replace(teams_dict.keys(),teams_dict.values())"
   ]
  },
  {
   "cell_type": "code",
   "execution_count": 64,
   "metadata": {},
   "outputs": [
    {
     "data": {
      "text/plain": [
       "Index(['id', 'season', 'city', 'date', 'team1', 'team2', 'toss_winner',\n",
       "       'toss_decision', 'result', 'dl_applied', 'winner', 'win_by_runs',\n",
       "       'win_by_wickets', 'player_of_match', 'venue', 'umpire1', 'umpire2',\n",
       "       'umpire3', 'Batting First Team', 'Fielding First Team', 'Home Team'],\n",
       "      dtype='object')"
      ]
     },
     "execution_count": 64,
     "metadata": {},
     "output_type": "execute_result"
    }
   ],
   "source": [
    "data.columns"
   ]
  },
  {
   "cell_type": "markdown",
   "metadata": {},
   "source": [
    "### Now, let us take only those columns that could be relevant for our data "
   ]
  },
  {
   "cell_type": "code",
   "execution_count": 65,
   "metadata": {},
   "outputs": [],
   "source": [
    "data = data[['team1','team2','toss_winner','toss_decision','winner','Batting First Team','Fielding First Team','Home Team']]"
   ]
  },
  {
   "cell_type": "code",
   "execution_count": 66,
   "metadata": {},
   "outputs": [
    {
     "data": {
      "text/html": [
       "<div>\n",
       "<style scoped>\n",
       "    .dataframe tbody tr th:only-of-type {\n",
       "        vertical-align: middle;\n",
       "    }\n",
       "\n",
       "    .dataframe tbody tr th {\n",
       "        vertical-align: top;\n",
       "    }\n",
       "\n",
       "    .dataframe thead th {\n",
       "        text-align: right;\n",
       "    }\n",
       "</style>\n",
       "<table border=\"1\" class=\"dataframe\">\n",
       "  <thead>\n",
       "    <tr style=\"text-align: right;\">\n",
       "      <th></th>\n",
       "      <th>team1</th>\n",
       "      <th>team2</th>\n",
       "      <th>toss_winner</th>\n",
       "      <th>toss_decision</th>\n",
       "      <th>winner</th>\n",
       "      <th>Batting First Team</th>\n",
       "      <th>Fielding First Team</th>\n",
       "      <th>Home Team</th>\n",
       "    </tr>\n",
       "  </thead>\n",
       "  <tbody>\n",
       "    <tr>\n",
       "      <th>0</th>\n",
       "      <td>0</td>\n",
       "      <td>4</td>\n",
       "      <td>4</td>\n",
       "      <td>field</td>\n",
       "      <td>0</td>\n",
       "      <td>0</td>\n",
       "      <td>4</td>\n",
       "      <td>0</td>\n",
       "    </tr>\n",
       "    <tr>\n",
       "      <th>1</th>\n",
       "      <td>1</td>\n",
       "      <td>3</td>\n",
       "      <td>3</td>\n",
       "      <td>field</td>\n",
       "      <td>3</td>\n",
       "      <td>1</td>\n",
       "      <td>3</td>\n",
       "      <td>3</td>\n",
       "    </tr>\n",
       "    <tr>\n",
       "      <th>2</th>\n",
       "      <td>2</td>\n",
       "      <td>5</td>\n",
       "      <td>5</td>\n",
       "      <td>field</td>\n",
       "      <td>5</td>\n",
       "      <td>2</td>\n",
       "      <td>5</td>\n",
       "      <td>2</td>\n",
       "    </tr>\n",
       "    <tr>\n",
       "      <th>3</th>\n",
       "      <td>3</td>\n",
       "      <td>7</td>\n",
       "      <td>7</td>\n",
       "      <td>field</td>\n",
       "      <td>7</td>\n",
       "      <td>3</td>\n",
       "      <td>7</td>\n",
       "      <td>Neutral</td>\n",
       "    </tr>\n",
       "    <tr>\n",
       "      <th>4</th>\n",
       "      <td>4</td>\n",
       "      <td>6</td>\n",
       "      <td>4</td>\n",
       "      <td>bat</td>\n",
       "      <td>4</td>\n",
       "      <td>4</td>\n",
       "      <td>6</td>\n",
       "      <td>4</td>\n",
       "    </tr>\n",
       "  </tbody>\n",
       "</table>\n",
       "</div>"
      ],
      "text/plain": [
       "   team1  team2  toss_winner toss_decision  winner  Batting First Team  \\\n",
       "0      0      4            4         field       0                   0   \n",
       "1      1      3            3         field       3                   1   \n",
       "2      2      5            5         field       5                   2   \n",
       "3      3      7            7         field       7                   3   \n",
       "4      4      6            4           bat       4                   4   \n",
       "\n",
       "   Fielding First Team Home Team  \n",
       "0                    4         0  \n",
       "1                    3         3  \n",
       "2                    5         2  \n",
       "3                    7   Neutral  \n",
       "4                    6         4  "
      ]
     },
     "execution_count": 66,
     "metadata": {},
     "output_type": "execute_result"
    }
   ],
   "source": [
    "data.head()"
   ]
  },
  {
   "cell_type": "markdown",
   "metadata": {},
   "source": [
    "#### Let us replace Neutral by -1"
   ]
  },
  {
   "cell_type": "code",
   "execution_count": 67,
   "metadata": {},
   "outputs": [
    {
     "data": {
      "text/html": [
       "<div>\n",
       "<style scoped>\n",
       "    .dataframe tbody tr th:only-of-type {\n",
       "        vertical-align: middle;\n",
       "    }\n",
       "\n",
       "    .dataframe tbody tr th {\n",
       "        vertical-align: top;\n",
       "    }\n",
       "\n",
       "    .dataframe thead th {\n",
       "        text-align: right;\n",
       "    }\n",
       "</style>\n",
       "<table border=\"1\" class=\"dataframe\">\n",
       "  <thead>\n",
       "    <tr style=\"text-align: right;\">\n",
       "      <th></th>\n",
       "      <th>team1</th>\n",
       "      <th>team2</th>\n",
       "      <th>toss_winner</th>\n",
       "      <th>toss_decision</th>\n",
       "      <th>winner</th>\n",
       "      <th>Batting First Team</th>\n",
       "      <th>Fielding First Team</th>\n",
       "      <th>Home Team</th>\n",
       "    </tr>\n",
       "  </thead>\n",
       "  <tbody>\n",
       "    <tr>\n",
       "      <th>0</th>\n",
       "      <td>0</td>\n",
       "      <td>4</td>\n",
       "      <td>4</td>\n",
       "      <td>field</td>\n",
       "      <td>0</td>\n",
       "      <td>0</td>\n",
       "      <td>4</td>\n",
       "      <td>0</td>\n",
       "    </tr>\n",
       "    <tr>\n",
       "      <th>1</th>\n",
       "      <td>1</td>\n",
       "      <td>3</td>\n",
       "      <td>3</td>\n",
       "      <td>field</td>\n",
       "      <td>3</td>\n",
       "      <td>1</td>\n",
       "      <td>3</td>\n",
       "      <td>3</td>\n",
       "    </tr>\n",
       "    <tr>\n",
       "      <th>2</th>\n",
       "      <td>2</td>\n",
       "      <td>5</td>\n",
       "      <td>5</td>\n",
       "      <td>field</td>\n",
       "      <td>5</td>\n",
       "      <td>2</td>\n",
       "      <td>5</td>\n",
       "      <td>2</td>\n",
       "    </tr>\n",
       "    <tr>\n",
       "      <th>3</th>\n",
       "      <td>3</td>\n",
       "      <td>7</td>\n",
       "      <td>7</td>\n",
       "      <td>field</td>\n",
       "      <td>7</td>\n",
       "      <td>3</td>\n",
       "      <td>7</td>\n",
       "      <td>-1</td>\n",
       "    </tr>\n",
       "    <tr>\n",
       "      <th>4</th>\n",
       "      <td>4</td>\n",
       "      <td>6</td>\n",
       "      <td>4</td>\n",
       "      <td>bat</td>\n",
       "      <td>4</td>\n",
       "      <td>4</td>\n",
       "      <td>6</td>\n",
       "      <td>4</td>\n",
       "    </tr>\n",
       "  </tbody>\n",
       "</table>\n",
       "</div>"
      ],
      "text/plain": [
       "   team1  team2  toss_winner toss_decision  winner  Batting First Team  \\\n",
       "0      0      4            4         field       0                   0   \n",
       "1      1      3            3         field       3                   1   \n",
       "2      2      5            5         field       5                   2   \n",
       "3      3      7            7         field       7                   3   \n",
       "4      4      6            4           bat       4                   4   \n",
       "\n",
       "   Fielding First Team  Home Team  \n",
       "0                    4          0  \n",
       "1                    3          3  \n",
       "2                    5          2  \n",
       "3                    7         -1  \n",
       "4                    6          4  "
      ]
     },
     "execution_count": 67,
     "metadata": {},
     "output_type": "execute_result"
    }
   ],
   "source": [
    "data = data.replace('Neutral',-1)\n",
    "data.head()"
   ]
  },
  {
   "cell_type": "code",
   "execution_count": 68,
   "metadata": {},
   "outputs": [
    {
     "data": {
      "text/html": [
       "<div>\n",
       "<style scoped>\n",
       "    .dataframe tbody tr th:only-of-type {\n",
       "        vertical-align: middle;\n",
       "    }\n",
       "\n",
       "    .dataframe tbody tr th {\n",
       "        vertical-align: top;\n",
       "    }\n",
       "\n",
       "    .dataframe thead th {\n",
       "        text-align: right;\n",
       "    }\n",
       "</style>\n",
       "<table border=\"1\" class=\"dataframe\">\n",
       "  <thead>\n",
       "    <tr style=\"text-align: right;\">\n",
       "      <th></th>\n",
       "      <th>team1</th>\n",
       "      <th>team2</th>\n",
       "      <th>toss_winner</th>\n",
       "      <th>toss_decision</th>\n",
       "      <th>winner</th>\n",
       "      <th>Batting First Team</th>\n",
       "      <th>Fielding First Team</th>\n",
       "      <th>Home Team</th>\n",
       "    </tr>\n",
       "  </thead>\n",
       "  <tbody>\n",
       "    <tr>\n",
       "      <th>0</th>\n",
       "      <td>0</td>\n",
       "      <td>4</td>\n",
       "      <td>4</td>\n",
       "      <td>1</td>\n",
       "      <td>0</td>\n",
       "      <td>0</td>\n",
       "      <td>4</td>\n",
       "      <td>0</td>\n",
       "    </tr>\n",
       "    <tr>\n",
       "      <th>1</th>\n",
       "      <td>1</td>\n",
       "      <td>3</td>\n",
       "      <td>3</td>\n",
       "      <td>1</td>\n",
       "      <td>3</td>\n",
       "      <td>1</td>\n",
       "      <td>3</td>\n",
       "      <td>3</td>\n",
       "    </tr>\n",
       "    <tr>\n",
       "      <th>2</th>\n",
       "      <td>2</td>\n",
       "      <td>5</td>\n",
       "      <td>5</td>\n",
       "      <td>1</td>\n",
       "      <td>5</td>\n",
       "      <td>2</td>\n",
       "      <td>5</td>\n",
       "      <td>2</td>\n",
       "    </tr>\n",
       "    <tr>\n",
       "      <th>3</th>\n",
       "      <td>3</td>\n",
       "      <td>7</td>\n",
       "      <td>7</td>\n",
       "      <td>1</td>\n",
       "      <td>7</td>\n",
       "      <td>3</td>\n",
       "      <td>7</td>\n",
       "      <td>-1</td>\n",
       "    </tr>\n",
       "    <tr>\n",
       "      <th>4</th>\n",
       "      <td>4</td>\n",
       "      <td>6</td>\n",
       "      <td>4</td>\n",
       "      <td>0</td>\n",
       "      <td>4</td>\n",
       "      <td>4</td>\n",
       "      <td>6</td>\n",
       "      <td>4</td>\n",
       "    </tr>\n",
       "  </tbody>\n",
       "</table>\n",
       "</div>"
      ],
      "text/plain": [
       "   team1  team2  toss_winner  toss_decision  winner  Batting First Team  \\\n",
       "0      0      4            4              1       0                   0   \n",
       "1      1      3            3              1       3                   1   \n",
       "2      2      5            5              1       5                   2   \n",
       "3      3      7            7              1       7                   3   \n",
       "4      4      6            4              0       4                   4   \n",
       "\n",
       "   Fielding First Team  Home Team  \n",
       "0                    4          0  \n",
       "1                    3          3  \n",
       "2                    5          2  \n",
       "3                    7         -1  \n",
       "4                    6          4  "
      ]
     },
     "execution_count": 68,
     "metadata": {},
     "output_type": "execute_result"
    }
   ],
   "source": [
    "toss_decision = {'bat':0,'field':1}\n",
    "data =data.replace(toss_decision.keys(),toss_decision.values())\n",
    "data.head()"
   ]
  },
  {
   "cell_type": "code",
   "execution_count": 69,
   "metadata": {},
   "outputs": [],
   "source": [
    "cols = data.columns.tolist()"
   ]
  },
  {
   "cell_type": "code",
   "execution_count": 70,
   "metadata": {},
   "outputs": [
    {
     "data": {
      "text/plain": [
       "['team1',\n",
       " 'team2',\n",
       " 'toss_winner',\n",
       " 'toss_decision',\n",
       " 'winner',\n",
       " 'Batting First Team',\n",
       " 'Fielding First Team',\n",
       " 'Home Team']"
      ]
     },
     "execution_count": 70,
     "metadata": {},
     "output_type": "execute_result"
    }
   ],
   "source": [
    "cols"
   ]
  },
  {
   "cell_type": "code",
   "execution_count": 71,
   "metadata": {},
   "outputs": [],
   "source": [
    "cols = ['team1',\n",
    " 'team2',\n",
    " 'toss_winner',\n",
    " 'toss_decision',\n",
    " 'Batting First Team',\n",
    " 'Fielding First Team',\n",
    " 'Home Team','winner']"
   ]
  },
  {
   "cell_type": "code",
   "execution_count": 72,
   "metadata": {},
   "outputs": [
    {
     "data": {
      "text/html": [
       "<div>\n",
       "<style scoped>\n",
       "    .dataframe tbody tr th:only-of-type {\n",
       "        vertical-align: middle;\n",
       "    }\n",
       "\n",
       "    .dataframe tbody tr th {\n",
       "        vertical-align: top;\n",
       "    }\n",
       "\n",
       "    .dataframe thead th {\n",
       "        text-align: right;\n",
       "    }\n",
       "</style>\n",
       "<table border=\"1\" class=\"dataframe\">\n",
       "  <thead>\n",
       "    <tr style=\"text-align: right;\">\n",
       "      <th></th>\n",
       "      <th>team1</th>\n",
       "      <th>team2</th>\n",
       "      <th>toss_winner</th>\n",
       "      <th>toss_decision</th>\n",
       "      <th>Batting First Team</th>\n",
       "      <th>Fielding First Team</th>\n",
       "      <th>Home Team</th>\n",
       "      <th>winner</th>\n",
       "    </tr>\n",
       "  </thead>\n",
       "  <tbody>\n",
       "    <tr>\n",
       "      <th>0</th>\n",
       "      <td>0</td>\n",
       "      <td>4</td>\n",
       "      <td>4</td>\n",
       "      <td>1</td>\n",
       "      <td>0</td>\n",
       "      <td>4</td>\n",
       "      <td>0</td>\n",
       "      <td>0</td>\n",
       "    </tr>\n",
       "    <tr>\n",
       "      <th>1</th>\n",
       "      <td>1</td>\n",
       "      <td>3</td>\n",
       "      <td>3</td>\n",
       "      <td>1</td>\n",
       "      <td>1</td>\n",
       "      <td>3</td>\n",
       "      <td>3</td>\n",
       "      <td>3</td>\n",
       "    </tr>\n",
       "    <tr>\n",
       "      <th>2</th>\n",
       "      <td>2</td>\n",
       "      <td>5</td>\n",
       "      <td>5</td>\n",
       "      <td>1</td>\n",
       "      <td>2</td>\n",
       "      <td>5</td>\n",
       "      <td>2</td>\n",
       "      <td>5</td>\n",
       "    </tr>\n",
       "    <tr>\n",
       "      <th>3</th>\n",
       "      <td>3</td>\n",
       "      <td>7</td>\n",
       "      <td>7</td>\n",
       "      <td>1</td>\n",
       "      <td>3</td>\n",
       "      <td>7</td>\n",
       "      <td>-1</td>\n",
       "      <td>7</td>\n",
       "    </tr>\n",
       "    <tr>\n",
       "      <th>4</th>\n",
       "      <td>4</td>\n",
       "      <td>6</td>\n",
       "      <td>4</td>\n",
       "      <td>0</td>\n",
       "      <td>4</td>\n",
       "      <td>6</td>\n",
       "      <td>4</td>\n",
       "      <td>4</td>\n",
       "    </tr>\n",
       "  </tbody>\n",
       "</table>\n",
       "</div>"
      ],
      "text/plain": [
       "   team1  team2  toss_winner  toss_decision  Batting First Team  \\\n",
       "0      0      4            4              1                   0   \n",
       "1      1      3            3              1                   1   \n",
       "2      2      5            5              1                   2   \n",
       "3      3      7            7              1                   3   \n",
       "4      4      6            4              0                   4   \n",
       "\n",
       "   Fielding First Team  Home Team  winner  \n",
       "0                    4          0       0  \n",
       "1                    3          3       3  \n",
       "2                    5          2       5  \n",
       "3                    7         -1       7  \n",
       "4                    6          4       4  "
      ]
     },
     "execution_count": 72,
     "metadata": {},
     "output_type": "execute_result"
    }
   ],
   "source": [
    "data = data[cols]\n",
    "data.head()"
   ]
  },
  {
   "cell_type": "code",
   "execution_count": 73,
   "metadata": {},
   "outputs": [
    {
     "data": {
      "text/plain": [
       "0.5545212765957447"
      ]
     },
     "execution_count": 73,
     "metadata": {},
     "output_type": "execute_result"
    }
   ],
   "source": [
    "np.mean(data['winner'] == data['team2'])"
   ]
  },
  {
   "cell_type": "code",
   "execution_count": 74,
   "metadata": {},
   "outputs": [
    {
     "name": "stdout",
     "output_type": "stream",
     "text": [
      "[0, 1, 2, 3, 4, 5, 6, 7, 8, 9, 10, 11, 12]\n",
      "[4, 3, 5, 7, 6, 0, 1, 2, 9, 8, 10, 12, 11]\n",
      "[4, 3, 5, 7, 0, 1, 2, 6, 8, 9, 10, 11, 12]\n",
      "[1, 0]\n",
      "[0, 1, 2, 3, 4, 5, 6, 7, 8, 9, 10, 11, 12]\n",
      "[4, 3, 5, 7, 6, 0, 1, 2, 9, 8, 10, 12, 11]\n",
      "[0, 3, 2, -1, 4, 1, 5, 6, 9, 10, 8, 11, 12, 7]\n",
      "[0, 3, 5, 7, 4, 1, 6, 2, 8, 9, 10, 12, 11]\n"
     ]
    }
   ],
   "source": [
    "for col in cols:\n",
    "    print(list(data[col].unique()))"
   ]
  },
  {
   "cell_type": "code",
   "execution_count": 75,
   "metadata": {},
   "outputs": [
    {
     "data": {
      "text/plain": [
       "(752, 8)"
      ]
     },
     "execution_count": 75,
     "metadata": {},
     "output_type": "execute_result"
    }
   ],
   "source": [
    "data.shape"
   ]
  },
  {
   "cell_type": "code",
   "execution_count": 76,
   "metadata": {},
   "outputs": [],
   "source": [
    "X = data.values[:,:-1]\n",
    "Y = data.values[:,-1]"
   ]
  },
  {
   "cell_type": "code",
   "execution_count": 77,
   "metadata": {},
   "outputs": [
    {
     "data": {
      "text/plain": [
       "(752, 7)"
      ]
     },
     "execution_count": 77,
     "metadata": {},
     "output_type": "execute_result"
    }
   ],
   "source": [
    "X.shape"
   ]
  },
  {
   "cell_type": "code",
   "execution_count": 78,
   "metadata": {},
   "outputs": [
    {
     "name": "stdout",
     "output_type": "stream",
     "text": [
      "[[ 0  4  4 ...  0  4  0]\n",
      " [ 1  3  3 ...  1  3  3]\n",
      " [ 2  5  5 ...  2  5  2]\n",
      " ...\n",
      " [ 0  6  6 ...  0  6 -1]\n",
      " [ 6  8  8 ...  6  8 -1]\n",
      " [ 1  8  1 ...  1  8 -1]]\n"
     ]
    }
   ],
   "source": [
    "print(X)"
   ]
  },
  {
   "cell_type": "code",
   "execution_count": 79,
   "metadata": {},
   "outputs": [
    {
     "data": {
      "text/html": [
       "<div>\n",
       "<style scoped>\n",
       "    .dataframe tbody tr th:only-of-type {\n",
       "        vertical-align: middle;\n",
       "    }\n",
       "\n",
       "    .dataframe tbody tr th {\n",
       "        vertical-align: top;\n",
       "    }\n",
       "\n",
       "    .dataframe thead th {\n",
       "        text-align: right;\n",
       "    }\n",
       "</style>\n",
       "<table border=\"1\" class=\"dataframe\">\n",
       "  <thead>\n",
       "    <tr style=\"text-align: right;\">\n",
       "      <th></th>\n",
       "      <th>team1</th>\n",
       "      <th>team2</th>\n",
       "      <th>toss_winner</th>\n",
       "      <th>toss_decision</th>\n",
       "      <th>Batting First Team</th>\n",
       "      <th>Fielding First Team</th>\n",
       "      <th>Home Team</th>\n",
       "      <th>winner</th>\n",
       "    </tr>\n",
       "  </thead>\n",
       "  <tbody>\n",
       "    <tr>\n",
       "      <th>0</th>\n",
       "      <td>0</td>\n",
       "      <td>4</td>\n",
       "      <td>4</td>\n",
       "      <td>1</td>\n",
       "      <td>0</td>\n",
       "      <td>4</td>\n",
       "      <td>0</td>\n",
       "      <td>0</td>\n",
       "    </tr>\n",
       "    <tr>\n",
       "      <th>1</th>\n",
       "      <td>1</td>\n",
       "      <td>3</td>\n",
       "      <td>3</td>\n",
       "      <td>1</td>\n",
       "      <td>1</td>\n",
       "      <td>3</td>\n",
       "      <td>3</td>\n",
       "      <td>3</td>\n",
       "    </tr>\n",
       "    <tr>\n",
       "      <th>2</th>\n",
       "      <td>2</td>\n",
       "      <td>5</td>\n",
       "      <td>5</td>\n",
       "      <td>1</td>\n",
       "      <td>2</td>\n",
       "      <td>5</td>\n",
       "      <td>2</td>\n",
       "      <td>5</td>\n",
       "    </tr>\n",
       "    <tr>\n",
       "      <th>3</th>\n",
       "      <td>3</td>\n",
       "      <td>7</td>\n",
       "      <td>7</td>\n",
       "      <td>1</td>\n",
       "      <td>3</td>\n",
       "      <td>7</td>\n",
       "      <td>-1</td>\n",
       "      <td>7</td>\n",
       "    </tr>\n",
       "    <tr>\n",
       "      <th>4</th>\n",
       "      <td>4</td>\n",
       "      <td>6</td>\n",
       "      <td>4</td>\n",
       "      <td>0</td>\n",
       "      <td>4</td>\n",
       "      <td>6</td>\n",
       "      <td>4</td>\n",
       "      <td>4</td>\n",
       "    </tr>\n",
       "    <tr>\n",
       "      <th>...</th>\n",
       "      <td>...</td>\n",
       "      <td>...</td>\n",
       "      <td>...</td>\n",
       "      <td>...</td>\n",
       "      <td>...</td>\n",
       "      <td>...</td>\n",
       "      <td>...</td>\n",
       "      <td>...</td>\n",
       "    </tr>\n",
       "    <tr>\n",
       "      <th>751</th>\n",
       "      <td>5</td>\n",
       "      <td>1</td>\n",
       "      <td>1</td>\n",
       "      <td>1</td>\n",
       "      <td>5</td>\n",
       "      <td>1</td>\n",
       "      <td>1</td>\n",
       "      <td>1</td>\n",
       "    </tr>\n",
       "    <tr>\n",
       "      <th>752</th>\n",
       "      <td>8</td>\n",
       "      <td>1</td>\n",
       "      <td>8</td>\n",
       "      <td>0</td>\n",
       "      <td>8</td>\n",
       "      <td>1</td>\n",
       "      <td>8</td>\n",
       "      <td>1</td>\n",
       "    </tr>\n",
       "    <tr>\n",
       "      <th>753</th>\n",
       "      <td>0</td>\n",
       "      <td>6</td>\n",
       "      <td>6</td>\n",
       "      <td>1</td>\n",
       "      <td>0</td>\n",
       "      <td>6</td>\n",
       "      <td>-1</td>\n",
       "      <td>6</td>\n",
       "    </tr>\n",
       "    <tr>\n",
       "      <th>754</th>\n",
       "      <td>6</td>\n",
       "      <td>8</td>\n",
       "      <td>8</td>\n",
       "      <td>1</td>\n",
       "      <td>6</td>\n",
       "      <td>8</td>\n",
       "      <td>-1</td>\n",
       "      <td>8</td>\n",
       "    </tr>\n",
       "    <tr>\n",
       "      <th>755</th>\n",
       "      <td>1</td>\n",
       "      <td>8</td>\n",
       "      <td>1</td>\n",
       "      <td>0</td>\n",
       "      <td>1</td>\n",
       "      <td>8</td>\n",
       "      <td>-1</td>\n",
       "      <td>1</td>\n",
       "    </tr>\n",
       "  </tbody>\n",
       "</table>\n",
       "<p>752 rows × 8 columns</p>\n",
       "</div>"
      ],
      "text/plain": [
       "     team1  team2  toss_winner  toss_decision  Batting First Team  \\\n",
       "0        0      4            4              1                   0   \n",
       "1        1      3            3              1                   1   \n",
       "2        2      5            5              1                   2   \n",
       "3        3      7            7              1                   3   \n",
       "4        4      6            4              0                   4   \n",
       "..     ...    ...          ...            ...                 ...   \n",
       "751      5      1            1              1                   5   \n",
       "752      8      1            8              0                   8   \n",
       "753      0      6            6              1                   0   \n",
       "754      6      8            8              1                   6   \n",
       "755      1      8            1              0                   1   \n",
       "\n",
       "     Fielding First Team  Home Team  winner  \n",
       "0                      4          0       0  \n",
       "1                      3          3       3  \n",
       "2                      5          2       5  \n",
       "3                      7         -1       7  \n",
       "4                      6          4       4  \n",
       "..                   ...        ...     ...  \n",
       "751                    1          1       1  \n",
       "752                    1          8       1  \n",
       "753                    6         -1       6  \n",
       "754                    8         -1       8  \n",
       "755                    8         -1       1  \n",
       "\n",
       "[752 rows x 8 columns]"
      ]
     },
     "execution_count": 79,
     "metadata": {},
     "output_type": "execute_result"
    }
   ],
   "source": [
    "data"
   ]
  },
  {
   "cell_type": "markdown",
   "metadata": {},
   "source": [
    "#### Now, let us change the winner column to take only two values- either 1 (for team1) or 2 (for team2)"
   ]
  },
  {
   "cell_type": "code",
   "execution_count": 80,
   "metadata": {},
   "outputs": [],
   "source": [
    "def bin_enc(row):\n",
    "    if row['team1'] == row['winner']:\n",
    "        return 1\n",
    "    else:\n",
    "        return 2"
   ]
  },
  {
   "cell_type": "code",
   "execution_count": 81,
   "metadata": {},
   "outputs": [],
   "source": [
    "data['winner'] = data.apply(bin_enc,axis = 1)"
   ]
  },
  {
   "cell_type": "code",
   "execution_count": 82,
   "metadata": {},
   "outputs": [
    {
     "data": {
      "text/html": [
       "<div>\n",
       "<style scoped>\n",
       "    .dataframe tbody tr th:only-of-type {\n",
       "        vertical-align: middle;\n",
       "    }\n",
       "\n",
       "    .dataframe tbody tr th {\n",
       "        vertical-align: top;\n",
       "    }\n",
       "\n",
       "    .dataframe thead th {\n",
       "        text-align: right;\n",
       "    }\n",
       "</style>\n",
       "<table border=\"1\" class=\"dataframe\">\n",
       "  <thead>\n",
       "    <tr style=\"text-align: right;\">\n",
       "      <th></th>\n",
       "      <th>team1</th>\n",
       "      <th>team2</th>\n",
       "      <th>toss_winner</th>\n",
       "      <th>toss_decision</th>\n",
       "      <th>Batting First Team</th>\n",
       "      <th>Fielding First Team</th>\n",
       "      <th>Home Team</th>\n",
       "      <th>winner</th>\n",
       "    </tr>\n",
       "  </thead>\n",
       "  <tbody>\n",
       "    <tr>\n",
       "      <th>0</th>\n",
       "      <td>0</td>\n",
       "      <td>4</td>\n",
       "      <td>4</td>\n",
       "      <td>1</td>\n",
       "      <td>0</td>\n",
       "      <td>4</td>\n",
       "      <td>0</td>\n",
       "      <td>1</td>\n",
       "    </tr>\n",
       "    <tr>\n",
       "      <th>1</th>\n",
       "      <td>1</td>\n",
       "      <td>3</td>\n",
       "      <td>3</td>\n",
       "      <td>1</td>\n",
       "      <td>1</td>\n",
       "      <td>3</td>\n",
       "      <td>3</td>\n",
       "      <td>2</td>\n",
       "    </tr>\n",
       "    <tr>\n",
       "      <th>2</th>\n",
       "      <td>2</td>\n",
       "      <td>5</td>\n",
       "      <td>5</td>\n",
       "      <td>1</td>\n",
       "      <td>2</td>\n",
       "      <td>5</td>\n",
       "      <td>2</td>\n",
       "      <td>2</td>\n",
       "    </tr>\n",
       "    <tr>\n",
       "      <th>3</th>\n",
       "      <td>3</td>\n",
       "      <td>7</td>\n",
       "      <td>7</td>\n",
       "      <td>1</td>\n",
       "      <td>3</td>\n",
       "      <td>7</td>\n",
       "      <td>-1</td>\n",
       "      <td>2</td>\n",
       "    </tr>\n",
       "    <tr>\n",
       "      <th>4</th>\n",
       "      <td>4</td>\n",
       "      <td>6</td>\n",
       "      <td>4</td>\n",
       "      <td>0</td>\n",
       "      <td>4</td>\n",
       "      <td>6</td>\n",
       "      <td>4</td>\n",
       "      <td>1</td>\n",
       "    </tr>\n",
       "    <tr>\n",
       "      <th>...</th>\n",
       "      <td>...</td>\n",
       "      <td>...</td>\n",
       "      <td>...</td>\n",
       "      <td>...</td>\n",
       "      <td>...</td>\n",
       "      <td>...</td>\n",
       "      <td>...</td>\n",
       "      <td>...</td>\n",
       "    </tr>\n",
       "    <tr>\n",
       "      <th>751</th>\n",
       "      <td>5</td>\n",
       "      <td>1</td>\n",
       "      <td>1</td>\n",
       "      <td>1</td>\n",
       "      <td>5</td>\n",
       "      <td>1</td>\n",
       "      <td>1</td>\n",
       "      <td>2</td>\n",
       "    </tr>\n",
       "    <tr>\n",
       "      <th>752</th>\n",
       "      <td>8</td>\n",
       "      <td>1</td>\n",
       "      <td>8</td>\n",
       "      <td>0</td>\n",
       "      <td>8</td>\n",
       "      <td>1</td>\n",
       "      <td>8</td>\n",
       "      <td>2</td>\n",
       "    </tr>\n",
       "    <tr>\n",
       "      <th>753</th>\n",
       "      <td>0</td>\n",
       "      <td>6</td>\n",
       "      <td>6</td>\n",
       "      <td>1</td>\n",
       "      <td>0</td>\n",
       "      <td>6</td>\n",
       "      <td>-1</td>\n",
       "      <td>2</td>\n",
       "    </tr>\n",
       "    <tr>\n",
       "      <th>754</th>\n",
       "      <td>6</td>\n",
       "      <td>8</td>\n",
       "      <td>8</td>\n",
       "      <td>1</td>\n",
       "      <td>6</td>\n",
       "      <td>8</td>\n",
       "      <td>-1</td>\n",
       "      <td>2</td>\n",
       "    </tr>\n",
       "    <tr>\n",
       "      <th>755</th>\n",
       "      <td>1</td>\n",
       "      <td>8</td>\n",
       "      <td>1</td>\n",
       "      <td>0</td>\n",
       "      <td>1</td>\n",
       "      <td>8</td>\n",
       "      <td>-1</td>\n",
       "      <td>1</td>\n",
       "    </tr>\n",
       "  </tbody>\n",
       "</table>\n",
       "<p>752 rows × 8 columns</p>\n",
       "</div>"
      ],
      "text/plain": [
       "     team1  team2  toss_winner  toss_decision  Batting First Team  \\\n",
       "0        0      4            4              1                   0   \n",
       "1        1      3            3              1                   1   \n",
       "2        2      5            5              1                   2   \n",
       "3        3      7            7              1                   3   \n",
       "4        4      6            4              0                   4   \n",
       "..     ...    ...          ...            ...                 ...   \n",
       "751      5      1            1              1                   5   \n",
       "752      8      1            8              0                   8   \n",
       "753      0      6            6              1                   0   \n",
       "754      6      8            8              1                   6   \n",
       "755      1      8            1              0                   1   \n",
       "\n",
       "     Fielding First Team  Home Team  winner  \n",
       "0                      4          0       1  \n",
       "1                      3          3       2  \n",
       "2                      5          2       2  \n",
       "3                      7         -1       2  \n",
       "4                      6          4       1  \n",
       "..                   ...        ...     ...  \n",
       "751                    1          1       2  \n",
       "752                    1          8       2  \n",
       "753                    6         -1       2  \n",
       "754                    8         -1       2  \n",
       "755                    8         -1       1  \n",
       "\n",
       "[752 rows x 8 columns]"
      ]
     },
     "execution_count": 82,
     "metadata": {},
     "output_type": "execute_result"
    }
   ],
   "source": [
    "data"
   ]
  },
  {
   "cell_type": "code",
   "execution_count": 83,
   "metadata": {},
   "outputs": [
    {
     "data": {
      "text/plain": [
       "0.5545212765957447"
      ]
     },
     "execution_count": 83,
     "metadata": {},
     "output_type": "execute_result"
    }
   ],
   "source": [
    "np.mean(data['winner'] == 2)"
   ]
  },
  {
   "cell_type": "code",
   "execution_count": 84,
   "metadata": {},
   "outputs": [],
   "source": [
    "X = data.values[:,:-1]\n",
    "Y = data.values[:,-1]"
   ]
  },
  {
   "cell_type": "code",
   "execution_count": 85,
   "metadata": {},
   "outputs": [],
   "source": [
    "Y = Y.reshape(-1,)"
   ]
  },
  {
   "cell_type": "code",
   "execution_count": 86,
   "metadata": {},
   "outputs": [],
   "source": [
    "from sklearn import svm"
   ]
  },
  {
   "cell_type": "code",
   "execution_count": 87,
   "metadata": {},
   "outputs": [],
   "source": [
    "svm_model = svm.SVC()"
   ]
  },
  {
   "cell_type": "code",
   "execution_count": 88,
   "metadata": {},
   "outputs": [
    {
     "data": {
      "text/plain": [
       "SVC()"
      ]
     },
     "execution_count": 88,
     "metadata": {},
     "output_type": "execute_result"
    }
   ],
   "source": [
    "svm_model.fit(X,Y)"
   ]
  },
  {
   "cell_type": "code",
   "execution_count": 89,
   "metadata": {},
   "outputs": [
    {
     "data": {
      "text/plain": [
       "0.5970744680851063"
      ]
     },
     "execution_count": 89,
     "metadata": {},
     "output_type": "execute_result"
    }
   ],
   "source": [
    "svm_model.score(X,Y)"
   ]
  },
  {
   "cell_type": "code",
   "execution_count": 90,
   "metadata": {},
   "outputs": [
    {
     "data": {
      "text/plain": [
       "array([1, 2, 2, 2, 1, 2, 2, 2, 1, 2], dtype=int64)"
      ]
     },
     "execution_count": 90,
     "metadata": {},
     "output_type": "execute_result"
    }
   ],
   "source": [
    "Y[:10]"
   ]
  },
  {
   "cell_type": "code",
   "execution_count": 91,
   "metadata": {},
   "outputs": [
    {
     "data": {
      "text/plain": [
       "array([1, 2, 2, 2, 2, 2, 2, 2, 2, 2], dtype=int64)"
      ]
     },
     "execution_count": 91,
     "metadata": {},
     "output_type": "execute_result"
    }
   ],
   "source": [
    "svm_model.predict(X[:10])"
   ]
  },
  {
   "cell_type": "code",
   "execution_count": 92,
   "metadata": {},
   "outputs": [],
   "source": [
    "from sklearn import tree"
   ]
  },
  {
   "cell_type": "code",
   "execution_count": 93,
   "metadata": {},
   "outputs": [],
   "source": [
    "dt_model = tree.DecisionTreeClassifier()"
   ]
  },
  {
   "cell_type": "code",
   "execution_count": 94,
   "metadata": {},
   "outputs": [
    {
     "data": {
      "text/plain": [
       "DecisionTreeClassifier()"
      ]
     },
     "execution_count": 94,
     "metadata": {},
     "output_type": "execute_result"
    }
   ],
   "source": [
    "dt_model.fit(X,Y)"
   ]
  },
  {
   "cell_type": "code",
   "execution_count": 95,
   "metadata": {},
   "outputs": [
    {
     "data": {
      "text/plain": [
       "array([1, 2, 2, 2, 1, 2, 2, 2, 1, 1], dtype=int64)"
      ]
     },
     "execution_count": 95,
     "metadata": {},
     "output_type": "execute_result"
    }
   ],
   "source": [
    "dt_model.predict(X[:10])"
   ]
  },
  {
   "cell_type": "code",
   "execution_count": 96,
   "metadata": {},
   "outputs": [
    {
     "data": {
      "text/plain": [
       "0.8085106382978723"
      ]
     },
     "execution_count": 96,
     "metadata": {},
     "output_type": "execute_result"
    }
   ],
   "source": [
    "dt_model.score(X,Y)"
   ]
  },
  {
   "cell_type": "markdown",
   "metadata": {},
   "source": [
    "#### So, we can see that Decison Tree is giving quite good accuracy in predicting the winner. "
   ]
  },
  {
   "cell_type": "code",
   "execution_count": 97,
   "metadata": {},
   "outputs": [],
   "source": [
    "from sklearn.metrics import confusion_matrix"
   ]
  },
  {
   "cell_type": "code",
   "execution_count": 98,
   "metadata": {},
   "outputs": [],
   "source": [
    "Y_pred = dt_model.predict(X)"
   ]
  },
  {
   "cell_type": "code",
   "execution_count": 99,
   "metadata": {},
   "outputs": [
    {
     "data": {
      "text/plain": [
       "array([[290,  45],\n",
       "       [ 99, 318]], dtype=int64)"
      ]
     },
     "execution_count": 99,
     "metadata": {},
     "output_type": "execute_result"
    }
   ],
   "source": [
    "confusion_matrix(Y,Y_pred)"
   ]
  },
  {
   "cell_type": "code",
   "execution_count": 100,
   "metadata": {},
   "outputs": [],
   "source": [
    "from sklearn.metrics import plot_confusion_matrix"
   ]
  },
  {
   "cell_type": "code",
   "execution_count": 101,
   "metadata": {},
   "outputs": [
    {
     "data": {
      "text/plain": [
       "<sklearn.metrics._plot.confusion_matrix.ConfusionMatrixDisplay at 0x2b9797bb670>"
      ]
     },
     "execution_count": 101,
     "metadata": {},
     "output_type": "execute_result"
    },
    {
     "data": {
      "image/png": "[encoded data removed]",
      "text/plain": [
       "<Figure size 576x396 with 2 Axes>"
      ]
     },
     "metadata": {},
     "output_type": "display_data"
    }
   ],
   "source": [
    "plot_confusion_matrix(dt_model,X,Y)"
   ]
  },
  {
   "cell_type": "markdown",
   "metadata": {},
   "source": [
    "# Part 2"
   ]
  },
  {
   "cell_type": "code",
   "execution_count": 102,
   "metadata": {},
   "outputs": [],
   "source": [
    "deliveries = pd.read_csv('deliveries.csv')"
   ]
  },
  {
   "cell_type": "code",
   "execution_count": 103,
   "metadata": {},
   "outputs": [
    {
     "data": {
      "text/html": [
       "<div>\n",
       "<style scoped>\n",
       "    .dataframe tbody tr th:only-of-type {\n",
       "        vertical-align: middle;\n",
       "    }\n",
       "\n",
       "    .dataframe tbody tr th {\n",
       "        vertical-align: top;\n",
       "    }\n",
       "\n",
       "    .dataframe thead th {\n",
       "        text-align: right;\n",
       "    }\n",
       "</style>\n",
       "<table border=\"1\" class=\"dataframe\">\n",
       "  <thead>\n",
       "    <tr style=\"text-align: right;\">\n",
       "      <th></th>\n",
       "      <th>match_id</th>\n",
       "      <th>inning</th>\n",
       "      <th>batting_team</th>\n",
       "      <th>bowling_team</th>\n",
       "      <th>over</th>\n",
       "      <th>ball</th>\n",
       "      <th>batsman</th>\n",
       "      <th>non_striker</th>\n",
       "      <th>bowler</th>\n",
       "      <th>is_super_over</th>\n",
       "      <th>...</th>\n",
       "      <th>bye_runs</th>\n",
       "      <th>legbye_runs</th>\n",
       "      <th>noball_runs</th>\n",
       "      <th>penalty_runs</th>\n",
       "      <th>batsman_runs</th>\n",
       "      <th>extra_runs</th>\n",
       "      <th>total_runs</th>\n",
       "      <th>player_dismissed</th>\n",
       "      <th>dismissal_kind</th>\n",
       "      <th>fielder</th>\n",
       "    </tr>\n",
       "  </thead>\n",
       "  <tbody>\n",
       "    <tr>\n",
       "      <th>0</th>\n",
       "      <td>1</td>\n",
       "      <td>1</td>\n",
       "      <td>Sunrisers Hyderabad</td>\n",
       "      <td>Royal Challengers Bangalore</td>\n",
       "      <td>1</td>\n",
       "      <td>1</td>\n",
       "      <td>DA Warner</td>\n",
       "      <td>S Dhawan</td>\n",
       "      <td>TS Mills</td>\n",
       "      <td>0</td>\n",
       "      <td>...</td>\n",
       "      <td>0</td>\n",
       "      <td>0</td>\n",
       "      <td>0</td>\n",
       "      <td>0</td>\n",
       "      <td>0</td>\n",
       "      <td>0</td>\n",
       "      <td>0</td>\n",
       "      <td>NaN</td>\n",
       "      <td>NaN</td>\n",
       "      <td>NaN</td>\n",
       "    </tr>\n",
       "    <tr>\n",
       "      <th>1</th>\n",
       "      <td>1</td>\n",
       "      <td>1</td>\n",
       "      <td>Sunrisers Hyderabad</td>\n",
       "      <td>Royal Challengers Bangalore</td>\n",
       "      <td>1</td>\n",
       "      <td>2</td>\n",
       "      <td>DA Warner</td>\n",
       "      <td>S Dhawan</td>\n",
       "      <td>TS Mills</td>\n",
       "      <td>0</td>\n",
       "      <td>...</td>\n",
       "      <td>0</td>\n",
       "      <td>0</td>\n",
       "      <td>0</td>\n",
       "      <td>0</td>\n",
       "      <td>0</td>\n",
       "      <td>0</td>\n",
       "      <td>0</td>\n",
       "      <td>NaN</td>\n",
       "      <td>NaN</td>\n",
       "      <td>NaN</td>\n",
       "    </tr>\n",
       "    <tr>\n",
       "      <th>2</th>\n",
       "      <td>1</td>\n",
       "      <td>1</td>\n",
       "      <td>Sunrisers Hyderabad</td>\n",
       "      <td>Royal Challengers Bangalore</td>\n",
       "      <td>1</td>\n",
       "      <td>3</td>\n",
       "      <td>DA Warner</td>\n",
       "      <td>S Dhawan</td>\n",
       "      <td>TS Mills</td>\n",
       "      <td>0</td>\n",
       "      <td>...</td>\n",
       "      <td>0</td>\n",
       "      <td>0</td>\n",
       "      <td>0</td>\n",
       "      <td>0</td>\n",
       "      <td>4</td>\n",
       "      <td>0</td>\n",
       "      <td>4</td>\n",
       "      <td>NaN</td>\n",
       "      <td>NaN</td>\n",
       "      <td>NaN</td>\n",
       "    </tr>\n",
       "    <tr>\n",
       "      <th>3</th>\n",
       "      <td>1</td>\n",
       "      <td>1</td>\n",
       "      <td>Sunrisers Hyderabad</td>\n",
       "      <td>Royal Challengers Bangalore</td>\n",
       "      <td>1</td>\n",
       "      <td>4</td>\n",
       "      <td>DA Warner</td>\n",
       "      <td>S Dhawan</td>\n",
       "      <td>TS Mills</td>\n",
       "      <td>0</td>\n",
       "      <td>...</td>\n",
       "      <td>0</td>\n",
       "      <td>0</td>\n",
       "      <td>0</td>\n",
       "      <td>0</td>\n",
       "      <td>0</td>\n",
       "      <td>0</td>\n",
       "      <td>0</td>\n",
       "      <td>NaN</td>\n",
       "      <td>NaN</td>\n",
       "      <td>NaN</td>\n",
       "    </tr>\n",
       "    <tr>\n",
       "      <th>4</th>\n",
       "      <td>1</td>\n",
       "      <td>1</td>\n",
       "      <td>Sunrisers Hyderabad</td>\n",
       "      <td>Royal Challengers Bangalore</td>\n",
       "      <td>1</td>\n",
       "      <td>5</td>\n",
       "      <td>DA Warner</td>\n",
       "      <td>S Dhawan</td>\n",
       "      <td>TS Mills</td>\n",
       "      <td>0</td>\n",
       "      <td>...</td>\n",
       "      <td>0</td>\n",
       "      <td>0</td>\n",
       "      <td>0</td>\n",
       "      <td>0</td>\n",
       "      <td>0</td>\n",
       "      <td>2</td>\n",
       "      <td>2</td>\n",
       "      <td>NaN</td>\n",
       "      <td>NaN</td>\n",
       "      <td>NaN</td>\n",
       "    </tr>\n",
       "  </tbody>\n",
       "</table>\n",
       "<p>5 rows × 21 columns</p>\n",
       "</div>"
      ],
      "text/plain": [
       "   match_id  inning         batting_team                 bowling_team  over  \\\n",
       "0         1       1  Sunrisers Hyderabad  Royal Challengers Bangalore     1   \n",
       "1         1       1  Sunrisers Hyderabad  Royal Challengers Bangalore     1   \n",
       "2         1       1  Sunrisers Hyderabad  Royal Challengers Bangalore     1   \n",
       "3         1       1  Sunrisers Hyderabad  Royal Challengers Bangalore     1   \n",
       "4         1       1  Sunrisers Hyderabad  Royal Challengers Bangalore     1   \n",
       "\n",
       "   ball    batsman non_striker    bowler  is_super_over  ...  bye_runs  \\\n",
       "0     1  DA Warner    S Dhawan  TS Mills              0  ...         0   \n",
       "1     2  DA Warner    S Dhawan  TS Mills              0  ...         0   \n",
       "2     3  DA Warner    S Dhawan  TS Mills              0  ...         0   \n",
       "3     4  DA Warner    S Dhawan  TS Mills              0  ...         0   \n",
       "4     5  DA Warner    S Dhawan  TS Mills              0  ...         0   \n",
       "\n",
       "   legbye_runs  noball_runs  penalty_runs  batsman_runs  extra_runs  \\\n",
       "0            0            0             0             0           0   \n",
       "1            0            0             0             0           0   \n",
       "2            0            0             0             4           0   \n",
       "3            0            0             0             0           0   \n",
       "4            0            0             0             0           2   \n",
       "\n",
       "   total_runs  player_dismissed dismissal_kind fielder  \n",
       "0           0               NaN            NaN     NaN  \n",
       "1           0               NaN            NaN     NaN  \n",
       "2           4               NaN            NaN     NaN  \n",
       "3           0               NaN            NaN     NaN  \n",
       "4           2               NaN            NaN     NaN  \n",
       "\n",
       "[5 rows x 21 columns]"
      ]
     },
     "execution_count": 103,
     "metadata": {},
     "output_type": "execute_result"
    }
   ],
   "source": [
    "deliveries.head()"
   ]
  },
  {
   "cell_type": "code",
   "execution_count": 104,
   "metadata": {},
   "outputs": [
    {
     "data": {
      "text/plain": [
       "Index(['match_id', 'inning', 'batting_team', 'bowling_team', 'over', 'ball',\n",
       "       'batsman', 'non_striker', 'bowler', 'is_super_over', 'wide_runs',\n",
       "       'bye_runs', 'legbye_runs', 'noball_runs', 'penalty_runs',\n",
       "       'batsman_runs', 'extra_runs', 'total_runs', 'player_dismissed',\n",
       "       'dismissal_kind', 'fielder'],\n",
       "      dtype='object')"
      ]
     },
     "execution_count": 104,
     "metadata": {},
     "output_type": "execute_result"
    }
   ],
   "source": [
    "deliveries.columns"
   ]
  },
  {
   "cell_type": "code",
   "execution_count": 105,
   "metadata": {},
   "outputs": [
    {
     "data": {
      "text/plain": [
       "match_id                                      1\n",
       "inning                                        1\n",
       "batting_team                Sunrisers Hyderabad\n",
       "bowling_team        Royal Challengers Bangalore\n",
       "over                                          1\n",
       "ball                                          5\n",
       "batsman                               DA Warner\n",
       "non_striker                            S Dhawan\n",
       "bowler                                 TS Mills\n",
       "is_super_over                                 0\n",
       "wide_runs                                     2\n",
       "bye_runs                                      0\n",
       "legbye_runs                                   0\n",
       "noball_runs                                   0\n",
       "penalty_runs                                  0\n",
       "batsman_runs                                  0\n",
       "extra_runs                                    2\n",
       "total_runs                                    2\n",
       "player_dismissed                            NaN\n",
       "dismissal_kind                              NaN\n",
       "fielder                                     NaN\n",
       "Name: 4, dtype: object"
      ]
     },
     "execution_count": 105,
     "metadata": {},
     "output_type": "execute_result"
    }
   ],
   "source": [
    "deliveries.iloc[4]"
   ]
  },
  {
   "cell_type": "markdown",
   "metadata": {},
   "source": [
    "## Batsmen with Most Sixes "
   ]
  },
  {
   "cell_type": "code",
   "execution_count": 106,
   "metadata": {},
   "outputs": [
    {
     "data": {
      "text/plain": [
       "CH Gayle          327\n",
       "AB de Villiers    214\n",
       "MS Dhoni          207\n",
       "SK Raina          195\n",
       "RG Sharma         194\n",
       "V Kohli           191\n",
       "DA Warner         181\n",
       "SR Watson         177\n",
       "KA Pollard        175\n",
       "YK Pathan         161\n",
       "RV Uthappa        156\n",
       "Yuvraj Singh      149\n",
       "BB McCullum       129\n",
       "AT Rayudu         120\n",
       "AD Russell        119\n",
       "DR Smith          117\n",
       "V Sehwag          106\n",
       "KD Karthik        101\n",
       "S Dhawan           96\n",
       "RR Pant            94\n",
       "Name: batsman, dtype: int64"
      ]
     },
     "execution_count": 106,
     "metadata": {},
     "output_type": "execute_result"
    }
   ],
   "source": [
    "deliveries[deliveries['batsman_runs']==6]['batsman'].value_counts()[:20]"
   ]
  },
  {
   "cell_type": "markdown",
   "metadata": {},
   "source": [
    "## Batsmen with Most Fours"
   ]
  },
  {
   "cell_type": "code",
   "execution_count": 107,
   "metadata": {},
   "outputs": [
    {
     "data": {
      "text/plain": [
       "S Dhawan          526\n",
       "SK Raina          495\n",
       "G Gambhir         492\n",
       "V Kohli           482\n",
       "DA Warner         459\n",
       "RV Uthappa        436\n",
       "RG Sharma         431\n",
       "AM Rahane         405\n",
       "CH Gayle          376\n",
       "PA Patel          366\n",
       "KD Karthik        358\n",
       "AB de Villiers    357\n",
       "SR Watson         344\n",
       "V Sehwag          334\n",
       "MS Dhoni          297\n",
       "SR Tendulkar      296\n",
       "BB McCullum       293\n",
       "AT Rayudu         278\n",
       "SE Marsh          269\n",
       "R Dravid          269\n",
       "Name: batsman, dtype: int64"
      ]
     },
     "execution_count": 107,
     "metadata": {},
     "output_type": "execute_result"
    }
   ],
   "source": [
    "deliveries[deliveries['batsman_runs']==4]['batsman'].value_counts()[:20]"
   ]
  },
  {
   "cell_type": "markdown",
   "metadata": {},
   "source": [
    "## Batsman with Most Dot balls "
   ]
  },
  {
   "cell_type": "code",
   "execution_count": 108,
   "metadata": {},
   "outputs": [
    {
     "data": {
      "text/plain": [
       "V Kohli           1493\n",
       "S Dhawan          1455\n",
       "CH Gayle          1423\n",
       "RG Sharma         1390\n",
       "RV Uthappa        1382\n",
       "SK Raina          1381\n",
       "G Gambhir         1351\n",
       "DA Warner         1254\n",
       "AM Rahane         1198\n",
       "MS Dhoni          1111\n",
       "SR Watson         1100\n",
       "PA Patel          1061\n",
       "BB McCullum       1022\n",
       "KD Karthik        1013\n",
       "JH Kallis          982\n",
       "Yuvraj Singh       967\n",
       "M Vijay            959\n",
       "AT Rayudu          947\n",
       "AB de Villiers     940\n",
       "MK Pandey          889\n",
       "Name: batsman, dtype: int64"
      ]
     },
     "execution_count": 108,
     "metadata": {},
     "output_type": "execute_result"
    }
   ],
   "source": [
    "deliveries[deliveries['batsman_runs']==0]['batsman'].value_counts()[:20]"
   ]
  },
  {
   "cell_type": "markdown",
   "metadata": {},
   "source": [
    "## Batsmen with Most Singles "
   ]
  },
  {
   "cell_type": "code",
   "execution_count": 109,
   "metadata": {},
   "outputs": [
    {
     "data": {
      "text/plain": [
       "V Kohli           1741\n",
       "SK Raina          1695\n",
       "RG Sharma         1589\n",
       "S Dhawan          1473\n",
       "MS Dhoni          1383\n",
       "G Gambhir         1358\n",
       "AM Rahane         1308\n",
       "RV Uthappa        1295\n",
       "AB de Villiers    1231\n",
       "DA Warner         1213\n",
       "KD Karthik        1201\n",
       "AT Rayudu         1179\n",
       "MK Pandey         1024\n",
       "CH Gayle           919\n",
       "YK Pathan          892\n",
       "JH Kallis          888\n",
       "SR Watson          875\n",
       "PA Patel           831\n",
       "JP Duminy          788\n",
       "Yuvraj Singh       750\n",
       "Name: batsman, dtype: int64"
      ]
     },
     "execution_count": 109,
     "metadata": {},
     "output_type": "execute_result"
    }
   ],
   "source": [
    "deliveries[deliveries['batsman_runs']==1]['batsman'].value_counts()[:20]"
   ]
  },
  {
   "cell_type": "markdown",
   "metadata": {},
   "source": [
    "## Batsmen with Most Doubles "
   ]
  },
  {
   "cell_type": "code",
   "execution_count": 110,
   "metadata": {},
   "outputs": [
    {
     "data": {
      "text/plain": [
       "MS Dhoni          304\n",
       "V Kohli           293\n",
       "DA Warner         271\n",
       "SK Raina          266\n",
       "G Gambhir         249\n",
       "AB de Villiers    220\n",
       "AM Rahane         214\n",
       "KD Karthik        208\n",
       "RV Uthappa        206\n",
       "RG Sharma         205\n",
       "S Dhawan          205\n",
       "MK Pandey         173\n",
       "M Vijay           163\n",
       "YK Pathan         156\n",
       "AT Rayudu         156\n",
       "RA Jadeja         146\n",
       "SPD Smith         139\n",
       "SV Samson         136\n",
       "SR Watson         132\n",
       "PA Patel          128\n",
       "Name: batsman, dtype: int64"
      ]
     },
     "execution_count": 110,
     "metadata": {},
     "output_type": "execute_result"
    }
   ],
   "source": [
    "deliveries[deliveries['batsman_runs']==2]['batsman'].value_counts()[:20]"
   ]
  },
  {
   "cell_type": "markdown",
   "metadata": {},
   "source": [
    "## Batsmen with Most Runs"
   ]
  },
  {
   "cell_type": "code",
   "execution_count": 111,
   "metadata": {},
   "outputs": [
    {
     "data": {
      "text/plain": [
       "batsman\n",
       "V Kohli           5434\n",
       "SK Raina          5415\n",
       "RG Sharma         4914\n",
       "DA Warner         4741\n",
       "S Dhawan          4632\n",
       "CH Gayle          4560\n",
       "MS Dhoni          4477\n",
       "RV Uthappa        4446\n",
       "AB de Villiers    4428\n",
       "G Gambhir         4223\n",
       "AM Rahane         3850\n",
       "KD Karthik        3688\n",
       "SR Watson         3614\n",
       "AT Rayudu         3326\n",
       "YK Pathan         3241\n",
       "BB McCullum       2893\n",
       "PA Patel          2874\n",
       "MK Pandey         2872\n",
       "KA Pollard        2784\n",
       "Yuvraj Singh      2765\n",
       "Name: batsman_runs, dtype: int64"
      ]
     },
     "execution_count": 111,
     "metadata": {},
     "output_type": "execute_result"
    }
   ],
   "source": [
    "deliveries.groupby('batsman').sum()['batsman_runs'].sort_values(ascending = False)[:20]"
   ]
  },
  {
   "cell_type": "markdown",
   "metadata": {},
   "source": [
    "## Bowlers with Most Wickets"
   ]
  },
  {
   "cell_type": "code",
   "execution_count": 112,
   "metadata": {},
   "outputs": [
    {
     "data": {
      "text/plain": [
       "bowler\n",
       "SL Malinga         188\n",
       "DJ Bravo           168\n",
       "A Mishra           165\n",
       "Harbhajan Singh    161\n",
       "PP Chawla          156\n",
       "B Kumar            141\n",
       "R Ashwin           138\n",
       "SP Narine          137\n",
       "UT Yadav           136\n",
       "R Vinay Kumar      127\n",
       "A Nehra            121\n",
       "Z Khan             119\n",
       "RA Jadeja          116\n",
       "SR Watson          107\n",
       "DW Steyn           104\n",
       "P Kumar            102\n",
       "YS Chahal          102\n",
       "RP Singh           100\n",
       "IK Pathan           99\n",
       "MM Sharma           99\n",
       "Name: player_dismissed, dtype: int64"
      ]
     },
     "execution_count": 112,
     "metadata": {},
     "output_type": "execute_result"
    }
   ],
   "source": [
    "deliveries.groupby('bowler').count()['player_dismissed'].sort_values(ascending = False)[:20]"
   ]
  },
  {
   "cell_type": "markdown",
   "metadata": {},
   "source": [
    "## Most Runs Scored in Each Over from 1 to 20"
   ]
  },
  {
   "cell_type": "code",
   "execution_count": 113,
   "metadata": {},
   "outputs": [],
   "source": [
    "df_batsman = pd.DataFrame()"
   ]
  },
  {
   "cell_type": "code",
   "execution_count": 114,
   "metadata": {},
   "outputs": [],
   "source": [
    "for i in range(1,21):\n",
    "    df_batsman = df_batsman.append({'Over':i,\n",
    "               'Batsman':(deliveries[deliveries['over']==i]).groupby('batsman').sum()['batsman_runs'].sort_values(ascending = False).index[0],\n",
    "               'Runs':(deliveries[deliveries['over']==i]).groupby('batsman').sum()['batsman_runs'].sort_values(ascending = False)[0]},ignore_index=True)\n",
    "          "
   ]
  },
  {
   "cell_type": "code",
   "execution_count": 115,
   "metadata": {},
   "outputs": [
    {
     "data": {
      "text/html": [
       "<div>\n",
       "<style scoped>\n",
       "    .dataframe tbody tr th:only-of-type {\n",
       "        vertical-align: middle;\n",
       "    }\n",
       "\n",
       "    .dataframe tbody tr th {\n",
       "        vertical-align: top;\n",
       "    }\n",
       "\n",
       "    .dataframe thead th {\n",
       "        text-align: right;\n",
       "    }\n",
       "</style>\n",
       "<table border=\"1\" class=\"dataframe\">\n",
       "  <thead>\n",
       "    <tr style=\"text-align: right;\">\n",
       "      <th></th>\n",
       "      <th>Batsman</th>\n",
       "      <th>Runs</th>\n",
       "    </tr>\n",
       "    <tr>\n",
       "      <th>Over</th>\n",
       "      <th></th>\n",
       "      <th></th>\n",
       "    </tr>\n",
       "  </thead>\n",
       "  <tbody>\n",
       "    <tr>\n",
       "      <th>1</th>\n",
       "      <td>CH Gayle</td>\n",
       "      <td>348</td>\n",
       "    </tr>\n",
       "    <tr>\n",
       "      <th>2</th>\n",
       "      <td>S Dhawan</td>\n",
       "      <td>457</td>\n",
       "    </tr>\n",
       "    <tr>\n",
       "      <th>3</th>\n",
       "      <td>S Dhawan</td>\n",
       "      <td>502</td>\n",
       "    </tr>\n",
       "    <tr>\n",
       "      <th>4</th>\n",
       "      <td>S Dhawan</td>\n",
       "      <td>415</td>\n",
       "    </tr>\n",
       "    <tr>\n",
       "      <th>5</th>\n",
       "      <td>G Gambhir</td>\n",
       "      <td>449</td>\n",
       "    </tr>\n",
       "    <tr>\n",
       "      <th>6</th>\n",
       "      <td>SK Raina</td>\n",
       "      <td>440</td>\n",
       "    </tr>\n",
       "    <tr>\n",
       "      <th>7</th>\n",
       "      <td>SK Raina</td>\n",
       "      <td>316</td>\n",
       "    </tr>\n",
       "    <tr>\n",
       "      <th>8</th>\n",
       "      <td>SK Raina</td>\n",
       "      <td>349</td>\n",
       "    </tr>\n",
       "    <tr>\n",
       "      <th>9</th>\n",
       "      <td>SK Raina</td>\n",
       "      <td>357</td>\n",
       "    </tr>\n",
       "    <tr>\n",
       "      <th>10</th>\n",
       "      <td>SK Raina</td>\n",
       "      <td>363</td>\n",
       "    </tr>\n",
       "    <tr>\n",
       "      <th>11</th>\n",
       "      <td>SK Raina</td>\n",
       "      <td>379</td>\n",
       "    </tr>\n",
       "    <tr>\n",
       "      <th>12</th>\n",
       "      <td>SK Raina</td>\n",
       "      <td>343</td>\n",
       "    </tr>\n",
       "    <tr>\n",
       "      <th>13</th>\n",
       "      <td>RG Sharma</td>\n",
       "      <td>306</td>\n",
       "    </tr>\n",
       "    <tr>\n",
       "      <th>14</th>\n",
       "      <td>KD Karthik</td>\n",
       "      <td>353</td>\n",
       "    </tr>\n",
       "    <tr>\n",
       "      <th>15</th>\n",
       "      <td>MS Dhoni</td>\n",
       "      <td>420</td>\n",
       "    </tr>\n",
       "    <tr>\n",
       "      <th>16</th>\n",
       "      <td>MS Dhoni</td>\n",
       "      <td>437</td>\n",
       "    </tr>\n",
       "    <tr>\n",
       "      <th>17</th>\n",
       "      <td>MS Dhoni</td>\n",
       "      <td>535</td>\n",
       "    </tr>\n",
       "    <tr>\n",
       "      <th>18</th>\n",
       "      <td>MS Dhoni</td>\n",
       "      <td>562</td>\n",
       "    </tr>\n",
       "    <tr>\n",
       "      <th>19</th>\n",
       "      <td>MS Dhoni</td>\n",
       "      <td>567</td>\n",
       "    </tr>\n",
       "    <tr>\n",
       "      <th>20</th>\n",
       "      <td>MS Dhoni</td>\n",
       "      <td>568</td>\n",
       "    </tr>\n",
       "  </tbody>\n",
       "</table>\n",
       "</div>"
      ],
      "text/plain": [
       "         Batsman  Runs\n",
       "Over                  \n",
       "1       CH Gayle   348\n",
       "2       S Dhawan   457\n",
       "3       S Dhawan   502\n",
       "4       S Dhawan   415\n",
       "5      G Gambhir   449\n",
       "6       SK Raina   440\n",
       "7       SK Raina   316\n",
       "8       SK Raina   349\n",
       "9       SK Raina   357\n",
       "10      SK Raina   363\n",
       "11      SK Raina   379\n",
       "12      SK Raina   343\n",
       "13     RG Sharma   306\n",
       "14    KD Karthik   353\n",
       "15      MS Dhoni   420\n",
       "16      MS Dhoni   437\n",
       "17      MS Dhoni   535\n",
       "18      MS Dhoni   562\n",
       "19      MS Dhoni   567\n",
       "20      MS Dhoni   568"
      ]
     },
     "execution_count": 115,
     "metadata": {},
     "output_type": "execute_result"
    }
   ],
   "source": [
    "df_batsman.astype({'Runs':int,\"Over\":int}).set_index('Over')"
   ]
  },
  {
   "cell_type": "code",
   "execution_count": 116,
   "metadata": {},
   "outputs": [],
   "source": [
    "deliveries['bowler_conceded'] = deliveries['batsman_runs'] + deliveries['wide_runs'] + deliveries['noball_runs']"
   ]
  },
  {
   "cell_type": "markdown",
   "metadata": {},
   "source": [
    "## Most Runs Conceded in Each Over from 1 to 20 "
   ]
  },
  {
   "cell_type": "code",
   "execution_count": 117,
   "metadata": {},
   "outputs": [],
   "source": [
    "df_bowlers = pd.DataFrame([],columns = ['Over','Bowler','Runs'])"
   ]
  },
  {
   "cell_type": "code",
   "execution_count": 118,
   "metadata": {},
   "outputs": [],
   "source": [
    "for i in range(1,21):\n",
    "    df_bowlers = df_bowlers.append({'Over':i,\n",
    "               'Bowler':(deliveries[deliveries['over']==i]).groupby('bowler').sum()['bowler_conceded'].sort_values(ascending = False).index[0],\n",
    "               'Runs':(deliveries[deliveries['over']==i]).groupby('bowler').sum()['bowler_conceded'].sort_values(ascending = False)[0]},ignore_index=True)\n",
    "          "
   ]
  },
  {
   "cell_type": "code",
   "execution_count": 119,
   "metadata": {},
   "outputs": [
    {
     "data": {
      "text/html": [
       "<div>\n",
       "<style scoped>\n",
       "    .dataframe tbody tr th:only-of-type {\n",
       "        vertical-align: middle;\n",
       "    }\n",
       "\n",
       "    .dataframe tbody tr th {\n",
       "        vertical-align: top;\n",
       "    }\n",
       "\n",
       "    .dataframe thead th {\n",
       "        text-align: right;\n",
       "    }\n",
       "</style>\n",
       "<table border=\"1\" class=\"dataframe\">\n",
       "  <thead>\n",
       "    <tr style=\"text-align: right;\">\n",
       "      <th></th>\n",
       "      <th>Bowler</th>\n",
       "      <th>Runs</th>\n",
       "    </tr>\n",
       "    <tr>\n",
       "      <th>Over</th>\n",
       "      <th></th>\n",
       "      <th></th>\n",
       "    </tr>\n",
       "  </thead>\n",
       "  <tbody>\n",
       "    <tr>\n",
       "      <th>1</th>\n",
       "      <td>P Kumar</td>\n",
       "      <td>449</td>\n",
       "    </tr>\n",
       "    <tr>\n",
       "      <th>2</th>\n",
       "      <td>A Nehra</td>\n",
       "      <td>333</td>\n",
       "    </tr>\n",
       "    <tr>\n",
       "      <th>3</th>\n",
       "      <td>P Kumar</td>\n",
       "      <td>603</td>\n",
       "    </tr>\n",
       "    <tr>\n",
       "      <th>4</th>\n",
       "      <td>A Nehra</td>\n",
       "      <td>368</td>\n",
       "    </tr>\n",
       "    <tr>\n",
       "      <th>5</th>\n",
       "      <td>P Kumar</td>\n",
       "      <td>445</td>\n",
       "    </tr>\n",
       "    <tr>\n",
       "      <th>6</th>\n",
       "      <td>DS Kulkarni</td>\n",
       "      <td>262</td>\n",
       "    </tr>\n",
       "    <tr>\n",
       "      <th>7</th>\n",
       "      <td>A Mishra</td>\n",
       "      <td>297</td>\n",
       "    </tr>\n",
       "    <tr>\n",
       "      <th>8</th>\n",
       "      <td>Harbhajan Singh</td>\n",
       "      <td>424</td>\n",
       "    </tr>\n",
       "    <tr>\n",
       "      <th>9</th>\n",
       "      <td>Harbhajan Singh</td>\n",
       "      <td>373</td>\n",
       "    </tr>\n",
       "    <tr>\n",
       "      <th>10</th>\n",
       "      <td>Harbhajan Singh</td>\n",
       "      <td>411</td>\n",
       "    </tr>\n",
       "    <tr>\n",
       "      <th>11</th>\n",
       "      <td>PP Chawla</td>\n",
       "      <td>431</td>\n",
       "    </tr>\n",
       "    <tr>\n",
       "      <th>12</th>\n",
       "      <td>Harbhajan Singh</td>\n",
       "      <td>401</td>\n",
       "    </tr>\n",
       "    <tr>\n",
       "      <th>13</th>\n",
       "      <td>PP Chawla</td>\n",
       "      <td>319</td>\n",
       "    </tr>\n",
       "    <tr>\n",
       "      <th>14</th>\n",
       "      <td>A Mishra</td>\n",
       "      <td>387</td>\n",
       "    </tr>\n",
       "    <tr>\n",
       "      <th>15</th>\n",
       "      <td>PP Chawla</td>\n",
       "      <td>422</td>\n",
       "    </tr>\n",
       "    <tr>\n",
       "      <th>16</th>\n",
       "      <td>A Mishra</td>\n",
       "      <td>345</td>\n",
       "    </tr>\n",
       "    <tr>\n",
       "      <th>17</th>\n",
       "      <td>JJ Bumrah</td>\n",
       "      <td>341</td>\n",
       "    </tr>\n",
       "    <tr>\n",
       "      <th>18</th>\n",
       "      <td>DJ Bravo</td>\n",
       "      <td>500</td>\n",
       "    </tr>\n",
       "    <tr>\n",
       "      <th>19</th>\n",
       "      <td>SL Malinga</td>\n",
       "      <td>353</td>\n",
       "    </tr>\n",
       "    <tr>\n",
       "      <th>20</th>\n",
       "      <td>DJ Bravo</td>\n",
       "      <td>522</td>\n",
       "    </tr>\n",
       "  </tbody>\n",
       "</table>\n",
       "</div>"
      ],
      "text/plain": [
       "               Bowler Runs\n",
       "Over                      \n",
       "1             P Kumar  449\n",
       "2             A Nehra  333\n",
       "3             P Kumar  603\n",
       "4             A Nehra  368\n",
       "5             P Kumar  445\n",
       "6         DS Kulkarni  262\n",
       "7            A Mishra  297\n",
       "8     Harbhajan Singh  424\n",
       "9     Harbhajan Singh  373\n",
       "10    Harbhajan Singh  411\n",
       "11          PP Chawla  431\n",
       "12    Harbhajan Singh  401\n",
       "13          PP Chawla  319\n",
       "14           A Mishra  387\n",
       "15          PP Chawla  422\n",
       "16           A Mishra  345\n",
       "17          JJ Bumrah  341\n",
       "18           DJ Bravo  500\n",
       "19         SL Malinga  353\n",
       "20           DJ Bravo  522"
      ]
     },
     "execution_count": 119,
     "metadata": {},
     "output_type": "execute_result"
    }
   ],
   "source": [
    "df_bowlers.set_index('Over')"
   ]
  },
  {
   "cell_type": "markdown",
   "metadata": {},
   "source": [
    "## Most Centuries "
   ]
  },
  {
   "cell_type": "code",
   "execution_count": 120,
   "metadata": {},
   "outputs": [
    {
     "data": {
      "text/html": [
       "<div>\n",
       "<style scoped>\n",
       "    .dataframe tbody tr th:only-of-type {\n",
       "        vertical-align: middle;\n",
       "    }\n",
       "\n",
       "    .dataframe tbody tr th {\n",
       "        vertical-align: top;\n",
       "    }\n",
       "\n",
       "    .dataframe thead th {\n",
       "        text-align: right;\n",
       "    }\n",
       "</style>\n",
       "<table border=\"1\" class=\"dataframe\">\n",
       "  <thead>\n",
       "    <tr style=\"text-align: right;\">\n",
       "      <th></th>\n",
       "      <th>match_id</th>\n",
       "      <th>inning</th>\n",
       "      <th>batting_team</th>\n",
       "      <th>bowling_team</th>\n",
       "      <th>over</th>\n",
       "      <th>ball</th>\n",
       "      <th>batsman</th>\n",
       "      <th>non_striker</th>\n",
       "      <th>bowler</th>\n",
       "      <th>is_super_over</th>\n",
       "      <th>...</th>\n",
       "      <th>legbye_runs</th>\n",
       "      <th>noball_runs</th>\n",
       "      <th>penalty_runs</th>\n",
       "      <th>batsman_runs</th>\n",
       "      <th>extra_runs</th>\n",
       "      <th>total_runs</th>\n",
       "      <th>player_dismissed</th>\n",
       "      <th>dismissal_kind</th>\n",
       "      <th>fielder</th>\n",
       "      <th>bowler_conceded</th>\n",
       "    </tr>\n",
       "  </thead>\n",
       "  <tbody>\n",
       "    <tr>\n",
       "      <th>0</th>\n",
       "      <td>1</td>\n",
       "      <td>1</td>\n",
       "      <td>Sunrisers Hyderabad</td>\n",
       "      <td>Royal Challengers Bangalore</td>\n",
       "      <td>1</td>\n",
       "      <td>1</td>\n",
       "      <td>DA Warner</td>\n",
       "      <td>S Dhawan</td>\n",
       "      <td>TS Mills</td>\n",
       "      <td>0</td>\n",
       "      <td>...</td>\n",
       "      <td>0</td>\n",
       "      <td>0</td>\n",
       "      <td>0</td>\n",
       "      <td>0</td>\n",
       "      <td>0</td>\n",
       "      <td>0</td>\n",
       "      <td>NaN</td>\n",
       "      <td>NaN</td>\n",
       "      <td>NaN</td>\n",
       "      <td>0</td>\n",
       "    </tr>\n",
       "    <tr>\n",
       "      <th>1</th>\n",
       "      <td>1</td>\n",
       "      <td>1</td>\n",
       "      <td>Sunrisers Hyderabad</td>\n",
       "      <td>Royal Challengers Bangalore</td>\n",
       "      <td>1</td>\n",
       "      <td>2</td>\n",
       "      <td>DA Warner</td>\n",
       "      <td>S Dhawan</td>\n",
       "      <td>TS Mills</td>\n",
       "      <td>0</td>\n",
       "      <td>...</td>\n",
       "      <td>0</td>\n",
       "      <td>0</td>\n",
       "      <td>0</td>\n",
       "      <td>0</td>\n",
       "      <td>0</td>\n",
       "      <td>0</td>\n",
       "      <td>NaN</td>\n",
       "      <td>NaN</td>\n",
       "      <td>NaN</td>\n",
       "      <td>0</td>\n",
       "    </tr>\n",
       "    <tr>\n",
       "      <th>2</th>\n",
       "      <td>1</td>\n",
       "      <td>1</td>\n",
       "      <td>Sunrisers Hyderabad</td>\n",
       "      <td>Royal Challengers Bangalore</td>\n",
       "      <td>1</td>\n",
       "      <td>3</td>\n",
       "      <td>DA Warner</td>\n",
       "      <td>S Dhawan</td>\n",
       "      <td>TS Mills</td>\n",
       "      <td>0</td>\n",
       "      <td>...</td>\n",
       "      <td>0</td>\n",
       "      <td>0</td>\n",
       "      <td>0</td>\n",
       "      <td>4</td>\n",
       "      <td>0</td>\n",
       "      <td>4</td>\n",
       "      <td>NaN</td>\n",
       "      <td>NaN</td>\n",
       "      <td>NaN</td>\n",
       "      <td>4</td>\n",
       "    </tr>\n",
       "    <tr>\n",
       "      <th>3</th>\n",
       "      <td>1</td>\n",
       "      <td>1</td>\n",
       "      <td>Sunrisers Hyderabad</td>\n",
       "      <td>Royal Challengers Bangalore</td>\n",
       "      <td>1</td>\n",
       "      <td>4</td>\n",
       "      <td>DA Warner</td>\n",
       "      <td>S Dhawan</td>\n",
       "      <td>TS Mills</td>\n",
       "      <td>0</td>\n",
       "      <td>...</td>\n",
       "      <td>0</td>\n",
       "      <td>0</td>\n",
       "      <td>0</td>\n",
       "      <td>0</td>\n",
       "      <td>0</td>\n",
       "      <td>0</td>\n",
       "      <td>NaN</td>\n",
       "      <td>NaN</td>\n",
       "      <td>NaN</td>\n",
       "      <td>0</td>\n",
       "    </tr>\n",
       "    <tr>\n",
       "      <th>4</th>\n",
       "      <td>1</td>\n",
       "      <td>1</td>\n",
       "      <td>Sunrisers Hyderabad</td>\n",
       "      <td>Royal Challengers Bangalore</td>\n",
       "      <td>1</td>\n",
       "      <td>5</td>\n",
       "      <td>DA Warner</td>\n",
       "      <td>S Dhawan</td>\n",
       "      <td>TS Mills</td>\n",
       "      <td>0</td>\n",
       "      <td>...</td>\n",
       "      <td>0</td>\n",
       "      <td>0</td>\n",
       "      <td>0</td>\n",
       "      <td>0</td>\n",
       "      <td>2</td>\n",
       "      <td>2</td>\n",
       "      <td>NaN</td>\n",
       "      <td>NaN</td>\n",
       "      <td>NaN</td>\n",
       "      <td>2</td>\n",
       "    </tr>\n",
       "  </tbody>\n",
       "</table>\n",
       "<p>5 rows × 22 columns</p>\n",
       "</div>"
      ],
      "text/plain": [
       "   match_id  inning         batting_team                 bowling_team  over  \\\n",
       "0         1       1  Sunrisers Hyderabad  Royal Challengers Bangalore     1   \n",
       "1         1       1  Sunrisers Hyderabad  Royal Challengers Bangalore     1   \n",
       "2         1       1  Sunrisers Hyderabad  Royal Challengers Bangalore     1   \n",
       "3         1       1  Sunrisers Hyderabad  Royal Challengers Bangalore     1   \n",
       "4         1       1  Sunrisers Hyderabad  Royal Challengers Bangalore     1   \n",
       "\n",
       "   ball    batsman non_striker    bowler  is_super_over  ...  legbye_runs  \\\n",
       "0     1  DA Warner    S Dhawan  TS Mills              0  ...            0   \n",
       "1     2  DA Warner    S Dhawan  TS Mills              0  ...            0   \n",
       "2     3  DA Warner    S Dhawan  TS Mills              0  ...            0   \n",
       "3     4  DA Warner    S Dhawan  TS Mills              0  ...            0   \n",
       "4     5  DA Warner    S Dhawan  TS Mills              0  ...            0   \n",
       "\n",
       "   noball_runs  penalty_runs  batsman_runs  extra_runs  total_runs  \\\n",
       "0            0             0             0           0           0   \n",
       "1            0             0             0           0           0   \n",
       "2            0             0             4           0           4   \n",
       "3            0             0             0           0           0   \n",
       "4            0             0             0           2           2   \n",
       "\n",
       "   player_dismissed  dismissal_kind fielder bowler_conceded  \n",
       "0               NaN             NaN     NaN               0  \n",
       "1               NaN             NaN     NaN               0  \n",
       "2               NaN             NaN     NaN               4  \n",
       "3               NaN             NaN     NaN               0  \n",
       "4               NaN             NaN     NaN               2  \n",
       "\n",
       "[5 rows x 22 columns]"
      ]
     },
     "execution_count": 120,
     "metadata": {},
     "output_type": "execute_result"
    }
   ],
   "source": [
    "deliveries.head()"
   ]
  },
  {
   "cell_type": "code",
   "execution_count": 121,
   "metadata": {},
   "outputs": [],
   "source": [
    "century_data = deliveries.groupby(['match_id','batsman']).sum()['batsman_runs']"
   ]
  },
  {
   "cell_type": "code",
   "execution_count": 122,
   "metadata": {},
   "outputs": [],
   "source": [
    "century_data = century_data[century_data>=100].reset_index().groupby(['batsman']).count().sort_values(by = 'batsman_runs',ascending = False)"
   ]
  },
  {
   "cell_type": "code",
   "execution_count": 123,
   "metadata": {},
   "outputs": [
    {
     "data": {
      "text/html": [
       "<div>\n",
       "<style scoped>\n",
       "    .dataframe tbody tr th:only-of-type {\n",
       "        vertical-align: middle;\n",
       "    }\n",
       "\n",
       "    .dataframe tbody tr th {\n",
       "        vertical-align: top;\n",
       "    }\n",
       "\n",
       "    .dataframe thead th {\n",
       "        text-align: right;\n",
       "    }\n",
       "</style>\n",
       "<table border=\"1\" class=\"dataframe\">\n",
       "  <thead>\n",
       "    <tr style=\"text-align: right;\">\n",
       "      <th></th>\n",
       "      <th>No. of centuries</th>\n",
       "    </tr>\n",
       "    <tr>\n",
       "      <th>batsman</th>\n",
       "      <th></th>\n",
       "    </tr>\n",
       "  </thead>\n",
       "  <tbody>\n",
       "    <tr>\n",
       "      <th>CH Gayle</th>\n",
       "      <td>7</td>\n",
       "    </tr>\n",
       "    <tr>\n",
       "      <th>V Kohli</th>\n",
       "      <td>5</td>\n",
       "    </tr>\n",
       "    <tr>\n",
       "      <th>DA Warner</th>\n",
       "      <td>4</td>\n",
       "    </tr>\n",
       "    <tr>\n",
       "      <th>SR Watson</th>\n",
       "      <td>4</td>\n",
       "    </tr>\n",
       "    <tr>\n",
       "      <th>AB de Villiers</th>\n",
       "      <td>3</td>\n",
       "    </tr>\n",
       "    <tr>\n",
       "      <th>HM Amla</th>\n",
       "      <td>2</td>\n",
       "    </tr>\n",
       "    <tr>\n",
       "      <th>AC Gilchrist</th>\n",
       "      <td>2</td>\n",
       "    </tr>\n",
       "    <tr>\n",
       "      <th>AM Rahane</th>\n",
       "      <td>2</td>\n",
       "    </tr>\n",
       "    <tr>\n",
       "      <th>V Sehwag</th>\n",
       "      <td>2</td>\n",
       "    </tr>\n",
       "    <tr>\n",
       "      <th>BB McCullum</th>\n",
       "      <td>2</td>\n",
       "    </tr>\n",
       "    <tr>\n",
       "      <th>SV Samson</th>\n",
       "      <td>2</td>\n",
       "    </tr>\n",
       "    <tr>\n",
       "      <th>KL Rahul</th>\n",
       "      <td>2</td>\n",
       "    </tr>\n",
       "    <tr>\n",
       "      <th>M Vijay</th>\n",
       "      <td>2</td>\n",
       "    </tr>\n",
       "  </tbody>\n",
       "</table>\n",
       "</div>"
      ],
      "text/plain": [
       "                No. of centuries\n",
       "batsman                         \n",
       "CH Gayle                       7\n",
       "V Kohli                        5\n",
       "DA Warner                      4\n",
       "SR Watson                      4\n",
       "AB de Villiers                 3\n",
       "HM Amla                        2\n",
       "AC Gilchrist                   2\n",
       "AM Rahane                      2\n",
       "V Sehwag                       2\n",
       "BB McCullum                    2\n",
       "SV Samson                      2\n",
       "KL Rahul                       2\n",
       "M Vijay                        2"
      ]
     },
     "execution_count": 123,
     "metadata": {},
     "output_type": "execute_result"
    }
   ],
   "source": [
    "century_data.drop('match_id',axis = 1).rename({'batsman_runs':'No. of centuries'},axis = 1)[:13]"
   ]
  },
  {
   "cell_type": "markdown",
   "metadata": {},
   "source": [
    "## Most Runs In Powerplay (Overs 1-6)"
   ]
  },
  {
   "cell_type": "code",
   "execution_count": 124,
   "metadata": {},
   "outputs": [],
   "source": [
    "pp_data = deliveries[deliveries['over'].isin(range(1,7))]"
   ]
  },
  {
   "cell_type": "code",
   "execution_count": 125,
   "metadata": {},
   "outputs": [
    {
     "data": {
      "text/plain": [
       "batting_team\n",
       "Chennai Super Kings            7503\n",
       "Deccan Chargers                3417\n",
       "Delhi Capitals                  844\n",
       "Delhi Daredevils               7392\n",
       "Gujarat Lions                  1559\n",
       "Kings XI Punjab                8296\n",
       "Kochi Tuskers Kerala            680\n",
       "Kolkata Knight Riders          8370\n",
       "Mumbai Indians                 8498\n",
       "Pune Warriors                  1895\n",
       "Rajasthan Royals               6605\n",
       "Rising Pune Supergiant          785\n",
       "Rising Pune Supergiants         638\n",
       "Royal Challengers Bangalore    8111\n",
       "Sunrisers Hyderabad            5238\n",
       "Name: Most Runs in Powerplay, dtype: int64"
      ]
     },
     "execution_count": 125,
     "metadata": {},
     "output_type": "execute_result"
    }
   ],
   "source": [
    "pp_data.groupby('batting_team').sum()['total_runs'].rename(\"Most Runs in Powerplay\")"
   ]
  },
  {
   "cell_type": "markdown",
   "metadata": {},
   "source": [
    "## Most Runs in Death Overs (16-20)"
   ]
  },
  {
   "cell_type": "code",
   "execution_count": 126,
   "metadata": {},
   "outputs": [
    {
     "data": {
      "text/plain": [
       "batting_team\n",
       "Chennai Super Kings            7605\n",
       "Deccan Chargers                3133\n",
       "Delhi Capitals                  686\n",
       "Delhi Daredevils               6307\n",
       "Gujarat Lions                  1159\n",
       "Kings XI Punjab                7302\n",
       "Kochi Tuskers Kerala            390\n",
       "Kolkata Knight Riders          7164\n",
       "Mumbai Indians                 8591\n",
       "Pune Warriors                  1733\n",
       "Rajasthan Royals               5740\n",
       "Rising Pune Supergiant          681\n",
       "Rising Pune Supergiants         530\n",
       "Royal Challengers Bangalore    7881\n",
       "Sunrisers Hyderabad            4576\n",
       "Name: Most Runs in Death Overs, dtype: int64"
      ]
     },
     "execution_count": 126,
     "metadata": {},
     "output_type": "execute_result"
    }
   ],
   "source": [
    "do_data = deliveries[deliveries['over'].isin(range(16,21))]\n",
    "do_data.groupby('batting_team').sum()['total_runs'].rename('Most Runs in Death Overs')"
   ]
  },
  {
   "cell_type": "markdown",
   "metadata": {},
   "source": [
    "## Most Runs in Middle Overs "
   ]
  },
  {
   "cell_type": "code",
   "execution_count": 127,
   "metadata": {},
   "outputs": [
    {
     "data": {
      "text/plain": [
       "batting_team\n",
       "Chennai Super Kings            11310\n",
       "Deccan Chargers                 4913\n",
       "Delhi Capitals                  1100\n",
       "Delhi Daredevils               10689\n",
       "Gujarat Lions                   2144\n",
       "Kings XI Punjab                12295\n",
       "Kochi Tuskers Kerala             831\n",
       "Kolkata Knight Riders          11885\n",
       "Mumbai Indians                 12720\n",
       "Pune Warriors                   2730\n",
       "Rajasthan Royals               10086\n",
       "Rising Pune Supergiant          1004\n",
       "Rising Pune Supergiants          895\n",
       "Royal Challengers Bangalore    12134\n",
       "Sunrisers Hyderabad             7245\n",
       "Name: Most Runs in Middle Overs, dtype: int64"
      ]
     },
     "execution_count": 127,
     "metadata": {},
     "output_type": "execute_result"
    }
   ],
   "source": [
    "mo_data = deliveries[deliveries['over'].isin(range(7,16))]\n",
    "mo_data.groupby('batting_team').sum()['total_runs'].rename(\"Most Runs in Middle Overs\")"
   ]
  },
  {
   "cell_type": "markdown",
   "metadata": {},
   "source": [
    "## Best Economy by Player (min 100 balls )"
   ]
  },
  {
   "cell_type": "code",
   "execution_count": 128,
   "metadata": {},
   "outputs": [],
   "source": [
    "No_of_balls = deliveries.groupby('bowler').count()['ball']"
   ]
  },
  {
   "cell_type": "code",
   "execution_count": 129,
   "metadata": {},
   "outputs": [
    {
     "data": {
      "text/plain": [
       "bowler\n",
       "A Ashish Reddy     270\n",
       "A Chandila         234\n",
       "A Choudhary        108\n",
       "A Dananjaya         25\n",
       "A Flintoff          66\n",
       "                  ... \n",
       "YA Abdulla         222\n",
       "YK Pathan         1184\n",
       "YS Chahal         1841\n",
       "Yuvraj Singh       882\n",
       "Z Khan            2276\n",
       "Name: ball, Length: 405, dtype: int64"
      ]
     },
     "execution_count": 129,
     "metadata": {},
     "output_type": "execute_result"
    }
   ],
   "source": [
    "No_of_balls"
   ]
  },
  {
   "cell_type": "code",
   "execution_count": 130,
   "metadata": {},
   "outputs": [],
   "source": [
    "Runs_conc = deliveries.groupby('bowler').sum()['bowler_conceded']"
   ]
  },
  {
   "cell_type": "code",
   "execution_count": 131,
   "metadata": {},
   "outputs": [
    {
     "data": {
      "text/plain": [
       "bowler\n",
       "A Ashish Reddy     396\n",
       "A Chandila         242\n",
       "A Choudhary        144\n",
       "A Dananjaya         48\n",
       "A Flintoff         105\n",
       "                  ... \n",
       "YA Abdulla         307\n",
       "YK Pathan         1415\n",
       "YS Chahal         2366\n",
       "Yuvraj Singh      1078\n",
       "Z Khan            2782\n",
       "Name: bowler_conceded, Length: 405, dtype: int64"
      ]
     },
     "execution_count": 131,
     "metadata": {},
     "output_type": "execute_result"
    }
   ],
   "source": [
    "Runs_conc"
   ]
  },
  {
   "cell_type": "code",
   "execution_count": 132,
   "metadata": {},
   "outputs": [],
   "source": [
    "eco_data = pd.concat([No_of_balls,Runs_conc],axis = 1)"
   ]
  },
  {
   "cell_type": "code",
   "execution_count": 133,
   "metadata": {},
   "outputs": [
    {
     "data": {
      "text/html": [
       "<div>\n",
       "<style scoped>\n",
       "    .dataframe tbody tr th:only-of-type {\n",
       "        vertical-align: middle;\n",
       "    }\n",
       "\n",
       "    .dataframe tbody tr th {\n",
       "        vertical-align: top;\n",
       "    }\n",
       "\n",
       "    .dataframe thead th {\n",
       "        text-align: right;\n",
       "    }\n",
       "</style>\n",
       "<table border=\"1\" class=\"dataframe\">\n",
       "  <thead>\n",
       "    <tr style=\"text-align: right;\">\n",
       "      <th></th>\n",
       "      <th>ball</th>\n",
       "      <th>bowler_conceded</th>\n",
       "    </tr>\n",
       "    <tr>\n",
       "      <th>bowler</th>\n",
       "      <th></th>\n",
       "      <th></th>\n",
       "    </tr>\n",
       "  </thead>\n",
       "  <tbody>\n",
       "    <tr>\n",
       "      <th>A Ashish Reddy</th>\n",
       "      <td>270</td>\n",
       "      <td>396</td>\n",
       "    </tr>\n",
       "    <tr>\n",
       "      <th>A Chandila</th>\n",
       "      <td>234</td>\n",
       "      <td>242</td>\n",
       "    </tr>\n",
       "    <tr>\n",
       "      <th>A Choudhary</th>\n",
       "      <td>108</td>\n",
       "      <td>144</td>\n",
       "    </tr>\n",
       "    <tr>\n",
       "      <th>A Dananjaya</th>\n",
       "      <td>25</td>\n",
       "      <td>48</td>\n",
       "    </tr>\n",
       "    <tr>\n",
       "      <th>A Flintoff</th>\n",
       "      <td>66</td>\n",
       "      <td>105</td>\n",
       "    </tr>\n",
       "  </tbody>\n",
       "</table>\n",
       "</div>"
      ],
      "text/plain": [
       "                ball  bowler_conceded\n",
       "bowler                               \n",
       "A Ashish Reddy   270              396\n",
       "A Chandila       234              242\n",
       "A Choudhary      108              144\n",
       "A Dananjaya       25               48\n",
       "A Flintoff        66              105"
      ]
     },
     "execution_count": 133,
     "metadata": {},
     "output_type": "execute_result"
    }
   ],
   "source": [
    "eco_data.head()"
   ]
  },
  {
   "cell_type": "code",
   "execution_count": 134,
   "metadata": {},
   "outputs": [],
   "source": [
    "eco_data['Economy'] = round((eco_data['bowler_conceded']/eco_data['ball'])*6,1)"
   ]
  },
  {
   "cell_type": "code",
   "execution_count": 135,
   "metadata": {},
   "outputs": [],
   "source": [
    "eco_data = eco_data.sort_values(by = 'Economy')"
   ]
  },
  {
   "cell_type": "code",
   "execution_count": 136,
   "metadata": {},
   "outputs": [
    {
     "data": {
      "text/html": [
       "<div>\n",
       "<style scoped>\n",
       "    .dataframe tbody tr th:only-of-type {\n",
       "        vertical-align: middle;\n",
       "    }\n",
       "\n",
       "    .dataframe tbody tr th {\n",
       "        vertical-align: top;\n",
       "    }\n",
       "\n",
       "    .dataframe thead th {\n",
       "        text-align: right;\n",
       "    }\n",
       "</style>\n",
       "<table border=\"1\" class=\"dataframe\">\n",
       "  <thead>\n",
       "    <tr style=\"text-align: right;\">\n",
       "      <th></th>\n",
       "      <th>ball</th>\n",
       "      <th>bowler_conceded</th>\n",
       "      <th>Economy</th>\n",
       "    </tr>\n",
       "    <tr>\n",
       "      <th>bowler</th>\n",
       "      <th></th>\n",
       "      <th></th>\n",
       "      <th></th>\n",
       "    </tr>\n",
       "  </thead>\n",
       "  <tbody>\n",
       "    <tr>\n",
       "      <th>Sohail Tanvir</th>\n",
       "      <td>265</td>\n",
       "      <td>266</td>\n",
       "      <td>6.0</td>\n",
       "    </tr>\n",
       "    <tr>\n",
       "      <th>L Ngidi</th>\n",
       "      <td>163</td>\n",
       "      <td>169</td>\n",
       "      <td>6.2</td>\n",
       "    </tr>\n",
       "    <tr>\n",
       "      <th>FH Edwards</th>\n",
       "      <td>150</td>\n",
       "      <td>154</td>\n",
       "      <td>6.2</td>\n",
       "    </tr>\n",
       "    <tr>\n",
       "      <th>A Chandila</th>\n",
       "      <td>234</td>\n",
       "      <td>242</td>\n",
       "      <td>6.2</td>\n",
       "    </tr>\n",
       "    <tr>\n",
       "      <th>SMSM Senanayake</th>\n",
       "      <td>195</td>\n",
       "      <td>209</td>\n",
       "      <td>6.4</td>\n",
       "    </tr>\n",
       "    <tr>\n",
       "      <th>SM Pollock</th>\n",
       "      <td>280</td>\n",
       "      <td>301</td>\n",
       "      <td>6.4</td>\n",
       "    </tr>\n",
       "    <tr>\n",
       "      <th>A Kumble</th>\n",
       "      <td>983</td>\n",
       "      <td>1058</td>\n",
       "      <td>6.5</td>\n",
       "    </tr>\n",
       "    <tr>\n",
       "      <th>DW Steyn</th>\n",
       "      <td>2207</td>\n",
       "      <td>2395</td>\n",
       "      <td>6.5</td>\n",
       "    </tr>\n",
       "    <tr>\n",
       "      <th>M Muralitharan</th>\n",
       "      <td>1581</td>\n",
       "      <td>1706</td>\n",
       "      <td>6.5</td>\n",
       "    </tr>\n",
       "    <tr>\n",
       "      <th>GD McGrath</th>\n",
       "      <td>329</td>\n",
       "      <td>357</td>\n",
       "      <td>6.5</td>\n",
       "    </tr>\n",
       "    <tr>\n",
       "      <th>RE van der Merwe</th>\n",
       "      <td>455</td>\n",
       "      <td>498</td>\n",
       "      <td>6.6</td>\n",
       "    </tr>\n",
       "    <tr>\n",
       "      <th>J Yadav</th>\n",
       "      <td>226</td>\n",
       "      <td>247</td>\n",
       "      <td>6.6</td>\n",
       "    </tr>\n",
       "    <tr>\n",
       "      <th>R Ashwin</th>\n",
       "      <td>3016</td>\n",
       "      <td>3337</td>\n",
       "      <td>6.6</td>\n",
       "    </tr>\n",
       "    <tr>\n",
       "      <th>KMDN Kulasekara</th>\n",
       "      <td>107</td>\n",
       "      <td>120</td>\n",
       "      <td>6.7</td>\n",
       "    </tr>\n",
       "    <tr>\n",
       "      <th>R Rampaul</th>\n",
       "      <td>278</td>\n",
       "      <td>309</td>\n",
       "      <td>6.7</td>\n",
       "    </tr>\n",
       "    <tr>\n",
       "      <th>RD Chahar</th>\n",
       "      <td>333</td>\n",
       "      <td>373</td>\n",
       "      <td>6.7</td>\n",
       "    </tr>\n",
       "    <tr>\n",
       "      <th>Rashid Khan</th>\n",
       "      <td>1106</td>\n",
       "      <td>1229</td>\n",
       "      <td>6.7</td>\n",
       "    </tr>\n",
       "    <tr>\n",
       "      <th>DL Vettori</th>\n",
       "      <td>785</td>\n",
       "      <td>878</td>\n",
       "      <td>6.7</td>\n",
       "    </tr>\n",
       "    <tr>\n",
       "      <th>T Thushara</th>\n",
       "      <td>144</td>\n",
       "      <td>161</td>\n",
       "      <td>6.7</td>\n",
       "    </tr>\n",
       "    <tr>\n",
       "      <th>I Sodhi</th>\n",
       "      <td>183</td>\n",
       "      <td>205</td>\n",
       "      <td>6.7</td>\n",
       "    </tr>\n",
       "    <tr>\n",
       "      <th>SP Narine</th>\n",
       "      <td>2600</td>\n",
       "      <td>2884</td>\n",
       "      <td>6.7</td>\n",
       "    </tr>\n",
       "    <tr>\n",
       "      <th>DP Nannes</th>\n",
       "      <td>689</td>\n",
       "      <td>785</td>\n",
       "      <td>6.8</td>\n",
       "    </tr>\n",
       "    <tr>\n",
       "      <th>Mohammad Nabi</th>\n",
       "      <td>271</td>\n",
       "      <td>306</td>\n",
       "      <td>6.8</td>\n",
       "    </tr>\n",
       "    <tr>\n",
       "      <th>MA Starc</th>\n",
       "      <td>612</td>\n",
       "      <td>693</td>\n",
       "      <td>6.8</td>\n",
       "    </tr>\n",
       "    <tr>\n",
       "      <th>CK Langeveldt</th>\n",
       "      <td>165</td>\n",
       "      <td>187</td>\n",
       "      <td>6.8</td>\n",
       "    </tr>\n",
       "    <tr>\n",
       "      <th>J Botha</th>\n",
       "      <td>709</td>\n",
       "      <td>800</td>\n",
       "      <td>6.8</td>\n",
       "    </tr>\n",
       "    <tr>\n",
       "      <th>M Ntini</th>\n",
       "      <td>213</td>\n",
       "      <td>242</td>\n",
       "      <td>6.8</td>\n",
       "    </tr>\n",
       "    <tr>\n",
       "      <th>SL Malinga</th>\n",
       "      <td>2974</td>\n",
       "      <td>3390</td>\n",
       "      <td>6.8</td>\n",
       "    </tr>\n",
       "    <tr>\n",
       "      <th>Harbhajan Singh</th>\n",
       "      <td>3451</td>\n",
       "      <td>3979</td>\n",
       "      <td>6.9</td>\n",
       "    </tr>\n",
       "    <tr>\n",
       "      <th>AD Mascarenhas</th>\n",
       "      <td>310</td>\n",
       "      <td>356</td>\n",
       "      <td>6.9</td>\n",
       "    </tr>\n",
       "  </tbody>\n",
       "</table>\n",
       "</div>"
      ],
      "text/plain": [
       "                  ball  bowler_conceded  Economy\n",
       "bowler                                          \n",
       "Sohail Tanvir      265              266      6.0\n",
       "L Ngidi            163              169      6.2\n",
       "FH Edwards         150              154      6.2\n",
       "A Chandila         234              242      6.2\n",
       "SMSM Senanayake    195              209      6.4\n",
       "SM Pollock         280              301      6.4\n",
       "A Kumble           983             1058      6.5\n",
       "DW Steyn          2207             2395      6.5\n",
       "M Muralitharan    1581             1706      6.5\n",
       "GD McGrath         329              357      6.5\n",
       "RE van der Merwe   455              498      6.6\n",
       "J Yadav            226              247      6.6\n",
       "R Ashwin          3016             3337      6.6\n",
       "KMDN Kulasekara    107              120      6.7\n",
       "R Rampaul          278              309      6.7\n",
       "RD Chahar          333              373      6.7\n",
       "Rashid Khan       1106             1229      6.7\n",
       "DL Vettori         785              878      6.7\n",
       "T Thushara         144              161      6.7\n",
       "I Sodhi            183              205      6.7\n",
       "SP Narine         2600             2884      6.7\n",
       "DP Nannes          689              785      6.8\n",
       "Mohammad Nabi      271              306      6.8\n",
       "MA Starc           612              693      6.8\n",
       "CK Langeveldt      165              187      6.8\n",
       "J Botha            709              800      6.8\n",
       "M Ntini            213              242      6.8\n",
       "SL Malinga        2974             3390      6.8\n",
       "Harbhajan Singh   3451             3979      6.9\n",
       "AD Mascarenhas     310              356      6.9"
      ]
     },
     "execution_count": 136,
     "metadata": {},
     "output_type": "execute_result"
    }
   ],
   "source": [
    "eco_data[eco_data['ball'] > 100][:30]"
   ]
  },
  {
   "cell_type": "code",
   "execution_count": null,
   "metadata": {},
   "outputs": [],
   "source": []
  }
 ],
 "metadata": {
  "kernelspec": {
   "display_name": "Python 3",
   "language": "python",
   "name": "python3"
  },
  "language_info": {
   "codemirror_mode": {
    "name": "ipython",
    "version": 3
   },
   "file_extension": ".py",
   "mimetype": "text/x-python",
   "name": "python",
   "nbconvert_exporter": "python",
   "pygments_lexer": "ipython3",
   "version": "3.8.5"
  }
 },
 "nbformat": 4,
 "nbformat_minor": 4
}
